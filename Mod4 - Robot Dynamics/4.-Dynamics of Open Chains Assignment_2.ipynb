{
 "cells": [
  {
   "cell_type": "code",
   "execution_count": 1,
   "metadata": {},
   "outputs": [],
   "source": [
    "import math\n",
    "import numpy as np\n",
    "import modern_robotics as mr\n",
    "pi=math.pi"
   ]
  },
  {
   "cell_type": "markdown",
   "metadata": {},
   "source": [
    "**1. A robot system (UR5) is defined as:**"
   ]
  },
  {
   "cell_type": "code",
   "execution_count": 2,
   "metadata": {},
   "outputs": [
    {
     "name": "stdout",
     "output_type": "stream",
     "text": [
      "M01:\n",
      "[[1.       0.       0.       0.      ]\n",
      " [0.       1.       0.       0.      ]\n",
      " [0.       0.       1.       0.089159]\n",
      " [0.       0.       0.       1.      ]]\n",
      "\n",
      "M12:\n",
      "[[ 0.       0.       1.       0.28   ]\n",
      " [ 0.       1.       0.       0.13585]\n",
      " [-1.       0.       0.       0.     ]\n",
      " [ 0.       0.       0.       1.     ]]\n",
      "\n",
      "M23:\n",
      "[[ 1.      0.      0.      0.    ]\n",
      " [ 0.      1.      0.     -0.1197]\n",
      " [ 0.      0.      1.      0.395 ]\n",
      " [ 0.      0.      0.      1.    ]]\n",
      "\n",
      "M34:\n",
      "[[ 0.       0.       1.       0.     ]\n",
      " [ 0.       1.       0.       0.     ]\n",
      " [-1.       0.       0.       0.14225]\n",
      " [ 0.       0.       0.       1.     ]]\n",
      "\n",
      "M45:\n",
      "[[1.    0.    0.    0.   ]\n",
      " [0.    1.    0.    0.093]\n",
      " [0.    0.    1.    0.   ]\n",
      " [0.    0.    0.    1.   ]]\n",
      "\n",
      "M56:\n",
      "[[1.      0.      0.      0.     ]\n",
      " [0.      1.      0.      0.     ]\n",
      " [0.      0.      1.      0.09465]\n",
      " [0.      0.      0.      1.     ]]\n",
      "\n",
      "M67:\n",
      "[[ 1.      0.      0.      0.    ]\n",
      " [ 0.      0.      1.      0.0823]\n",
      " [ 0.     -1.      0.      0.    ]\n",
      " [ 0.      0.      0.      1.    ]]\n"
     ]
    }
   ],
   "source": [
    "M01=np.array([[1, 0, 0, 0],\n",
    "              [0, 1, 0, 0],\n",
    "              [0, 0, 1, 0.089159],\n",
    "              [0, 0, 0, 1]])\n",
    "\n",
    "M12=np.array([[0,0,1,0.28],\n",
    "              [0,1,0,0.13585],\n",
    "              [-1,0,0,0],\n",
    "              [0,0,0,1]])\n",
    "\n",
    "M23=np.array([[1,0,0,0],\n",
    "              [0,1,0,-0.1197],\n",
    "              [0,0,1,0.395],\n",
    "              [0,0,0,1]])\n",
    "\n",
    "M34=np.array([[0,0,1,0],\n",
    "              [0,1,0,0],\n",
    "              [-1,0,0,0.14225],\n",
    "              [0,0,0,1]])\n",
    "\n",
    "M45=np.array([[1,0,0,0],\n",
    "              [0,1,0,0.093],\n",
    "              [0,0,1,0],\n",
    "              [0,0,0,1]])\n",
    "\n",
    "M56=np.array([[1,0,0,0],\n",
    "              [0,1,0,0],\n",
    "              [0,0,1,0.09465],\n",
    "              [0,0,0,1]])\n",
    "\n",
    "M67=np.array([[1,0,0,0],\n",
    "              [0,0,1,0.0823],\n",
    "              [0,-1,0,0],\n",
    "              [0,0,0,1]])\n",
    "\n",
    "Mlist=np.array([M01, M12, M23, M34, M45, M56, M67])\n",
    "\n",
    "print('M01:\\n{}\\n\\nM12:\\n{}\\n\\nM23:\\n{}\\n\\nM34:\\n{}\\n\\nM45:\\n{}\\n\\nM56:\\n{}\\n\\nM67:\\n{}'\n",
    "      .format(M01,M12,M23,M34,M45,M56,M67))"
   ]
  },
  {
   "cell_type": "code",
   "execution_count": 3,
   "metadata": {},
   "outputs": [
    {
     "name": "stdout",
     "output_type": "stream",
     "text": [
      "Spatial Inertia Matrix of Link 1: \n",
      " [[0.01026749 0.         0.         0.         0.         0.        ]\n",
      " [0.         0.01026749 0.         0.         0.         0.        ]\n",
      " [0.         0.         0.00666    0.         0.         0.        ]\n",
      " [0.         0.         0.         3.7        0.         0.        ]\n",
      " [0.         0.         0.         0.         3.7        0.        ]\n",
      " [0.         0.         0.         0.         0.         3.7       ]]\n",
      "\n",
      "Spatial Inertia Matrix of Link 2: \n",
      " [[0.22689   0.        0.        0.        0.        0.       ]\n",
      " [0.        0.22689   0.        0.        0.        0.       ]\n",
      " [0.        0.        0.0151074 0.        0.        0.       ]\n",
      " [0.        0.        0.        8.393     0.        0.       ]\n",
      " [0.        0.        0.        0.        8.393     0.       ]\n",
      " [0.        0.        0.        0.        0.        8.393    ]]\n",
      "\n",
      "Spatial Inertia Matrix of Link 3: \n",
      " [[0.0494433 0.        0.        0.        0.        0.       ]\n",
      " [0.        0.0494433 0.        0.        0.        0.       ]\n",
      " [0.        0.        0.004095  0.        0.        0.       ]\n",
      " [0.        0.        0.        2.275     0.        0.       ]\n",
      " [0.        0.        0.        0.        2.275     0.       ]\n",
      " [0.        0.        0.        0.        0.        2.275    ]]\n",
      "\n",
      "Spatial Inertia Matrix of Link 4: \n",
      " [[0.1111727 0.        0.        0.        0.        0.       ]\n",
      " [0.        0.1111727 0.        0.        0.        0.       ]\n",
      " [0.        0.        0.21942   0.        0.        0.       ]\n",
      " [0.        0.        0.        1.219     0.        0.       ]\n",
      " [0.        0.        0.        0.        1.219     0.       ]\n",
      " [0.        0.        0.        0.        0.        1.219    ]]\n",
      "\n",
      "Spatial Inertia Matrix of Link 5: \n",
      " [[0.1111727 0.        0.        0.        0.        0.       ]\n",
      " [0.        0.1111727 0.        0.        0.        0.       ]\n",
      " [0.        0.        0.21942   0.        0.        0.       ]\n",
      " [0.        0.        0.        1.219     0.        0.       ]\n",
      " [0.        0.        0.        0.        1.219     0.       ]\n",
      " [0.        0.        0.        0.        0.        1.219    ]]\n",
      "\n",
      "Spatial Inertia Matrix of Link 6: \n",
      " [[0.017136 0.       0.       0.       0.       0.      ]\n",
      " [0.       0.017136 0.       0.       0.       0.      ]\n",
      " [0.       0.       0.033822 0.       0.       0.      ]\n",
      " [0.       0.       0.       0.1879   0.       0.      ]\n",
      " [0.       0.       0.       0.       0.1879   0.      ]\n",
      " [0.       0.       0.       0.       0.       0.1879  ]]\n"
     ]
    }
   ],
   "source": [
    "G1=np.diag([0.01026749,0.01026749,0.00666,3.7,3.7,3.7])\n",
    "G2=np.diag([0.22689,0.22689,0.0151074,8.393,8.393,8.393])\n",
    "G3=np.diag([0.0494433,0.0494433,0.004095,2.275,2.275,2.275])\n",
    "G4=np.diag([0.1111727,0.1111727,0.21942,1.219,1.219,1.219])\n",
    "G5=np.diag([0.1111727,0.1111727,0.21942,1.219,1.219,1.219])\n",
    "G6=np.diag([0.017136,0.017136,0.033822,0.1879,0.1879,0.1879])\n",
    "Glist = np.array([G1, G2, G3, G4, G5, G6])\n",
    "\n",
    "print('Spatial Inertia Matrix of Link 1: \\n', G1)\n",
    "print('\\nSpatial Inertia Matrix of Link 2: \\n', G2)\n",
    "print('\\nSpatial Inertia Matrix of Link 3: \\n', G3)\n",
    "print('\\nSpatial Inertia Matrix of Link 4: \\n', G4)\n",
    "print('\\nSpatial Inertia Matrix of Link 5: \\n', G5)\n",
    "print('\\nSpatial Inertia Matrix of Link 6: \\n', G6)"
   ]
  },
  {
   "cell_type": "code",
   "execution_count": 4,
   "metadata": {},
   "outputs": [
    {
     "name": "stdout",
     "output_type": "stream",
     "text": [
      "Screw axes of the Joints: \n",
      " [[ 0.        0.        0.        0.        0.        0.      ]\n",
      " [ 0.        1.        1.        1.        0.        1.      ]\n",
      " [ 1.        0.        0.        0.       -1.        0.      ]\n",
      " [ 0.       -0.089159 -0.089159 -0.089159 -0.10915   0.005491]\n",
      " [ 0.        0.        0.        0.        0.81725   0.      ]\n",
      " [ 0.        0.        0.425     0.81725   0.        0.81725 ]]\n"
     ]
    }
   ],
   "source": [
    "SList=np.array([[0,0,0,0,0,0],\n",
    "                [0,1,1,1,0,1],\n",
    "                [1,0,0,0,-1,0],\n",
    "                [0,-0.089159,-0.089159,-0.089159,-0.10915,0.005491],\n",
    "                [0,0,0,0,0.81725,0],\n",
    "                [0,0,0.425,0.81725,0,0.81725]])\n",
    "\n",
    "print('Screw axes of the Joints: \\n',SList)"
   ]
  },
  {
   "cell_type": "code",
   "execution_count": 5,
   "metadata": {},
   "outputs": [
    {
     "name": "stdout",
     "output_type": "stream",
     "text": [
      "Given:\n",
      "Joint positions: \n",
      " [0.         0.52359878 0.78539816 1.04719755 1.57079633 2.0943951 ]\n",
      "\n",
      "Joint velocities: \n",
      " [0.2 0.2 0.2 0.2 0.2 0.2]\n",
      "\n",
      "Joint accelerations: \n",
      " [0.1 0.1 0.1 0.1 0.1 0.1]\n",
      "\n",
      "Gravity Vector: \n",
      " [ 0.    0.   -9.81]\n",
      "\n",
      "Spatial force applied by the end-effector: \n",
      " [0.1 0.1 0.1 0.1 0.1 0.1]\n"
     ]
    }
   ],
   "source": [
    "thetalist=np.array([0,pi/6,pi/4,pi/3,pi/2,2*pi/3])\n",
    "dthetalist=np.array([0.2,0.2,0.2,0.2,0.2,0.2])\n",
    "ddthetalist=np.array([0.1,0.1,0.1,0.1,0.1,0.1])\n",
    "g=np.array([0,0,-9.81])\n",
    "Ftip=np.array([0.1,0.1,0.1,0.1,0.1,0.1])\n",
    "\n",
    "print(\"Given:\")\n",
    "print('Joint positions: \\n',thetalist)\n",
    "print('\\nJoint velocities: \\n',dthetalist)\n",
    "print('\\nJoint accelerations: \\n',ddthetalist)\n",
    "print('\\nGravity Vector: \\n', g)\n",
    "print('\\nSpatial force applied by the end-effector: \\n', Ftip)"
   ]
  },
  {
   "cell_type": "markdown",
   "metadata": {},
   "source": [
    "**Calculate the Inertia Matrix**"
   ]
  },
  {
   "cell_type": "code",
   "execution_count": 6,
   "metadata": {},
   "outputs": [
    {
     "name": "stdout",
     "output_type": "stream",
     "text": [
      "Mass Matrix of the UR5 open-chain robot: \n",
      " [[ 2.198  0.272  0.068 -0.006  0.17  -0.012]\n",
      " [ 0.272  3.554  1.31   0.24  -0.007  0.   ]\n",
      " [ 0.068  1.31   0.837  0.248 -0.007  0.   ]\n",
      " [-0.006  0.24   0.248  0.254 -0.007  0.   ]\n",
      " [ 0.17  -0.007 -0.007 -0.007  0.241  0.   ]\n",
      " [-0.012  0.     0.     0.     0.     0.017]]\n"
     ]
    }
   ],
   "source": [
    "#Calculate the Mass M(theta)\n",
    "\n",
    "M=mr.MassMatrix(thetalist,Mlist,Glist,SList)\n",
    "M=np.around(M,decimals=3)\n",
    "print(\"Mass Matrix of the UR5 open-chain robot: \\n\",M)"
   ]
  },
  {
   "cell_type": "markdown",
   "metadata": {},
   "source": [
    "**2. Calculate the Coriolis and Centripetal Terms**"
   ]
  },
  {
   "cell_type": "code",
   "execution_count": 7,
   "metadata": {},
   "outputs": [
    {
     "name": "stdout",
     "output_type": "stream",
     "text": [
      "Coriolis and Centripetal Terms: \n",
      " [-0.117 -0.011  0.032 -0.015  0.023  0.003]\n"
     ]
    }
   ],
   "source": [
    "#Calculate h(theta,dot{theta})\n",
    "\n",
    "C=mr.VelQuadraticForces(thetalist,dthetalist,Mlist,Glist,SList)\n",
    "C=np.around(C,decimals=3)\n",
    "print('Coriolis and Centripetal Terms: \\n',C)"
   ]
  },
  {
   "cell_type": "markdown",
   "metadata": {},
   "source": [
    "**3. Calculate the joint forces/torques required to overcome gravity.**"
   ]
  },
  {
   "cell_type": "code",
   "execution_count": 8,
   "metadata": {},
   "outputs": [
    {
     "name": "stdout",
     "output_type": "stream",
     "text": [
      "Joint Forces/Torques the robot requires to overcome gravity at its configuration: \n",
      " [  0.    -41.597  -3.936   0.123   0.      0.   ]\n"
     ]
    }
   ],
   "source": [
    "#Calculate gravity constraints\n",
    "\n",
    "G=mr.GravityForces(thetalist,g,Mlist,Glist,SList)\n",
    "G=np.around(G,decimals=3)\n",
    "print('Joint Forces/Torques the robot requires to overcome gravity at its configuration: \\n',G)"
   ]
  },
  {
   "cell_type": "markdown",
   "metadata": {},
   "source": [
    "**4. Calculate the joint forces/torques required to generate the wrench $\\mathcal{F}_{tip}$**"
   ]
  },
  {
   "cell_type": "code",
   "execution_count": 9,
   "metadata": {},
   "outputs": [
    {
     "name": "stdout",
     "output_type": "stream",
     "text": [
      "Joint Forces/Torques the robot requires to create the end-effector force Ftip: \n",
      " [-0.139 -0.077 -0.122 -0.149 -0.025  0.1  ]\n"
     ]
    }
   ],
   "source": [
    "#Calculate the force needed to create Ftip\n",
    "\n",
    "EEF=mr.EndEffectorForces(thetalist,Ftip,Mlist,Glist,SList)\n",
    "EEF=np.around(EEF,decimals=3)\n",
    "print('Joint Forces/Torques the robot requires to create the end-effector force Ftip: \\n',EEF)"
   ]
  },
  {
   "cell_type": "markdown",
   "metadata": {},
   "source": [
    "**5. For the same robot system and condition plus the known joint forces/torques**"
   ]
  },
  {
   "cell_type": "code",
   "execution_count": 10,
   "metadata": {},
   "outputs": [
    {
     "name": "stdout",
     "output_type": "stream",
     "text": [
      "Tau:\n",
      "[ 1.3000e-02 -4.1148e+01 -3.7810e+00  3.2000e-02  3.7000e-02  1.0300e-01]\n"
     ]
    }
   ],
   "source": [
    "taulist=np.array([0.0128,-41.1477,-3.7809,0.0323,0.037,0.1034])\n",
    "\n",
    "print('Tau:\\n{}'.format(np.round(taulist, decimals=3)))"
   ]
  },
  {
   "cell_type": "markdown",
   "metadata": {},
   "source": [
    "**Find the joint acceleration.**"
   ]
  },
  {
   "cell_type": "code",
   "execution_count": 11,
   "metadata": {},
   "outputs": [
    {
     "name": "stdout",
     "output_type": "stream",
     "text": [
      "Forward Dynamics in the Space Frame: \n",
      " [0.1   0.1   0.1   0.1   0.1   0.102]\n"
     ]
    }
   ],
   "source": [
    "FD=mr.ForwardDynamics(thetalist,dthetalist,taulist,g,Ftip,Mlist,Glist,SList)\n",
    "FD=np.around(FD,decimals=3)\n",
    "print('Forward Dynamics in the Space Frame: \\n',FD)"
   ]
  },
  {
   "cell_type": "markdown",
   "metadata": {},
   "source": [
    "**6. Assume that the inertia of a revolute motor's robot about its central axis is $0.005kg*m^2$. The motor is attached to a zero-inertia 200:1 gearhead if you grab the gearhead output and spin it by hand, what is the inertia you feel?**"
   ]
  },
  {
   "cell_type": "markdown",
   "metadata": {},
   "source": [
    "**R:** 200 $kg*m^2$"
   ]
  }
 ],
 "metadata": {
  "kernelspec": {
   "display_name": "Python 3",
   "language": "python",
   "name": "python3"
  },
  "language_info": {
   "codemirror_mode": {
    "name": "ipython",
    "version": 3
   },
   "file_extension": ".py",
   "mimetype": "text/x-python",
   "name": "python",
   "nbconvert_exporter": "python",
   "pygments_lexer": "ipython3",
   "version": "3.8.5"
  }
 },
 "nbformat": 4,
 "nbformat_minor": 4
}
