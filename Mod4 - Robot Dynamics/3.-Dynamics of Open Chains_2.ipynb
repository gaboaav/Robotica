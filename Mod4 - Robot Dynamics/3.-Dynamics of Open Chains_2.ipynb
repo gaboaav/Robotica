{
 "cells": [
  {
   "cell_type": "markdown",
   "metadata": {},
   "source": [
    "## Forward Dynamics of Open Chains"
   ]
  },
  {
   "cell_type": "markdown",
   "metadata": {},
   "source": [
    "For forward dynamics problem involves solving:"
   ]
  },
  {
   "cell_type": "markdown",
   "metadata": {},
   "source": [
    "<center>$M(\\theta)\\ddot{\\theta}=\\tau(t)-h(\\theta,\\dot{\\theta})-J^T(\\theta)F_{tip}$</center>"
   ]
  },
  {
   "cell_type": "markdown",
   "metadata": {},
   "source": [
    "for $\\ddot{\\theta}$, given $\\theta,\\dot{\\theta},\\tau,$ and the wrench $F_{tip}$ applied by the end-effector. The term $h(\\theta,\\dot{\\theta})$ can be computed by calling the inverse dynamics algorithm with $\\ddot{\\theta}=0$ and $F_{tip}=0$. An alternative is to use \"n\" calls of the inverse dynamics algorithm to build $M(\\theta)$ column by column. In each of the \"n\" calls, set g=0, $\\dot{\\theta}=0$ and $F_{tip}=0$. In the first call, the column vector $\\ddot{\\theta}$ is all zeros except for a 1 in the first row. In the second call, $\\ddot{\\theta}$ is all zeros excepet for a 1 un the second row, and so on. The \"$\\tau$\" vector returned by the \"ith\" column of $M(\\theta)$, and after \"n\" calls the nxn matrix $M(\\theta)$ is constructed."
   ]
  },
  {
   "cell_type": "markdown",
   "metadata": {},
   "source": [
    "With $M(\\theta),h(\\theta,\\dot{\\theta})$ and $F_{tip}$ we can use any efficient algorithm for solving \"$M(\\theta)\\ddot{\\theta}=\\tau(t)-h(\\theta,\\dot{\\theta})-J^T(\\theta)F_{tip}$\", which is of the form $M\\ddot{\\theta}=b$, for $\\ddot{\\theta}$."
   ]
  },
  {
   "cell_type": "markdown",
   "metadata": {},
   "source": [
    "The forward dynamics can be used to simulate the motion of the robot given its initial state, the joint force-torques $\\tau(t)$, and an optional external wrench $F_{tip}(t)$, for $\"t\" \\in [0,t_f]$."
   ]
  },
  {
   "cell_type": "markdown",
   "metadata": {},
   "source": [
    "<center>$\\ddot{\\theta}=ForwardDynamics(\\theta,\\dot{\\theta},\\tau, F_{tip})$</center>"
   ]
  },
  {
   "cell_type": "markdown",
   "metadata": {},
   "source": [
    "Defining the variables $q_1=\\theta,q_2=\\dot{\\theta}$"
   ]
  },
  {
   "cell_type": "markdown",
   "metadata": {},
   "source": [
    "<center>$\\ddot{\\theta}=ForwardDynamics(q_1,q_2,\\tau, F_{tip})$</center>"
   ]
  },
  {
   "cell_type": "markdown",
   "metadata": {},
   "source": [
    "### Euler Integration Algorithm for Forward Dynamics"
   ]
  },
  {
   "cell_type": "markdown",
   "metadata": {},
   "source": [
    "**Inputs:** The initial conditions $\\theta(0)$ and $\\dot{\\theta}$, the input torques $\\tau(t)$ and wrenches at the end-effector $F_{tip}(t)$ for $t \\in [0, t_f]$, and the number of integration steps \"N\"."
   ]
  },
  {
   "cell_type": "markdown",
   "metadata": {},
   "source": [
    "**Initialization:** Set the timestep $\\delta t=t_f/N$, and set $\\theta[0]=\\theta(0)$, $\\dot{\\theta}[0]=\\dot{\\theta}(0)$."
   ]
  },
  {
   "cell_type": "markdown",
   "metadata": {},
   "source": [
    "**Iteration:** For k=0 to N-1 do:"
   ]
  },
  {
   "cell_type": "markdown",
   "metadata": {},
   "source": [
    "<center>\n",
    "    $\\ddot{\\theta}[k]=ForwardDynamics(\\theta[k],\\dot{\\theta}[k],\\tau(k\\delta t), F_{tip}(k\\delta t))$<br><br>\n",
    "    $\\theta[k+1]=\\theta[k]+\\dot{\\theta}[k]\\delta t$<br><br>\n",
    "    $\\dot{\\theta}[k+1]=\\dot{\\theta}[k]+\\ddot{\\theta}[k]\\delta t$\n",
    "</center>"
   ]
  },
  {
   "cell_type": "markdown",
   "metadata": {},
   "source": [
    "**Output:** The joint trajectory $\\theta(k\\delta t)=\\theta[k],\\dot{\\theta}(k \\delta t)=\\dot{\\theta}[k], k=0,...,N$"
   ]
  },
  {
   "cell_type": "markdown",
   "metadata": {},
   "source": [
    "## Dynamics in the Task Space"
   ]
  },
  {
   "cell_type": "markdown",
   "metadata": {},
   "source": [
    "Consider a 6DOF open-chain with joint-space dynamics:"
   ]
  },
  {
   "cell_type": "markdown",
   "metadata": {},
   "source": [
    "<center>$\\tau=M(\\theta)\\ddot{\\theta}+h(\\theta,\\dot{\\theta})\\;;\\; \\theta \\in R^6\\;,\\; \\tau \\in R^6$</center>"
   ]
  },
  {
   "cell_type": "markdown",
   "metadata": {},
   "source": [
    "We also ignore, for the time being, any end-effector forces $F_{tip}$. The twist $V=(w,v)$ of the end-effector is related to the joint velocity $\\dot{\\theta}$ by"
   ]
  },
  {
   "cell_type": "markdown",
   "metadata": {},
   "source": [
    "<center>$V=J(\\theta)\\dot{\\theta}$</center>"
   ]
  },
  {
   "cell_type": "markdown",
   "metadata": {},
   "source": [
    "with the understanding that $V$ and $J(\\theta)$ are always expressed in terms of the same reference frame. The time derivative $\\dot{V}$ is then, "
   ]
  },
  {
   "cell_type": "markdown",
   "metadata": {},
   "source": [
    "<center>$\\dot{V}=\\dot{J}(\\theta)\\dot{\\theta}+J(\\theta)\\ddot{\\theta}$</center>"
   ]
  },
  {
   "cell_type": "markdown",
   "metadata": {},
   "source": [
    "At configurations $\\theta$ where $J(\\theta)$ is invertible, we have:"
   ]
  },
  {
   "cell_type": "markdown",
   "metadata": {},
   "source": [
    "<center>\n",
    "    $\\dot{\\theta}=J^{-1}V$<br><br>\n",
    "    $\\ddot{\\theta}=J^{-1}\\dot{V}-J^{-1}\\dot{J}J^{-1}V$\n",
    "</center>"
   ]
  },
  {
   "cell_type": "markdown",
   "metadata": {},
   "source": [
    "Substituting for $\\dot{\\theta}$ and $\\ddot{\\theta}$ leads to:"
   ]
  },
  {
   "cell_type": "markdown",
   "metadata": {},
   "source": [
    "<center>\n",
    "    $\\tau=M(\\theta)(J^{-1}\\dot{V}-J^{-1}\\dot{J}J^{-1}V)+h(\\theta,J^{-1}V)$<br><br>\n",
    "    $\\mathcal{F}=\\Delta(\\theta)\\dot{V}+(\\theta,V)$<br><br>\n",
    "    $\\Delta(\\theta)=J^{-T}M(\\theta)J^{-1}$<br><br>\n",
    "    $n(\\theta, V)=J^{-T}h(\\theta, J^{-1}V)-\\Delta(\\theta)\\dot{J}J^{-1}V$\n",
    "</center>"
   ]
  },
  {
   "cell_type": "markdown",
   "metadata": {},
   "source": [
    "These are the dynamics equations expressed in end-effector frame coordinates. If an external wrench F is applied to the end-effector frame then, assuming the actuators provide zero forces and torques, the motion of the end-effector frame is governed by these equations."
   ]
  },
  {
   "cell_type": "markdown",
   "metadata": {},
   "source": [
    "## Constrained Dynamics"
   ]
  },
  {
   "cell_type": "markdown",
   "metadata": {},
   "source": [
    "Now consider the case where the n-joint robot is subject to a set of \"k\" holonomic or nonholonomic. Pfaffian velocity constraints of the form"
   ]
  },
  {
   "cell_type": "markdown",
   "metadata": {},
   "source": [
    "<center>$\\mathcal{A}(\\theta)\\dot{\\theta}=0 \\;;\\; \\mathcal{A}(\\theta) \\in R^{kxn}$</center>"
   ]
  },
  {
   "cell_type": "markdown",
   "metadata": {},
   "source": [
    "Such constraints can come from loop-closure constraints. We assume that the constraints do not work on the robot, the generalized forces $\\tau_{con}$ due to constraints satisfy \"$\\tau_{con}^T\\dot{\\theta}=0$\"."
   ]
  },
  {
   "cell_type": "markdown",
   "metadata": {},
   "source": [
    "This assumption means that $\\tau_{con}$ must be a linear combination of the columns of $\\mathcal{A}^T(\\theta)$, \"$\\tau_{con}=\\mathcal{A}^T(\\theta)\\lambda$\" for somo $\\lambda \\in R^n$, since these are the generalized forces that do not work when $\\dot{\\theta}$ is subject to the constraints:"
   ]
  },
  {
   "cell_type": "markdown",
   "metadata": {},
   "source": [
    "<center>$(\\mathcal{A}^T(\\theta)\\lambda)^T\\dot{\\theta}=\\lambda^T\\mathcal{A}(\\theta)\\dot{\\theta}=0\\;\\;\\;$ for all $\\lambda \\in R^k$</center>"
   ]
  },
  {
   "cell_type": "markdown",
   "metadata": {},
   "source": [
    "Adding the constraint forces $\\mathcal{A}^T(\\theta)\\lambda$ to the equations of motion, we can write the \"n+k\" constrained equations of motion"
   ]
  },
  {
   "cell_type": "markdown",
   "metadata": {},
   "source": [
    "<center>$\\tau=M(\\theta)\\ddot{\\theta}+h(\\theta,\\dot{\\theta})+\\mathcal{A}^T(\\theta)\\lambda\\;\\;;\\;\\;\\mathcal{A}(\\theta)\\dot{\\theta}=0$</center>"
   ]
  },
  {
   "cell_type": "markdown",
   "metadata": {},
   "source": [
    "where \"$\\lambda$\" is a set of Lagrange multiplierss and \"$\\mathcal{A}^T(\\theta)\\lambda$\" are the forces applied against the constraints as expressed as joint forces and torques. From these equations, it should be clear that the robot has \"n-k\" velocity freedoms and K \"force freedoms\" - the constraints allow the robot to create any generalized force of the form \"$\\mathcal{A}^T(\\theta)\\lambda$\", independent of the robot's motion."
   ]
  },
  {
   "cell_type": "markdown",
   "metadata": {},
   "source": [
    "Since the constraints \"$\\mathcal{A}(\\theta)\\dot{\\theta}=0$\" are satisfied at all times, the time rate of change of the constraints satisfies:"
   ]
  },
  {
   "cell_type": "markdown",
   "metadata": {},
   "source": [
    "<center>$\\dot{\\mathcal{A}}(\\theta)\\dot{\\theta}+\\mathcal{A}(\\theta)\\ddot{\\theta}=0$</center>"
   ]
  },
  {
   "cell_type": "markdown",
   "metadata": {},
   "source": [
    "Assuming that $M(\\theta)$ and $\\mathcal{A}(\\theta)$ are all full rank, we can solve it for $\\ddot{\\theta}$ as:"
   ]
  },
  {
   "cell_type": "markdown",
   "metadata": {},
   "source": [
    "<center>\n",
    "    $\\ddot{\\theta}=M^{-1}(\\theta)(\\tau - h(\\theta,\\dot{\\theta})-\\mathcal{A}^T(\\theta)\\lambda)$<br><br>\n",
    "    $\\dot{\\mathcal{A}}\\dot{\\theta}+\\mathcal{A}M^{-1}(\\tau-h-\\mathcal{A}^T\\lambda)=0$<br><br>\n",
    "    $\\lambda=(\\mathcal{A}M^{-1}\\mathcal{A}^T)^{-1}(\\mathcal{A}M^{-1}(\\tau-h)+\\dot{\\mathcal{A}}\\dot{\\theta})$\n",
    "</center>"
   ]
  },
  {
   "cell_type": "markdown",
   "metadata": {},
   "source": [
    "The constraint force depends on both \"$\\tau$\" and the state."
   ]
  },
  {
   "cell_type": "markdown",
   "metadata": {},
   "source": [
    "\"$\\tau=M(\\theta)\\ddot{\\theta}+h(\\theta,\\dot{\\theta})+\\mathcal{A}^T(\\theta)\\lambda$\" can be used directly to solve the constrained inverse dynamics for \"$\\tau$\" given \"$\\lambda$\" and a \"$\\ddot{\\theta}$\" chosen from the (n-k)-dimensional space of accelerations satisfying \"$\\ddot{\\theta}=M^{-1}(\\theta)(\\tau-h(\\theta,\\dot{\\theta})-\\mathcal{A}^T(\\theta)\\lambda)$\". If the constraint acts at the end-effector of the robot, \"$\\lambda$\" is related to the wrench the end-effector applies to the constraints by"
   ]
  },
  {
   "cell_type": "markdown",
   "metadata": {},
   "source": [
    "<center>$J^T(\\theta)\\mathcal{F}_{tip}=\\mathcal{A}^T(\\theta)\\lambda$</center>"
   ]
  },
  {
   "cell_type": "markdown",
   "metadata": {},
   "source": [
    "where $J(\\theta)$ is the Jacobian satisfying $\\mathcal{V}=J(\\theta)\\dot{\\theta}$. If $J(\\theta)$ is invertible, then \"$\\mathcal{F}_{tip}=J^{-1}(\\theta)\\mathcal{A}^T(\\theta)\\lambda$\". In hybrid motion-force control, where the objective is to control the motion tangent to the constraints and the wrench against the constraints, the requested wrench $\\mathcal{F}_b$ must lie in the column space of \"$J^{-T}(\\theta)\\mathcal{A}^T(\\theta)$\", and the Lagrange multipliers are \"$\\lambda=(J^{-1}(\\theta)\\mathcal{A}^T(\\theta))^{\\dagger}\\mathcal{F}_d$\"."
   ]
  },
  {
   "cell_type": "markdown",
   "metadata": {},
   "source": [
    "## Actuation, Gearing and Friction"
   ]
  },
  {
   "cell_type": "markdown",
   "metadata": {},
   "source": [
    "Until now we have been assumming the existence of actuators that directly provide commanded forces and torques. In practice there are many types of actuators and mechanical power transformers, and the actuators can be located at the joints themselves or remotely, with mechanical power transmitted by cables or timing belts. Each combination of these has its own characteristics that can play a significant role in the \"extended dynamics\" mapping the actual control inputs to the motion of the robot."
   ]
  },
  {
   "cell_type": "markdown",
   "metadata": {},
   "source": [
    "<img src='img/Img2.png'>"
   ]
  }
 ],
 "metadata": {
  "kernelspec": {
   "display_name": "Python 3",
   "language": "python",
   "name": "python3"
  },
  "language_info": {
   "codemirror_mode": {
    "name": "ipython",
    "version": 3
   },
   "file_extension": ".py",
   "mimetype": "text/x-python",
   "name": "python",
   "nbconvert_exporter": "python",
   "pygments_lexer": "ipython3",
   "version": "3.8.5"
  }
 },
 "nbformat": 4,
 "nbformat_minor": 4
}
