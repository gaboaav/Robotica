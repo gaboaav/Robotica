{
 "cells": [
  {
   "cell_type": "markdown",
   "metadata": {},
   "source": [
    "## Forward Dynamics of Open Chains"
   ]
  },
  {
   "cell_type": "markdown",
   "metadata": {},
   "source": [
    "For forward dynamics problem involves solving:"
   ]
  },
  {
   "cell_type": "markdown",
   "metadata": {},
   "source": [
    "<center>$M(\\theta)\\ddot{\\theta}=\\tau(t)-h(\\theta,\\dot{\\theta})-J^T(\\theta)F_{tip}$</center>"
   ]
  },
  {
   "cell_type": "markdown",
   "metadata": {},
   "source": [
    "for $\\ddot{\\theta}$, given $\\theta,\\dot{\\theta},\\tau,$ and the wrench $F_{tip}$ applied by the end-effector. The term $h(\\theta,\\dot{\\theta})$ can be computed by calling the inverse dynamics algorithm with $\\ddot{\\theta}=0$ and $F_{tip}=0$. An alternative is to use \"n\" calls of the inverse dynamics algorithm to build $M(\\theta)$ column by column. In each of the \"n\" calls, set g=0, $\\dot{\\theta}=0$ and $F_{tip}=0$. In the first call, the column vector $\\ddot{\\theta}$ is all zeros except for a 1 in the first row. In the second call, $\\ddot{\\theta}$ is all zeros excepet for a 1 un the second row, and so on. The \"$\\tau$\" vector returned by the \"ith\" column of $M(\\theta)$, and after \"n\" calls the nxn matrix $M(\\theta)$ is constructed."
   ]
  },
  {
   "cell_type": "markdown",
   "metadata": {},
   "source": [
    "With $M(\\theta),h(\\theta,\\dot{\\theta})$ and $F_{tip}$ we can use any efficient algorithm for solving \"$M(\\theta)\\ddot{\\theta}=\\tau(t)-h(\\theta,\\dot{\\theta})-J^T(\\theta)F_{tip}$\", which is of the form $M\\ddot{\\theta}=b$, for $\\ddot{\\theta}$."
   ]
  },
  {
   "cell_type": "markdown",
   "metadata": {},
   "source": [
    "The forward dynamics can be used to simulate the motion of the robot given its initial state, the joint force-torques $\\tau(t)$, and an optional external wrench $F_{tip}(t)$, for $\"t\" \\in [0,t_f]$."
   ]
  },
  {
   "cell_type": "markdown",
   "metadata": {},
   "source": [
    "<center>$\\ddot{\\theta}=ForwardDynamics(\\theta,\\dot{\\theta},\\tau, F_{tip})$</center>"
   ]
  },
  {
   "cell_type": "markdown",
   "metadata": {},
   "source": [
    "Defining the variables $q_1=\\theta,q_2=\\dot{\\theta}$"
   ]
  },
  {
   "cell_type": "markdown",
   "metadata": {},
   "source": [
    "<center>$\\ddot{\\theta}=ForwardDynamics(q_1,q_2,\\tau, F_{tip})$</center>"
   ]
  },
  {
   "cell_type": "markdown",
   "metadata": {},
   "source": [
    "### Euler Integration Algorithm for Forward Dynamics"
   ]
  },
  {
   "cell_type": "markdown",
   "metadata": {},
   "source": [
    "**Inputs:** The initial conditions $\\theta(0)$ and $\\dot{\\theta}$, the input torques $\\tau(t)$ and wrenches at the end-effector $F_{tip}(t)$ for $t \\in [0, t_f]$, and the number of integration steps \"N\"."
   ]
  },
  {
   "cell_type": "markdown",
   "metadata": {},
   "source": [
    "**Initialization:** Set the timestep $\\delta t=t_f/N$, and set $\\theta[0]=\\theta(0)$, $\\dot{\\theta}[0]=\\dot{\\theta}(0)$."
   ]
  },
  {
   "cell_type": "markdown",
   "metadata": {},
   "source": [
    "**Iteration:** For k=0 to N-1 do:"
   ]
  },
  {
   "cell_type": "markdown",
   "metadata": {},
   "source": [
    "<center>\n",
    "    $\\ddot{\\theta}[k]=ForwardDynamics(\\theta[k],\\dot{\\theta}[k],\\tau(k\\delta t), F_{tip}(k\\delta t))$<br><br>\n",
    "    $\\theta[k+1]=\\theta[k]+\\dot{\\theta}[k]\\delta t$<br><br>\n",
    "    $\\dot{\\theta}[k+1]=\\dot{\\theta}[k]+\\ddot{\\theta}[k]\\delta t$\n",
    "</center>"
   ]
  },
  {
   "cell_type": "markdown",
   "metadata": {},
   "source": [
    "**Output:** The joint trajectory $\\theta(k\\delta t)=\\theta[k],\\dot{\\theta}(k \\delta t)=\\dot{\\theta}[k], k=0,...,N$"
   ]
  },
  {
   "cell_type": "markdown",
   "metadata": {},
   "source": [
    "## Dynamics in the Task Space"
   ]
  },
  {
   "cell_type": "markdown",
   "metadata": {},
   "source": [
    "Consider a 6DOF open-chain with joint-space dynamics:"
   ]
  },
  {
   "cell_type": "markdown",
   "metadata": {},
   "source": [
    "<center>$\\tau=M(\\theta)\\ddot{\\theta}+h(\\theta,\\dot{\\theta})\\;;\\; \\theta \\in R^6\\;,\\; \\tau \\in R^6$</center>"
   ]
  },
  {
   "cell_type": "markdown",
   "metadata": {},
   "source": [
    "We also ignore, for the time being, any end-effector forces $F_{tip}$. The twist $V=(w,v)$ of the end-effector is related to the joint velocity $\\dot{\\theta}$ by"
   ]
  },
  {
   "cell_type": "markdown",
   "metadata": {},
   "source": [
    "<center>$V=J(\\theta)\\dot{\\theta}$</center>"
   ]
  },
  {
   "cell_type": "markdown",
   "metadata": {},
   "source": [
    "with the understanding that $V$ and $J(\\theta)$ are always expressed in terms of the same reference frame. The time derivative $\\dot{V}$ is then, "
   ]
  },
  {
   "cell_type": "markdown",
   "metadata": {},
   "source": [
    "<center>$\\dot{V}=\\dot{J}(\\theta)\\dot{\\theta}+J(\\theta)\\ddot{\\theta}$</center>"
   ]
  },
  {
   "cell_type": "markdown",
   "metadata": {},
   "source": [
    "At configurations $\\theta$ where $J(\\theta)$ is invertible, we have:"
   ]
  },
  {
   "cell_type": "markdown",
   "metadata": {},
   "source": [
    "<center>\n",
    "    $\\dot{\\theta}=J^{-1}V$<br><br>\n",
    "    $\\ddot{\\theta}=J^{-1}\\dot{V}-J^{-1}\\dot{J}J^{-1}V$\n",
    "</center>"
   ]
  },
  {
   "cell_type": "markdown",
   "metadata": {},
   "source": [
    "Substituting for $\\dot{\\theta}$ and $\\ddot{\\theta}$ leads to:"
   ]
  },
  {
   "cell_type": "markdown",
   "metadata": {},
   "source": [
    "<center>\n",
    "    $\\tau=M(\\theta)(J^{-1}\\dot{V}-J^{-1}\\dot{J}J^{-1}V)+h(\\theta,J^{-1}V)$<br><br>\n",
    "    $\\mathcal{F}=\\Delta(\\theta)\\dot{V}+(\\theta,V)$<br><br>\n",
    "    $\\Delta(\\theta)=J^{-T}M(\\theta)J^{-1}$<br><br>\n",
    "    $n(\\theta, V)=J^{-T}h(\\theta, J^{-1}V)-\\Delta(\\theta)\\dot{J}J^{-1}V$\n",
    "</center>"
   ]
  },
  {
   "cell_type": "markdown",
   "metadata": {},
   "source": [
    "These are the dynamics equations expressed in end-effector frame coordinates. If an external wrench F is applied to the end-effector frame then, assuming the actuators provide zero forces and torques, the motion of the end-effector frame is governed by these equations."
   ]
  },
  {
   "cell_type": "code",
   "execution_count": null,
   "metadata": {},
   "outputs": [],
   "source": []
  }
 ],
 "metadata": {
  "kernelspec": {
   "display_name": "Python 3",
   "language": "python",
   "name": "python3"
  },
  "language_info": {
   "codemirror_mode": {
    "name": "ipython",
    "version": 3
   },
   "file_extension": ".py",
   "mimetype": "text/x-python",
   "name": "python",
   "nbconvert_exporter": "python",
   "pygments_lexer": "ipython3",
   "version": "3.8.5"
  }
 },
 "nbformat": 4,
 "nbformat_minor": 4
}
