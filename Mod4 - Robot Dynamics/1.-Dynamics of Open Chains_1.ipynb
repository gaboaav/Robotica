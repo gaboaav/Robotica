{
 "cells": [
  {
   "cell_type": "markdown",
   "metadata": {},
   "source": [
    "# Dynamics of Open Chains"
   ]
  },
  {
   "cell_type": "markdown",
   "metadata": {},
   "source": [
    "The associated dynamic equations are a set of second-order differential equations $\\tau=M(\\theta)\\ddot{\\theta}+h(\\theta,\\dot{\\theta})$, where $\\theta \\in R^n$ is the vector of joint variables, $\\tau \\in R^n$ is the vector of joint forces and torques, $M(\\theta) \\in R^{nxn}$ is a symmetric possitive define mass matrix and $h(\\theta,\\dot{\\theta})\\in R^n$ are forcesthat lump together centripetal, coriolis, gravity and friction terms depend on $\\theta$ and $\\dot{\\theta}$."
   ]
  },
  {
   "cell_type": "markdown",
   "metadata": {},
   "source": [
    "A robot's dynamic equations are typically derived in one of two ways: by a direct application of Newton's and Euler's dynamics equations for a rigid body or by the \"Lagrangian Dynamics\" formulation derived from the kinetic and potential energy of the robot."
   ]
  },
  {
   "cell_type": "markdown",
   "metadata": {},
   "source": [
    "## Lagrangian Formulation"
   ]
  },
  {
   "cell_type": "markdown",
   "metadata": {},
   "source": [
    "### Basic Concepts"
   ]
  },
  {
   "cell_type": "markdown",
   "metadata": {},
   "source": [
    "The first step is to choose a set of independent coordinates $q \\in R^n$ that describes the system's configuration. The coordinates \"q\" are called <strong>generalized coordinates</strong>. Once \"q\" have been choosen, these then define the <strong>generalized forces</strong> $f \\in R^n$. The forces \"f\" and the coordinate rates \"$\\dot{q}$\" are dual to each other in the sence that the inner product $f^T\\dot{q}$ corresponds to power. A Lagrangian function $L(q,\\dot{q})$ is then defined as the overall system's kinematic energy $K(q,\\dot{q})$ minus the potential energy $P(q)$."
   ]
  },
  {
   "cell_type": "markdown",
   "metadata": {},
   "source": [
    "<center>$L(q,\\dot{q})=K(q,\\dot{q})-P(q)$</center>"
   ]
  },
  {
   "cell_type": "markdown",
   "metadata": {},
   "source": [
    "The equations of motion can be expresed in terms of the Lagrangian as follows:"
   ]
  },
  {
   "cell_type": "markdown",
   "metadata": {},
   "source": [
    "<center>\n",
    "    $f=\\frac{d}{dt}\\frac{\\partial{L}}{\\partial{\\dot{q}}}-\\frac{\\partial{L}}{\\partial{q}};$\n",
    "</center>"
   ]
  },
  {
   "cell_type": "markdown",
   "metadata": {},
   "source": [
    "This equations are also referred to as the <strong>\"Euler-Lagrange equations with external forces\"</strong>."
   ]
  },
  {
   "cell_type": "markdown",
   "metadata": {},
   "source": [
    "### General Formulation"
   ]
  },
  {
   "cell_type": "markdown",
   "metadata": {},
   "source": [
    "We now describe the Lagrangian dynamics formulation for general n-lnk open chains. The first step is to select a set of generalized coordinates $\\theta \\in R^n$ for the configuration space of the system. For open chains all of whose joints are actuated, it is convinient and always possible to choose $\\theta$ to be the vector of the joint values. The generalized forces will be denoted $\\tau \\in R^n$. If $\\theta_i$ is a \"R\" joint then $\\tau_i$ will correspond to a torque, while if $\\theta_i$ is a prismatic joint then $\\tau_i$ will correspond to a force."
   ]
  },
  {
   "cell_type": "markdown",
   "metadata": {},
   "source": [
    "Once $\\theta$ has been chosen and the generalized forces $\\tau$ identified,"
   ]
  },
  {
   "cell_type": "markdown",
   "metadata": {},
   "source": [
    "<center>\n",
    "    $\\mathcal{L}(\\theta,\\dot{\\theta})=\\mathcal{K}(\\theta,\\dot{\\theta})-P(\\theta)$<br><br>\n",
    "    $\\mathcal{K}(\\theta,\\dot{\\theta})=\\frac{1}{2}\\displaystyle\\sum_{i=1}^n\\displaystyle\\sum_{j=1}^m m_{ij}(\\theta)\\dot{\\theta_i}\\dot{\\theta_j}=\\frac{1}{2}\\dot{\\theta}^T M(\\theta)\\dot{\\theta}$<br><br>\n",
    "    $\\tau_i=\\frac{d}{dt}\\frac{\\partial{\\mathcal{L}}}{\\partial{\\dot{\\theta}_i}}-\\frac{\\partial{\\mathcal{L}}}{\\partial{\\theta_i}}; \\; i=1,...,n$<br><br>\n",
    "    $\\tau_i=\\displaystyle\\sum_{j=1}^n m_{ij}(\\theta)\\ddot{\\theta}_j+\\displaystyle\\sum_{j=1}^n \\displaystyle\\sum_{k=1}^n \\Gamma_{ijk}(\\theta)\\dot{\\theta}_j\\dot{\\theta}_k + \\frac{\\partial{P}}{\\partial{\\theta_i}},\\;i=1,...,n$<br><br>\n",
    "    $\\Gamma_{ijk}(\\theta)=\\frac{1}{2}(\\frac{\\partial{m_{ij}}}{\\partial{\\theta_k}}+\\frac{\\partial{m_{ik}}}{\\partial{\\theta_j}}+\\frac{\\partial{m_{jk}}}{\\partial{\\theta_i}})$<br><br>\n",
    "    $\\tau=M(\\theta)\\ddot{\\theta}+c(\\theta,\\dot{\\theta})+g(\\theta)=M(\\theta)\\ddot{\\theta}+h(\\theta,\\dot{\\theta})$\n",
    "</center>"
   ]
  },
  {
   "cell_type": "markdown",
   "metadata": {},
   "source": [
    "We can see explicitly that the Coriolis and Centripetal terms are quadratic in the velocity by using the form:"
   ]
  },
  {
   "cell_type": "markdown",
   "metadata": {},
   "source": [
    "<center>    $\\tau=M(\\theta)\\ddot{\\theta}+\\dot{\\theta}^T\\Gamma(\\theta)\\dot{\\theta}+g(\\theta)$\n",
    "</center>"
   ]
  },
  {
   "cell_type": "markdown",
   "metadata": {},
   "source": [
    "where $\\Gamma(\\theta)$ is an $nxnxn$ matrix and the product $\\dot{\\theta}^T\\Gamma(\\theta)\\dot{\\theta}$ should be interpreted as follows:"
   ]
  },
  {
   "cell_type": "markdown",
   "metadata": {},
   "source": [
    "<center>\n",
    "    $\\dot{\\theta}^T\\Gamma(\\theta)\\dot{\\theta}=\\begin{vmatrix} \\dot{\\theta}^T\\Gamma_1(\\theta)\\dot{\\theta} \\\\ \\dot{\\theta}^T\\Gamma_2(\\theta)\\dot{\\theta} \\\\ ... \\\\ \\dot{\\theta}^T\\Gamma_n(\\theta)\\dot{\\theta} \\end{vmatrix}$<br><br>\n",
    "    $\\tau=M(\\theta)\\ddot{\\theta}+c(\\theta,\\dot{\\theta})\\dot{\\theta}+g(\\theta)$\n",
    "</center>"
   ]
  },
  {
   "cell_type": "markdown",
   "metadata": {},
   "source": [
    "## Dynamics of a Single Rigid Body"
   ]
  },
  {
   "cell_type": "markdown",
   "metadata": {},
   "source": [
    "### Classical Formulation"
   ]
  },
  {
   "cell_type": "markdown",
   "metadata": {},
   "source": [
    "Consider a rigid body consisting of a number of rigidly connected point masses, where point mass \"i\" has mass \"$m_i$\" and the total mass is $m=\\sum_i m_i$. Let $r_i=(x_i,y_i,z_i)$ be the fixed location of mass \"i\" in a body frame {b}, where the origin of this frame is the unique point such that"
   ]
  },
  {
   "cell_type": "markdown",
   "metadata": {},
   "source": [
    "<center>\n",
    "    $\\displaystyle\\sum_i m_i r_i=0$\n",
    "</center>"
   ]
  },
  {
   "cell_type": "markdown",
   "metadata": {},
   "source": [
    "This point is known as the <strong>center of mass</strong>. If some other point happens to be inconveniently chosen as the origin, then the frame {b} should be moved to the center of mass at $(1/m)\\sum_i m_i r_i$ and the \"$r_i$\" recalculated in the center of mass frame."
   ]
  },
  {
   "cell_type": "markdown",
   "metadata": {},
   "source": [
    "Now assume that the body is moving with a body twist $V_b=(w_b,v_b)$, and let \"$p_i(t)$\" be the time-varying position of \"$m_i$\", initially located at \"$r_i$\", in the inertial frame {b}. Then;"
   ]
  },
  {
   "cell_type": "markdown",
   "metadata": {},
   "source": [
    "<center>\n",
    "    $\\dot{p_i}=v_b+w_b \\times p_i$<br><br>\n",
    "    $\\ddot{p_i}=\\dot{v_b}+[\\dot{w_b}]r_i+[w_b]v_b+[w_b]^2 r_i$<br><br>\n",
    "    $f_i=m_i(\\dot{v_b}+[\\dot{w_b}]r_i+[w_b]v_b+[w_b]^2r_i$<br><br>\n",
    "    $m_i=[r_i]f_i$<br><br>\n",
    "    $F_b=\\begin{vmatrix}m_b\\\\f_b\\end{vmatrix}=\\begin{vmatrix}\\sum_i m_i\\\\ \\sum_i f_i \\end{vmatrix}$\n",
    "</center>"
   ]
  },
  {
   "cell_type": "markdown",
   "metadata": {},
   "source": [
    "**Linear Dynamics:**"
   ]
  },
  {
   "cell_type": "markdown",
   "metadata": {},
   "source": [
    "$f_b=\\displaystyle\\sum_i m_i(\\dot{v_b}+[w_b]v_b)=m(\\dot{v_b}+[w_b]v_b)$"
   ]
  },
  {
   "cell_type": "markdown",
   "metadata": {},
   "source": [
    "**Rotational Dynamics:**"
   ]
  },
  {
   "cell_type": "markdown",
   "metadata": {},
   "source": [
    "$m_b=I_b\\dot{w_b}+[w_b]I_bw_b,\\rightarrow$ Euler's equation"
   ]
  },
  {
   "cell_type": "markdown",
   "metadata": {},
   "source": [
    "<center>\n",
    "    $\\mathcal{K}=\\frac{1}{2}w_b^T I_b w_b$<br><br>\n",
    "    $I_b=\\begin{vmatrix} \\sum m_i(y_i^2+z_i^2) & -\\sum m_ix_iy_i & -\\sum m_ix_iz_i \\\\ -\\sum m_ix_iy_i & \\sum m_i(x_i^2+z_i^2) & -\\sum m_iy_iz_i \\\\ -\\sum m_ix_iz_i & -\\sum m_iy_iz_i & \\sum m_i(x_i^2+y_i^2) \\end{vmatrix}$\n",
    "</center>"
   ]
  },
  {
   "cell_type": "markdown",
   "metadata": {},
   "source": [
    "The summations can be replaced by volume integrals over the body B, using the differential volume element dV, with the point masses \"mi\" replaced by a mass density function $p(x,y,z)$"
   ]
  },
  {
   "cell_type": "markdown",
   "metadata": {},
   "source": [
    "$I_{xx}=\\int_{B}(y^2+z^2)p(x,y,z)dV$<br>\n",
    "$I_{yy}=\\int_{B}(x^2+z^2)p(x,y,z)dV$<br>\n",
    "$I_{zz}=\\int_{B}(x^2+y^2)p(x,y,z)dV$<br>\n",
    "$I_{xy}=-\\int_{B}xyp(x,y,z)dV$<br>\n",
    "$I_{xz}=-\\int_{B}xzp(x,y,z)dV$<br>\n",
    "$I_{yz}=-\\int_{B}yzp(x,y,z)dV$<br>"
   ]
  },
  {
   "cell_type": "markdown",
   "metadata": {},
   "source": [
    "Given an inertia matrix $I_b$, the **principal axes of inertia** are given by the eigenvectors and eigenvalues of $I_b$. Let $v_1,v_2,v_3$ be the eigenvectors of $I_b$ and $\\lambda_1,\\lambda_2,\\lambda_3$ be the corresponding eigenvalues. then the principal axes of inertia are in the directions of $v_1,v_2,v_3$ and the scalars moments of inertia about these axes, the **principal moments of inertia**, are $\\lambda_1,\\lambda_2,\\lambda_3>0$. One principal axis maximizes the moment of inertia among all axes passing through the center of mass, and another minimizes the moment of inertia."
   ]
  },
  {
   "cell_type": "markdown",
   "metadata": {},
   "source": [
    "An inertia matrix $I_b$ can be expressed in a rotated frame {c} described by the rotation matrix $R_{bc}$. Denoting this inertia matrix as $I_c$, and knowing that kinetic energy of the rotation body is independent of the chosen frame, we have:"
   ]
  },
  {
   "cell_type": "markdown",
   "metadata": {},
   "source": [
    "<center>\n",
    "    $I_c=R_{bc}^T I_b R_{bc}$\n",
    "</center>"
   ]
  },
  {
   "cell_type": "markdown",
   "metadata": {},
   "source": [
    "**Steiner's Theorem:** The inertia matrix $I_q$ about a frame aligned with {b}, but at a point $q=(q_x,q_y,q_z)$ in {b}, is related to the inertia matrix $I_b$ calculated at the center of mass by:"
   ]
  },
  {
   "cell_type": "markdown",
   "metadata": {},
   "source": [
    "<center>\n",
    "    $I_q=I_b+m(q^T qI-qq^T)$<br><br>\n",
    "    $I_d=I_{cm}+md^2$\n",
    "</center>"
   ]
  },
  {
   "cell_type": "markdown",
   "metadata": {},
   "source": [
    "### Twist - Wrench Formulation"
   ]
  },
  {
   "cell_type": "markdown",
   "metadata": {},
   "source": [
    "<center>\n",
    "    $\\begin{vmatrix} m_b\\\\ f_b \\end{vmatrix}=\\begin{vmatrix} I_b & 0 \\\\ 0 & mI \\end{vmatrix} \\begin{vmatrix} \\dot{w_b}\\\\ \\dot{v_b} \\end{vmatrix} - \\begin{vmatrix} [w_b] & 0 \\\\ [v_b] & [w_b] \\end{vmatrix}^T \\begin{vmatrix} I_b & 0 \\\\ 0 & mI \\end{vmatrix} \\begin{vmatrix} w_b \\\\ v_b \\end{vmatrix}$\n",
    "</center>"
   ]
  },
  {
   "cell_type": "markdown",
   "metadata": {},
   "source": [
    "(a) The vectors $(w_b,v_b)$ and $(m_b,f_b)$ can be respectively identified with the body twist $V_b$ and body wrench $F_b$;"
   ]
  },
  {
   "cell_type": "markdown",
   "metadata": {},
   "source": [
    "<center>\n",
    "    $V_b=\\begin{vmatrix} w_b \\\\ v_b \\end{vmatrix} \\;\\;;\\;\\; F_b=\\begin{vmatrix} m_b \\\\ f_b \\end{vmatrix}$\n",
    "</center>"
   ]
  },
  {
   "cell_type": "markdown",
   "metadata": {},
   "source": [
    "(b) The **spatial inertia matrix** $\\mathcal{G}_b \\in R^{6x6}$ is defined as:"
   ]
  },
  {
   "cell_type": "markdown",
   "metadata": {},
   "source": [
    "<center>\n",
    "    $\\mathcal{G}_b=\\begin{vmatrix} I_b & 0 \\\\ 0 & mI\\end{vmatrix}$\n",
    "</center>"
   ]
  },
  {
   "cell_type": "markdown",
   "metadata": {},
   "source": [
    "**Kinematic energy**=$\\frac{1}{2} w_b^T I_bw_b+\\frac{1}{2}m v_b^T v_b=\\frac{1}{2}V_b^T\\mathcal{G}_bV_b$"
   ]
  },
  {
   "cell_type": "markdown",
   "metadata": {},
   "source": [
    "(c) The spatial momentum $P_b \\in R^6$ is defined as"
   ]
  },
  {
   "cell_type": "markdown",
   "metadata": {},
   "source": [
    "<center>\n",
    "    $P_b=\\begin{vmatrix} I_b w_b \\\\ m v_b \\end{vmatrix}=\\begin{vmatrix} I_b & 0 \\\\ 0 & mI \\end{vmatrix}\\begin{vmatrix}w_b \\\\ v_b \\end{vmatrix}=\\mathcal{G}_bV_b$ <br><br>\n",
    "    $\\begin{vmatrix} w' \\\\ v' \\end{vmatrix}=\\begin{vmatrix} [w_1] & 0 \\\\ [v_1] & [w_1] \\end{vmatrix} \\begin{vmatrix} w_2 \\\\ v_2 \\end{vmatrix}$\n",
    "</center>"
   ]
  },
  {
   "cell_type": "markdown",
   "metadata": {},
   "source": [
    "This generalization of the cross product to two twist $V_1$ and $V_2$ is called the **Lie Bracket** of $V_1$ and $V_2$."
   ]
  },
  {
   "cell_type": "markdown",
   "metadata": {},
   "source": [
    "**Definition:** Given two twist $V_1=(w_1,v_1)$ and $V_2=(w_2,v_2)$, the **Lie Bracket** of $V_1$ and $V_2$, written either as $[ad_{V_1}]V_2$ or $ad_{V_1}(V_2)$, is defined as follows:"
   ]
  },
  {
   "cell_type": "markdown",
   "metadata": {},
   "source": [
    "<center>\n",
    "    $\\begin{vmatrix} [w_1] & 0 \\\\ [v_1] & [w_1]\\end{vmatrix}\\begin{vmatrix} w_2 \\\\ v_2 \\end{vmatrix}=[ad_{V_1}]V_2=ad_{V_1}(V_2) \\in R^6$<br><br>\n",
    "    $[ad_V]=\\begin{vmatrix} [w] & 0 \\\\ [v] & [w] \\end{vmatrix} \\in R^{6x6}$<br><br>\n",
    "    $[ad_{V_1}]V_2=-[ad_{V_2}]V_1$\n",
    "</center>"
   ]
  },
  {
   "cell_type": "markdown",
   "metadata": {},
   "source": [
    "**Definition:** Given a twist $V=(w,v)$ and a wrench $\\mathcal{F}=(m,f)$, define the mapping:"
   ]
  },
  {
   "cell_type": "markdown",
   "metadata": {},
   "source": [
    "<center>\n",
    "    $ad_V^T(\\mathcal{F})=[ad_V]^T\\mathcal{F}=\\begin{vmatrix} [w] & 0 \\\\ [v] & [w] \\end{vmatrix}^T\\begin{vmatrix}m\\\\f\\end{vmatrix}=\\begin{vmatrix} -[w]m-[v]f \\\\ -[w]f\\end{vmatrix}$<br><br>\n",
    "    $F_b=\\mathcal{G}_b\\dot{V_b}-ad_{V_b}^T(P_b)=\\mathcal{G_b}\\dot{V_b}-[ad_{V_b}]^T \\mathcal{G}_bV_b$<br><br>\n",
    "    $m_b=I_b\\dot{w_b}-[w_b]^TI_bw_b$\n",
    "</center>"
   ]
  },
  {
   "cell_type": "markdown",
   "metadata": {},
   "source": [
    "### Dynamics in Other Frames"
   ]
  },
  {
   "cell_type": "markdown",
   "metadata": {},
   "source": [
    "Since the kinetic energy of the rigid body must be independent of the frame of representation:"
   ]
  },
  {
   "cell_type": "markdown",
   "metadata": {},
   "source": [
    "<strong>Steiner's Theorem</strong>\n",
    "<center>$\\mathcal{G}_a=[Ad_{T_{ba}}]^T\\mathcal{G}_b[Ad_{T_{ba}}]$</center>"
   ]
  },
  {
   "cell_type": "markdown",
   "metadata": {},
   "source": [
    "Using the spatial inertia matrix $\\mathcal{G}_a$, the equations of motion in the {b} frame can be expressed equivalently in the {a} frame as:"
   ]
  },
  {
   "cell_type": "markdown",
   "metadata": {},
   "source": [
    "<center>$F_a=\\mathcal{G}_aV_a-[ad_{V_a}]^T\\mathcal{G}_aV_a$</center>"
   ]
  },
  {
   "cell_type": "markdown",
   "metadata": {},
   "source": [
    "## Newton - Euler Inverse Dynamics"
   ]
  },
  {
   "cell_type": "markdown",
   "metadata": {},
   "source": [
    "### Initialization"
   ]
  },
  {
   "cell_type": "markdown",
   "metadata": {},
   "source": [
    "Attach a frame {0} to the base, frames {1} to {n} to the center of mass of links {1} to {n}, and a frame {n+1} at the end-effector, fixed in the {n}-frame. Define $M_{i,i-1}$ to be the configuration of {i-1} in {i} when $\\theta_i=0$. Let $\\mathcal{A}_i$ be the screw axis of joint \"i\" expressed in {i}, and $\\mathcal{G}_i$ be the 6x6 spatial inertia matrix of link \"i\". Define $V_o$ to be the twist of the base frame {0} expressed in {0} coordinates. Let $g \\in R^3$ be the gravity vector expressed in base-frame coordinates, and define $\\dot{V_o}=(\\dot{w_o},\\dot{v_o})=(0,-g)$. Define $F_{n+1}=F_{tip}=(m_{tip},f_{tip})$ to be the wrench applied to the environment by the end-effector, expressed in the end-effector frame {n+1}"
   ]
  },
  {
   "cell_type": "markdown",
   "metadata": {},
   "source": [
    "### Forward Iterations"
   ]
  },
  {
   "cell_type": "markdown",
   "metadata": {},
   "source": [
    "Given $\\theta,\\dot{\\theta},\\ddot{\\theta}$ for i=1 to 'n' do:"
   ]
  },
  {
   "cell_type": "markdown",
   "metadata": {},
   "source": [
    "<center>\n",
    "    $T_{i,i-1}=e^{-[\\mathcal{A}_i]\\theta_i}M_{i,i-1}$<br><br>\n",
    "    $V_i=Ad_{T_{i,i-1}}(V_{i-1})+\\mathcal{A}_i\\dot{\\theta}$<br><br>\n",
    "    $\\dot{V_i}=Ad_{T_{i,i-1}}(\\dot{V_{i-1}})+ad_{vi}(\\mathcal{A}_i)\\dot{\\theta}_i+\\mathcal{A}_i\\ddot{\\theta_i}$\n",
    "</center>"
   ]
  },
  {
   "cell_type": "markdown",
   "metadata": {},
   "source": [
    "### Backward Iterations"
   ]
  },
  {
   "cell_type": "markdown",
   "metadata": {},
   "source": [
    "For $i=n$ to 1 do:"
   ]
  },
  {
   "cell_type": "markdown",
   "metadata": {},
   "source": [
    "<center>\n",
    "    $F_i=Ad_{T_{i+1,i}}^T (F_{i+1})+\\mathcal{G}_i\\dot{V_i}-ad_{V_i}^T(\\mathcal{G}_iV_i)$<br><br>\n",
    "    $\\tau_i=F_i^T\\mathcal{A}_i$\n",
    "</center>"
   ]
  }
 ],
 "metadata": {
  "kernelspec": {
   "display_name": "Python 3",
   "language": "python",
   "name": "python3"
  },
  "language_info": {
   "codemirror_mode": {
    "name": "ipython",
    "version": 3
   },
   "file_extension": ".py",
   "mimetype": "text/x-python",
   "name": "python",
   "nbconvert_exporter": "python",
   "pygments_lexer": "ipython3",
   "version": "3.8.5"
  }
 },
 "nbformat": 4,
 "nbformat_minor": 4
}
