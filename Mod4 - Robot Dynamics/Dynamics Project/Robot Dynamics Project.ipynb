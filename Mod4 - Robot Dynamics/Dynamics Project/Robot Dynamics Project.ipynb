{
 "cells": [
  {
   "cell_type": "markdown",
   "metadata": {},
   "source": [
    "In this project you will apply what you've learned about robot dynamics to simulate the motion of a robot arm.  You will write code that builds on the Modern Robotics library to simulate the motion of the robot, and you will visualize the resulting motion of the robot by making videos using CoppeliaSim."
   ]
  },
  {
   "cell_type": "markdown",
   "metadata": {},
   "source": [
    "The UR5 is a popular 6-DOF industrial robot arm.  The robot has geared motors at each joint, but in this project, we ignore the effects of gearing, such as friction and the increased apparent inertia of the rotor.  \n",
    "\n",
    "\n",
    "The relevant kinematic and inertial parameters of the UR5 are:"
   ]
  },
  {
   "cell_type": "code",
   "execution_count": 1,
   "metadata": {},
   "outputs": [
    {
     "name": "stdout",
     "output_type": "stream",
     "text": [
      "Link frame 0: \n",
      " [[1.       0.       0.       0.      ]\n",
      " [0.       1.       0.       0.      ]\n",
      " [0.       0.       1.       0.089159]\n",
      " [0.       0.       0.       1.      ]]\n",
      "\n",
      "Link frame 1: \n",
      " [[ 0.       0.       1.       0.28   ]\n",
      " [ 0.       1.       0.       0.13585]\n",
      " [-1.       0.       0.       0.     ]\n",
      " [ 0.       0.       0.       1.     ]]\n",
      "\n",
      "Link frame 2: \n",
      " [[ 1.      0.      0.      0.    ]\n",
      " [ 0.      1.      0.     -0.1197]\n",
      " [ 0.      0.      1.      0.395 ]\n",
      " [ 0.      0.      0.      1.    ]]\n",
      "\n",
      "Link frame 3: \n",
      " [[ 0.       0.       1.       0.     ]\n",
      " [ 0.       1.       0.       0.     ]\n",
      " [-1.       0.       0.       0.14225]\n",
      " [ 0.       0.       0.       1.     ]]\n",
      "\n",
      "Link frame 4: \n",
      " [[1.    0.    0.    0.   ]\n",
      " [0.    1.    0.    0.093]\n",
      " [0.    0.    1.    0.   ]\n",
      " [0.    0.    0.    1.   ]]\n",
      "\n",
      "Link frame 5: \n",
      " [[1.      0.      0.      0.     ]\n",
      " [0.      1.      0.      0.     ]\n",
      " [0.      0.      1.      0.09465]\n",
      " [0.      0.      0.      1.     ]]\n",
      "\n",
      "Link frame 6: \n",
      " [[ 1.      0.      0.      0.    ]\n",
      " [ 0.      0.      1.      0.0823]\n",
      " [ 0.     -1.      0.      0.    ]\n",
      " [ 0.      0.      0.      1.    ]]\n"
     ]
    }
   ],
   "source": [
    "import math\n",
    "import numpy as np\n",
    "import modern_robotics as mr\n",
    "import csv\n",
    "\n",
    "pi=math.pi\n",
    "\n",
    "M01=np.array([[1, 0, 0, 0],\n",
    "              [0, 1, 0, 0],\n",
    "              [0, 0, 1, 0.089159],\n",
    "              [0, 0, 0, 1]])\n",
    "M12=np.array([[0,0,1,0.28],\n",
    "              [0,1,0,0.13585],\n",
    "              [-1,0,0,0],\n",
    "              [0,0,0,1]])\n",
    "M23=np.array([[1,0,0,0],\n",
    "              [0,1,0,-0.1197],\n",
    "              [0,0,1,0.395],\n",
    "              [0,0,0,1]])\n",
    "M34=np.array([[0,0,1,0],\n",
    "              [0,1,0,0],\n",
    "              [-1,0,0,0.14225],\n",
    "              [0,0,0,1]])\n",
    "M45=np.array([[1,0,0,0],\n",
    "              [0,1,0,0.093],\n",
    "              [0,0,1,0],\n",
    "              [0,0,0,1]])\n",
    "M56=np.array([[1,0,0,0],\n",
    "              [0,1,0,0],\n",
    "              [0,0,1,0.09465],\n",
    "              [0,0,0,1]])\n",
    "M67=np.array([[1,0,0,0],\n",
    "              [0,0,1,0.0823],\n",
    "              [0,-1,0,0],\n",
    "              [0,0,0,1]])\n",
    "print('Link frame 0: \\n', M01)\n",
    "print('\\nLink frame 1: \\n',M12)\n",
    "print('\\nLink frame 2: \\n',M23)\n",
    "print('\\nLink frame 3: \\n',M34)\n",
    "print('\\nLink frame 4: \\n',M45)\n",
    "print('\\nLink frame 5: \\n',M56)\n",
    "print('\\nLink frame 6: \\n',M67)"
   ]
  },
  {
   "cell_type": "code",
   "execution_count": 2,
   "metadata": {},
   "outputs": [
    {
     "name": "stdout",
     "output_type": "stream",
     "text": [
      "Spatial Inertia Matrix of Link 1: \n",
      " [[0.01026749 0.         0.         0.         0.         0.        ]\n",
      " [0.         0.01026749 0.         0.         0.         0.        ]\n",
      " [0.         0.         0.00666    0.         0.         0.        ]\n",
      " [0.         0.         0.         3.7        0.         0.        ]\n",
      " [0.         0.         0.         0.         3.7        0.        ]\n",
      " [0.         0.         0.         0.         0.         3.7       ]]\n",
      "\n",
      "Spatial Inertia Matrix of Link 2: \n",
      " [[0.22689   0.        0.        0.        0.        0.       ]\n",
      " [0.        0.22689   0.        0.        0.        0.       ]\n",
      " [0.        0.        0.0151074 0.        0.        0.       ]\n",
      " [0.        0.        0.        8.393     0.        0.       ]\n",
      " [0.        0.        0.        0.        8.393     0.       ]\n",
      " [0.        0.        0.        0.        0.        8.393    ]]\n",
      "\n",
      "Spatial Inertia Matrix of Link 3: \n",
      " [[0.0494433 0.        0.        0.        0.        0.       ]\n",
      " [0.        0.0494433 0.        0.        0.        0.       ]\n",
      " [0.        0.        0.004095  0.        0.        0.       ]\n",
      " [0.        0.        0.        2.275     0.        0.       ]\n",
      " [0.        0.        0.        0.        2.275     0.       ]\n",
      " [0.        0.        0.        0.        0.        2.275    ]]\n",
      "\n",
      "Spatial Inertia Matrix of Link 4: \n",
      " [[0.1111727 0.        0.        0.        0.        0.       ]\n",
      " [0.        0.1111727 0.        0.        0.        0.       ]\n",
      " [0.        0.        0.21942   0.        0.        0.       ]\n",
      " [0.        0.        0.        1.219     0.        0.       ]\n",
      " [0.        0.        0.        0.        1.219     0.       ]\n",
      " [0.        0.        0.        0.        0.        1.219    ]]\n",
      "\n",
      "Spatial Inertia Matrix of Link 5: \n",
      " [[0.1111727 0.        0.        0.        0.        0.       ]\n",
      " [0.        0.1111727 0.        0.        0.        0.       ]\n",
      " [0.        0.        0.21942   0.        0.        0.       ]\n",
      " [0.        0.        0.        1.219     0.        0.       ]\n",
      " [0.        0.        0.        0.        1.219     0.       ]\n",
      " [0.        0.        0.        0.        0.        1.219    ]]\n",
      "\n",
      "Spatial Inertia Matrix of Link 6: \n",
      " [[0.017136 0.       0.       0.       0.       0.      ]\n",
      " [0.       0.017136 0.       0.       0.       0.      ]\n",
      " [0.       0.       0.033822 0.       0.       0.      ]\n",
      " [0.       0.       0.       0.1879   0.       0.      ]\n",
      " [0.       0.       0.       0.       0.1879   0.      ]\n",
      " [0.       0.       0.       0.       0.       0.1879  ]]\n"
     ]
    }
   ],
   "source": [
    "Mlist=np.array([M01, M12, M23, M34, M45, M56, M67])\n",
    "G1=np.diag([0.01026749,0.01026749,0.00666,3.7,3.7,3.7])\n",
    "G2=np.diag([0.22689,0.22689,0.0151074,8.393,8.393,8.393])\n",
    "G3=np.diag([0.0494433,0.0494433,0.004095,2.275,2.275,2.275])\n",
    "G4=np.diag([0.1111727,0.1111727,0.21942,1.219,1.219,1.219])\n",
    "G5=np.diag([0.1111727,0.1111727,0.21942,1.219,1.219,1.219])\n",
    "G6=np.diag([0.017136,0.017136,0.033822,0.1879,0.1879,0.1879])\n",
    "print('Spatial Inertia Matrix of Link 1: \\n', G1)\n",
    "print('\\nSpatial Inertia Matrix of Link 2: \\n', G2)\n",
    "print('\\nSpatial Inertia Matrix of Link 3: \\n', G3)\n",
    "print('\\nSpatial Inertia Matrix of Link 4: \\n', G4)\n",
    "print('\\nSpatial Inertia Matrix of Link 5: \\n', G5)\n",
    "print('\\nSpatial Inertia Matrix of Link 6: \\n', G6)"
   ]
  },
  {
   "cell_type": "code",
   "execution_count": 3,
   "metadata": {},
   "outputs": [
    {
     "name": "stdout",
     "output_type": "stream",
     "text": [
      "Screw axes of the Joints: \n",
      " [[ 0.        0.        0.        0.        0.        0.      ]\n",
      " [ 0.        1.        1.        1.        0.        1.      ]\n",
      " [ 1.        0.        0.        0.       -1.        0.      ]\n",
      " [ 0.       -0.089159 -0.089159 -0.089159 -0.10915   0.005491]\n",
      " [ 0.        0.        0.        0.        0.81725   0.      ]\n",
      " [ 0.        0.        0.425     0.81725   0.        0.81725 ]]\n"
     ]
    }
   ],
   "source": [
    "Glist = np.array([G1, G2, G3, G4, G5, G6])\n",
    "SList=np.array([[0,0,0,0,0,0],\n",
    "                [0,1,1,1,0,1],\n",
    "                [1,0,0,0,-1,0],\n",
    "                [0,-0.089159,-0.089159,-0.089159,-0.10915,0.005491],\n",
    "                [0,0,0,0,0.81725,0],\n",
    "                [0,0,0.425,0.81725,0,0.81725]])\n",
    "print('Screw axes of the Joints: \\n',SList)"
   ]
  },
  {
   "cell_type": "markdown",
   "metadata": {},
   "source": [
    "Your job is to write code that simulates the motion of the UR5 for a specified amount of time (in seconds), from a specified initial configuration (at zero velocity), when zero torques are applied to the joints.  In other words, the robot simply falls in gravity. Gravity is g = 9.81g=9.81m/s^2 in the z-direction, i.e., gravity acts downward.   The motion should be simulated with at least 100 integration steps per second.  Your program should calculate and record the robot joint angles at each step. This data should be saved as a .csv file, where each row has six numbers separated by commas. This .csv file is suitable for animation with the CoppeliaSim UR5 csv animation scene."
   ]
  },
  {
   "cell_type": "markdown",
   "metadata": {},
   "source": [
    "You will perform two simulations and make videos of each:\n",
    "\n",
    "\n",
    "1. The robot falling from the zero (home) configuration for 3 seconds.\n",
    "2. The robot falling from a configuration where all joints are at their zero position, except for joint 2, which is at −1 radian.  This simulation should last 5 seconds.\n",
    "\n",
    "\n",
    "Important:  Since the simulated robot has no friction and zero motor torques, no energy is added or subtracted during the simulated motion.  Therefore, the total energy of the robot (kinetic plus potential) must remain constant during the simulation.  If you see the robot swinging higher and higher, or losing energy, something is wrong wih your simulation."
   ]
  },
  {
   "cell_type": "code",
   "execution_count": 4,
   "metadata": {},
   "outputs": [],
   "source": [
    "g=np.array([0,0,-9.81])\n",
    "thetalist=np.array([0,0,0,0,0,0])\n",
    "dthetalist=np.array([0,0,0,0,0,0])\n",
    "ddthetalist=np.array([0,0,0,0,0,0])\n",
    "Tau=np.array([0,0,0,0,0,0])\n",
    "Ftip=np.array([0,0,0,0,0,0])"
   ]
  },
  {
   "cell_type": "code",
   "execution_count": 5,
   "metadata": {},
   "outputs": [],
   "source": [
    "def iterations(thetalist, dthetalist, tau, g, Ftip, Mlist, Glist, Slist, dt):\n",
    "    ddthetalist=mr.ForwardDynamics(thetalist, dthetalist, tau, g, Ftip, Mlist, Glist, Slist)\n",
    "    new_theta, new_dtheta=mr.EulerStep(thetalist, dthetalist,ddthetalist, dt)\n",
    "    return new_theta, new_dtheta"
   ]
  },
  {
   "cell_type": "code",
   "execution_count": 6,
   "metadata": {},
   "outputs": [],
   "source": [
    "#Simulation 1\n",
    "t=2\n",
    "steps=400\n",
    "dt=t/steps\n",
    "outfile=open('Simulation_1.csv','w')\n",
    "write=csv.writer(outfile)\n",
    "write.writerow(thetalist)\n",
    "for s in range(steps):\n",
    "    new_thetalist, new_dthetalist=iterations(thetalist,dthetalist,Tau,g,Ftip,Mlist,Glist,SList,dt)\n",
    "    write.writerow(new_thetalist)\n",
    "    thetalist=new_thetalist\n",
    "    dthetalist=new_dthetalist"
   ]
  },
  {
   "cell_type": "code",
   "execution_count": 7,
   "metadata": {},
   "outputs": [],
   "source": [
    "#Simulation 2\n",
    "g=np.array([0,0,-9.81])\n",
    "thetalist=np.array([0,-1,0,0,0,0])\n",
    "dthetalist=np.array([0,0,0,0,0,0])\n",
    "ddthetalist=np.array([0,0,0,0,0,0])\n",
    "Tau=np.array([0,0,0,0,0,0])\n",
    "Ftip=np.array([0,0,0,0,0,0])\n",
    "t=5\n",
    "steps=1000\n",
    "dt=t/steps\n",
    "outfile=open('Simulation_2.csv','w')\n",
    "write=csv.writer(outfile)\n",
    "write.writerow(thetalist)\n",
    "for s in range(steps):\n",
    "    new_thetalist,new_dthetalist=iterations(thetalist,dthetalist,Tau,g,Ftip,Mlist,Glist,SList,dt)\n",
    "    write.writerow(new_thetalist)\n",
    "    thetalist=new_thetalist\n",
    "    dthetalist=new_dthetalist"
   ]
  }
 ],
 "metadata": {
  "kernelspec": {
   "display_name": "Python 3",
   "language": "python",
   "name": "python3"
  },
  "language_info": {
   "codemirror_mode": {
    "name": "ipython",
    "version": 3
   },
   "file_extension": ".py",
   "mimetype": "text/x-python",
   "name": "python",
   "nbconvert_exporter": "python",
   "pygments_lexer": "ipython3",
   "version": "3.8.5"
  }
 },
 "nbformat": 4,
 "nbformat_minor": 4
}
