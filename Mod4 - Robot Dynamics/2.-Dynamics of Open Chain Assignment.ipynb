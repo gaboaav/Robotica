{
 "cells": [
  {
   "cell_type": "code",
   "execution_count": 1,
   "metadata": {},
   "outputs": [],
   "source": [
    "import math\n",
    "import numpy as np\n",
    "import modern_robotics as mr\n",
    "pi=math.pi"
   ]
  },
  {
   "cell_type": "markdown",
   "metadata": {},
   "source": [
    "1."
   ]
  },
  {
   "cell_type": "markdown",
   "metadata": {},
   "source": [
    "<img src='img/Img1.png'>"
   ]
  },
  {
   "cell_type": "markdown",
   "metadata": {},
   "source": [
    "**Consider an iron dumbbell consisting of a cylinder connecting two solid spheres at either end of the cylinder.  The  density of the dumbbell is 5600 kg/m^3. The cylinder has a diameter of 4 cm and a length of 20 cm.  Each sphere has a diameter of 20 cm. Find the approximate rotational inertia matrix $\\mathcal{I}_b$ in a frame {b} at the center of mass with z-axis aligned with the length of the dumbbell. Your entries should be written in units of kg-m^2.**"
   ]
  },
  {
   "cell_type": "markdown",
   "metadata": {},
   "source": [
    "**ANSWER**"
   ]
  },
  {
   "cell_type": "markdown",
   "metadata": {},
   "source": [
    "**MASS MOMENT OF INERTIA OF CYLINDER**"
   ]
  },
  {
   "cell_type": "markdown",
   "metadata": {},
   "source": [
    "<center>\n",
    "    $I_{xx}=I_{yy}=\\frac{m(3r^2+h^2)}{12}$<br><br>\n",
    "    $I_{zz}=\\frac{mr^2}{2}$\n",
    "</center>"
   ]
  },
  {
   "cell_type": "code",
   "execution_count": 2,
   "metadata": {},
   "outputs": [
    {
     "name": "stdout",
     "output_type": "stream",
     "text": [
      "The Cylinder's Volume is  0.0002513274122871835\n",
      "\n",
      "The Cylinder's Mass is  1.4074335088082275\n",
      "\n",
      "Inertia Matrix: \n",
      " [[0.00483219 0.         0.        ]\n",
      " [0.         0.00483219 0.        ]\n",
      " [0.         0.         0.00028149]]\n"
     ]
    }
   ],
   "source": [
    "#CYLINDER\n",
    "#Calculate the Volume of the Cylinder\n",
    "density=5600\n",
    "radius_cylinder=0.02\n",
    "length_cylinder=0.2\n",
    "Volume_cylinder=pi*length_cylinder*radius_cylinder**2\n",
    "print(\"The Cylinder's Volume is \",Volume_cylinder)\n",
    "print()\n",
    "\n",
    "#Calculate the Mass of the Cylinder\n",
    "mass_cylinder=density*Volume_cylinder\n",
    "print(\"The Cylinder's Mass is \", mass_cylinder)\n",
    "print()\n",
    "\n",
    "#Mass Moment of Inertia\n",
    "Ixx_cylinder=mass_cylinder*(3*radius_cylinder**2+length_cylinder**2)/12\n",
    "Iyy_cylinder=Ixx_cylinder\n",
    "Izz_cylinder=mass_cylinder*radius_cylinder**2/2\n",
    "\n",
    "\n",
    "IbMatrix_cylinder=np.diag([Ixx_cylinder,Iyy_cylinder,Izz_cylinder])\n",
    "print(\"Inertia Matrix: \\n {}\".format(IbMatrix_cylinder))"
   ]
  },
  {
   "cell_type": "markdown",
   "metadata": {},
   "source": [
    "**MASS MOMENT OF INERTIA OF SPHERE**"
   ]
  },
  {
   "cell_type": "markdown",
   "metadata": {},
   "source": [
    "<center>\n",
    "    $I_{xx}=I_{yy}=I_{zz}=\\frac{2Mr^2}{5}$\n",
    "</center>"
   ]
  },
  {
   "cell_type": "code",
   "execution_count": 3,
   "metadata": {},
   "outputs": [
    {
     "name": "stdout",
     "output_type": "stream",
     "text": [
      "The Sphere's Volume is  0.004188790204786391\n",
      "\n",
      "The Sphere's Mass is  23.457225146803793\n",
      "\n",
      "Inertia Matrix: \n",
      "[[0.0938289 0.        0.       ]\n",
      " [0.        0.0938289 0.       ]\n",
      " [0.        0.        0.0938289]]\n"
     ]
    }
   ],
   "source": [
    "#SPHERE\n",
    "#Calculate the Volume of the Sphere\n",
    "radius_sphere=0.1\n",
    "Volume_sphere=(4*pi*radius_sphere**3)/3\n",
    "print(\"The Sphere's Volume is \",Volume_sphere)\n",
    "print()\n",
    "\n",
    "#Calculate the Mass of the Sphere \n",
    "mass_sphere=Volume_sphere*density\n",
    "print(\"The Sphere's Mass is \",mass_sphere)\n",
    "print()\n",
    "\n",
    "#Mass Moment of Inertia\n",
    "Ixx_sphere=mass_sphere*2/5*radius_sphere**2\n",
    "Iyy_sphere=Ixx_sphere\n",
    "Izz_sphere=Ixx_sphere\n",
    "IbMatrix_sphere=np.diag([Ixx_sphere,Iyy_sphere,Izz_sphere])\n",
    "print(\"Inertia Matrix: \\n{}\".format(IbMatrix_sphere))"
   ]
  },
  {
   "cell_type": "code",
   "execution_count": 4,
   "metadata": {},
   "outputs": [
    {
     "name": "stdout",
     "output_type": "stream",
     "text": [
      "Sphere_1 Ib Matrix:\n",
      "  [[1.03211791,0.        ,0.        ],\n",
      " [0.        ,1.03211791,0.        ],\n",
      " [0.        ,0.        ,0.0938289 ]]\n",
      "\n",
      "Sphere_2 Ib Matrix:\n",
      "  [[1.03211791,0.        ,0.        ],\n",
      " [0.        ,1.03211791,0.        ],\n",
      " [0.        ,0.        ,0.0938289 ]]\n",
      "\n",
      "[[2.069068   0.         0.        ]\n",
      " [0.         2.069068   0.        ]\n",
      " [0.         0.         0.18793929]]\n"
     ]
    }
   ],
   "source": [
    "##Steiner's Theorem\n",
    "q1=np.array([[0],[0],[radius_sphere+length_cylinder/2]])\n",
    "q2=np.array([[0],[0],[-radius_sphere-length_cylinder/2]])\n",
    "IqMatrix_sph1=IbMatrix_sphere+mass_sphere*(np.dot(q1.T,q1)*np.eye(3)-np.dot(q1,q1.T))\n",
    "IqMatrix_sph2=IbMatrix_sphere+mass_sphere*(np.dot(q2.T,q2)*np.eye(3)-np.dot(q2,q2.T))\n",
    "print(\"Sphere_1 Ib Matrix:\\n \", np.array2string(IqMatrix_sph1, separator=','))\n",
    "print(\"\\nSphere_2 Ib Matrix:\\n \", np.array2string(IqMatrix_sph2, separator=','))\n",
    "\n",
    "IMatrix_q=IbMatrix_cylinder+IqMatrix_sph1+IqMatrix_sph2\n",
    "print()\n",
    "print(IMatrix_q)"
   ]
  },
  {
   "cell_type": "markdown",
   "metadata": {},
   "source": [
    "<strong>2. The equations of motion for a particular 2R robot arm can be written $M(\\theta)\\ddot{\\theta}+c(\\theta,\\dot{\\theta})+g(\\theta)=\\tau$. The Lagrangian $\\mathcal{L}(\\theta,\\dot{\\theta})$ for the robot can be written in components as:</strong><br><br>\n",
    "$\\mathcal{L}(\\theta,\\dot{\\theta})=\\mathcal{L}^1(\\theta,\\dot{\\theta})+\\mathcal{L}^2(\\theta,\\dot{\\theta})+\\mathcal{L}^3(\\theta,\\dot{\\theta})+...$<br><br>\n",
    "<strong>One of these components is $\\mathcal{L}^1=m\\dot{\\theta_1}\\dot{\\theta_2}\\sin{\\theta_2}$. What's the right expression for the component of the joint torque $\\tau_1^1$ at joint 1 corresponding to the component $\\mathcal{L}^1$</strong>"
   ]
  },
  {
   "cell_type": "markdown",
   "metadata": {},
   "source": [
    "**ANSWER**\n",
    "<center> $\\tau_1^1=m\\ddot{\\theta_2}\\sin{\\theta_2}+m\\dot{\\theta_2^2}\\cos{\\theta_2}$</center>"
   ]
  },
  {
   "cell_type": "markdown",
   "metadata": {},
   "source": [
    "**3. Refering to the previous question, find the right expression for the component of joint torque $\\tau_2^1$ at joint 2 correspondig to the component $\\mathcal{L}^1$**"
   ]
  },
  {
   "cell_type": "markdown",
   "metadata": {},
   "source": [
    "**ANSWER**\n",
    "<center>$\\tau_2^1=m\\ddot{\\theta_1}\\sin{\\theta_2}$</center>"
   ]
  },
  {
   "cell_type": "markdown",
   "metadata": {},
   "source": [
    "<strong>4. For a given configuration $\\theta$ of a two-joint robot, the mass matrix is:</strong>\n",
    "<br><br>\n",
    "\n",
    "$M(\\theta)=\\begin{vmatrix} 3 & a \\\\ b & 12 \\end{vmatrix}$<br><br>\n",
    "\n",
    "<strong>which has a determinant of 36-ab and eigenvalues $\\frac{1}{2}(15\\pm \\sqrt{81+4ab})$. What constraints must a and b satisfy for this to be a valid mass matrix?</strong>"
   ]
  },
  {
   "cell_type": "markdown",
   "metadata": {},
   "source": [
    "**ANSWER** \n",
    "<br><br>\n",
    "- a<6\n",
    "- a=b"
   ]
  },
  {
   "cell_type": "markdown",
   "metadata": {},
   "source": [
    "**5. An inexact model of the UR5 mass and kinematic properties is given below:**"
   ]
  },
  {
   "cell_type": "code",
   "execution_count": 5,
   "metadata": {},
   "outputs": [
    {
     "name": "stdout",
     "output_type": "stream",
     "text": [
      "M01:\n",
      "[[1.       0.       0.       0.      ]\n",
      " [0.       1.       0.       0.      ]\n",
      " [0.       0.       1.       0.089159]\n",
      " [0.       0.       0.       1.      ]]\n",
      "\n",
      "M12:\n",
      "[[ 0.       0.       1.       0.28   ]\n",
      " [ 0.       1.       0.       0.13585]\n",
      " [-1.       0.       0.       0.     ]\n",
      " [ 0.       0.       0.       1.     ]]\n",
      "\n",
      "M23:\n",
      "[[ 1.      0.      0.      0.    ]\n",
      " [ 0.      1.      0.     -0.1197]\n",
      " [ 0.      0.      1.      0.395 ]\n",
      " [ 0.      0.      0.      1.    ]]\n",
      "\n",
      "M34:\n",
      "[[ 0.       0.       1.       0.     ]\n",
      " [ 0.       1.       0.       0.     ]\n",
      " [-1.       0.       0.       0.14225]\n",
      " [ 0.       0.       0.       1.     ]]\n",
      "\n",
      "M45:\n",
      "[[1.    0.    0.    0.   ]\n",
      " [0.    1.    0.    0.093]\n",
      " [0.    0.    1.    0.   ]\n",
      " [0.    0.    0.    1.   ]]\n",
      "\n",
      "M56:\n",
      "[[1.      0.      0.      0.     ]\n",
      " [0.      1.      0.      0.     ]\n",
      " [0.      0.      1.      0.09465]\n",
      " [0.      0.      0.      1.     ]]\n",
      "\n",
      "M67:\n",
      "[[ 1.      0.      0.      0.    ]\n",
      " [ 0.      0.      1.      0.0823]\n",
      " [ 0.     -1.      0.      0.    ]\n",
      " [ 0.      0.      0.      1.    ]]\n",
      "\n"
     ]
    }
   ],
   "source": [
    "M01=np.array([[1,0,0,0],[0,1,0,0],[0,0,1,0.089159],[0,0,0,1]])\n",
    "M12=np.array([[0,0,1,0.28],[0,1,0,0.13585],[-1,0,0,0],[0,0,0,1]])\n",
    "M23=np.array([[1,0,0,0],[0,1,0,-0.1197],[0,0,1,0.395],[0,0,0,1]])\n",
    "M34=np.array([[0,0,1,0],[0,1,0,0],[-1,0,0,0.14225],[0,0,0,1]])\n",
    "M45=np.array([[1,0,0,0],[0,1,0,0.093],[0,0,1,0],[0,0,0,1]])\n",
    "M56=np.array([[1,0,0,0],[0,1,0,0],[0,0,1,0.09465],[0,0,0,1]])\n",
    "M67=np.array([[1,0,0,0],[0,0,1,0.0823],[0,-1,0,0],[0,0,0,1]])\n",
    "MList=np.array([M01,M12,M23,M34,M45,M56,M67])\n",
    "print(\"M01:\\n{}\\n\\nM12:\\n{}\\n\\nM23:\\n{}\\n\\nM34:\\n{}\\n\\nM45:\\n{}\\n\\nM56:\\n{}\\n\\nM67:\\n{}\\n\"\n",
    "      .format(M01,M12,M23,M34,M45,M56,M67))"
   ]
  },
  {
   "cell_type": "code",
   "execution_count": 6,
   "metadata": {},
   "outputs": [
    {
     "name": "stdout",
     "output_type": "stream",
     "text": [
      "G1:\n",
      "[[0.0102675 0.        0.        0.        0.        0.       ]\n",
      " [0.        0.0102675 0.        0.        0.        0.       ]\n",
      " [0.        0.        0.00666   0.        0.        0.       ]\n",
      " [0.        0.        0.        3.7       0.        0.       ]\n",
      " [0.        0.        0.        0.        3.7       0.       ]\n",
      " [0.        0.        0.        0.        0.        3.7      ]]\n",
      "\n",
      "G2:\n",
      "[[0.22689068 0.         0.         0.         0.         0.        ]\n",
      " [0.         0.22689068 0.         0.         0.         0.        ]\n",
      " [0.         0.         0.0151074  0.         0.         0.        ]\n",
      " [0.         0.         0.         8.393      0.         0.        ]\n",
      " [0.         0.         0.         0.         8.393      0.        ]\n",
      " [0.         0.         0.         0.         0.         8.393     ]]\n",
      "\n",
      "G3:\n",
      "[[0.04944331 0.         0.         0.         0.         0.        ]\n",
      " [0.         0.04944331 0.         0.         0.         0.        ]\n",
      " [0.         0.         0.004095   0.         0.         0.        ]\n",
      " [0.         0.         0.         2.275      0.         0.        ]\n",
      " [0.         0.         0.         0.         2.275      0.        ]\n",
      " [0.         0.         0.         0.         0.         2.275     ]]\n",
      "\n",
      "G4:\n",
      "[[0.11117276 0.         0.         0.         0.         0.        ]\n",
      " [0.         0.11117276 0.         0.         0.         0.        ]\n",
      " [0.         0.         0.21942    0.         0.         0.        ]\n",
      " [0.         0.         0.         1.219      0.         0.        ]\n",
      " [0.         0.         0.         0.         1.219      0.        ]\n",
      " [0.         0.         0.         0.         0.         1.219     ]]\n",
      "\n",
      "G5:\n",
      "[[0.11117276 0.         0.         0.         0.         0.        ]\n",
      " [0.         0.11117276 0.         0.         0.         0.        ]\n",
      " [0.         0.         0.21942    0.         0.         0.        ]\n",
      " [0.         0.         0.         1.219      0.         0.        ]\n",
      " [0.         0.         0.         0.         1.219      0.        ]\n",
      " [0.         0.         0.         0.         0.         1.219     ]]\n",
      "\n",
      "G6:\n",
      "[[0.01713647 0.         0.         0.         0.         0.        ]\n",
      " [0.         0.01713647 0.         0.         0.         0.        ]\n",
      " [0.         0.         0.033822   0.         0.         0.        ]\n",
      " [0.         0.         0.         0.1879     0.         0.        ]\n",
      " [0.         0.         0.         0.         0.1879     0.        ]\n",
      " [0.         0.         0.         0.         0.         0.1879    ]]\n"
     ]
    }
   ],
   "source": [
    "G1=np.diag([0.010267495893,0.010267495893,0.00666,3.7,3.7,3.7])\n",
    "G2=np.diag([0.22689067591,0.22689067591,0.0151074,8.393,8.393,8.393])\n",
    "G3=np.diag([0.049443313556,0.049443313556,0.004095,2.275,2.275,2.275])\n",
    "G4=np.diag([0.111172755531,0.111172755531,0.21942,1.219,1.219,1.219])\n",
    "G5=np.diag([0.111172755531,0.111172755531,0.21942,1.219,1.219,1.219])\n",
    "G6=np.diag([0.0171364731454,0.0171364731454,0.033822,0.1879,0.1879,0.1879])\n",
    "\n",
    "GList=np.array([G1,G2,G3,G4,G5,G6])\n",
    "print(\"G1:\\n{}\\n\\nG2:\\n{}\\n\\nG3:\\n{}\\n\\nG4:\\n{}\\n\\nG5:\\n{}\\n\\nG6:\\n{}\".format(G1,G2,G3,G4,G5,G6))"
   ]
  },
  {
   "cell_type": "code",
   "execution_count": 7,
   "metadata": {},
   "outputs": [
    {
     "name": "stdout",
     "output_type": "stream",
     "text": [
      "SList: \n",
      "[[ 0.        0.        0.        0.        0.        0.      ]\n",
      " [ 0.        1.        1.        1.        0.        1.      ]\n",
      " [ 1.        0.        0.        0.       -1.        0.      ]\n",
      " [ 0.       -0.089159 -0.089159 -0.089159 -0.10915   0.005491]\n",
      " [ 0.        0.        0.        0.        0.81725   0.      ]\n",
      " [ 0.        0.        0.425     0.81725   0.        0.81725 ]]\n"
     ]
    }
   ],
   "source": [
    "SList=np.array([[0,0,0,0,0,0],\n",
    "                [0,1,1,1,0,1],\n",
    "                [1,0,0,0,-1,0],\n",
    "                [0,-0.089159, -0.089159,-0.089159, -0.10915, 0.005491],\n",
    "                [0,0,0,0,0.81725,0],\n",
    "                [0,0,0.425,0.81725,0,0.81725]])\n",
    "\n",
    "print(\"SList: \\n{}\".format(SList))"
   ]
  },
  {
   "cell_type": "markdown",
   "metadata": {},
   "source": [
    "**ANSWER**"
   ]
  },
  {
   "cell_type": "code",
   "execution_count": 8,
   "metadata": {},
   "outputs": [
    {
     "name": "stdout",
     "output_type": "stream",
     "text": [
      "Torques:\n",
      " [ 1.3000e-02,-4.1148e+01,-3.7810e+00, 3.2000e-02, 3.7000e-02, 1.0300e-01]\n"
     ]
    }
   ],
   "source": [
    "thetalist=np.array([0,pi/6,pi/4,pi/3,pi/2,2*pi/3])\n",
    "dthetalist=np.array([0.2,0.2,0.2,0.2,0.2,0.2])\n",
    "ddthetalist=np.array([0.1,0.1,0.1,0.1,0.1,0.1])\n",
    "\n",
    "g=np.array([0,0,-9.81])\n",
    "\n",
    "Ftip=np.array([0.1,0.1,0.1,0.1,0.1,0.1])\n",
    "\n",
    "Torques=mr.InverseDynamics(thetalist,dthetalist,ddthetalist,g,Ftip,MList,GList,SList)\n",
    "Torques=np.around(Torques,decimals=3)\n",
    "\n",
    "print('Torques:\\n', np.array2string(Torques,separator=','))"
   ]
  }
 ],
 "metadata": {
  "kernelspec": {
   "display_name": "Python 3",
   "language": "python",
   "name": "python3"
  },
  "language_info": {
   "codemirror_mode": {
    "name": "ipython",
    "version": 3
   },
   "file_extension": ".py",
   "mimetype": "text/x-python",
   "name": "python",
   "nbconvert_exporter": "python",
   "pygments_lexer": "ipython3",
   "version": "3.8.5"
  }
 },
 "nbformat": 4,
 "nbformat_minor": 4
}
