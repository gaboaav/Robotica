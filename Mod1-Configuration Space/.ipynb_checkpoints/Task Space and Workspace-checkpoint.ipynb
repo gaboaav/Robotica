{
 "cells": [
  {
   "cell_type": "markdown",
   "metadata": {},
   "source": [
    "# Task Space and Workspace"
   ]
  },
  {
   "cell_type": "markdown",
   "metadata": {},
   "source": [
    "The task space is a space in which the robot's task can be naturally expressed. If the task is to manipulate a rigid body, a natural representation of the task space is the C-Space of a rigid body, representing the position and orientation of a frame attached to the robot's end-effector. This is the default representation of task space. The decision of how to define the task space is driven by the task."
   ]
  },
  {
   "cell_type": "markdown",
   "metadata": {},
   "source": [
    "The workspace is a specification of the configurations that the end-effector of the robot can reach. The definition of the workspace is primarily driven by the robot's structure, independently of the task."
   ]
  },
  {
   "cell_type": "markdown",
   "metadata": {},
   "source": [
    "The task space and the workspace are distinct from the robot's C-Space. A point in the task space or the workspace may be achievable by more than one robot configuration, meaning that the point is not a full specification of the robot's configuration."
   ]
  },
  {
   "cell_type": "markdown",
   "metadata": {},
   "source": [
    "# Ejercicios"
   ]
  },
  {
   "cell_type": "markdown",
   "metadata": {},
   "source": [
    "**1) The tip coordinates for the two-link planar 2R robot of figure below are given by:**\n",
    "\n",
    "**$x=\\cos{\\theta_1}+2\\cos{\\theta_1+\\theta_2}$**\n",
    "<br>\n",
    "**$y=\\sin{\\theta_1}+2\\cos{\\theta_1+\\theta_2}$**\n",
    "<br>\n",
    "\n",
    "**The joint angles have no limits.**\n",
    "<img src='img/Img11.jpg'>\n",
    "**Which shape best describes the the robot's workspace (the set of locations the endpoint can reach)?**\n",
    "<br>\n",
    "\n",
    "**R:** Annulus or ring (the area between two concentric bounding circles).\n",
    "<br>\n",
    "<br>"
   ]
  },
  {
   "cell_type": "markdown",
   "metadata": {},
   "source": [
    "**2) The chassis of a mobile robot moving on a flat surface can be considered as a planar rigid body.  Assume that the chassis is circular, and the mobile robot moves in a square room.  Which of the following could be a mathematical description of the C-space of the chassis while it is confined to the room?**\n",
    "\n",
    "**R:** $[a,b]x[a,b]xS^1$\n",
    "<br>\n",
    "<br>"
   ]
  },
  {
   "cell_type": "markdown",
   "metadata": {},
   "source": [
    "**3) Which is a possible mathematical description of the C-space of a rigid body in 3-dimensional space?**\n",
    "\n",
    "**R:** $R^3xS^2xS^1$\n",
    "<br>\n",
    "<br>"
   ]
  },
  {
   "cell_type": "markdown",
   "metadata": {},
   "source": [
    "**4) A spacecraft is a free-flying rigid body with a 7R arm mounted on it.  The joints have no joint limits. Give a mathematical description of the C-space of this system.**\n",
    "\n",
    "**R:** $R^3xS^2xT^8$\n",
    "<br>\n",
    "<br>"
   ]
  },
  {
   "cell_type": "markdown",
   "metadata": {},
   "source": [
    "**5) A mobile robot is moving on an infinite plane with an RPR robot arm mounted on it. The prismatic joint has joint limits, but the revolute joints do not. Give a mathematical description of the C-space of the chassis (which can rotate and translate in the plane) plus the robot arm.**\n",
    "\n",
    "\n",
    "**R:** $R^2xT^3x[a,b]$\n",
    "<br>\n",
    "<br>"
   ]
  },
  {
   "cell_type": "markdown",
   "metadata": {},
   "source": [
    "**6) Determine whether the following differential constraint is holonomic or not:**\n",
    "\n",
    "\n",
    "<center>$(1+\\cos{q_1})\\dot{q_1}+(2+\\sin{q_2})\\dot{q_2}+(\\cos{q_1}+\\sin{q_2}+3)\\dot{q_3}=0$</center>\n",
    "\n",
    "\n",
    "**R:** Non-holonomic\n",
    "<br>\n",
    "<br>"
   ]
  },
  {
   "cell_type": "markdown",
   "metadata": {},
   "source": [
    "**7) The task is to carry a waiter's tray so that it is always horizontal (orthogonal to the gravity vector), but otherwise free to move in any other direction. How many degrees of freedom does the task space (the C-space of a horizontal tray) have?**\n",
    "\n",
    "\n",
    "**R:** 4. The horizontal constraint eliminates 2 of the degrees of freedom (roll and pitch) of the tray (a spatial rigid body)."
   ]
  }
 ],
 "metadata": {
  "kernelspec": {
   "display_name": "Python 3",
   "language": "python",
   "name": "python3"
  },
  "language_info": {
   "codemirror_mode": {
    "name": "ipython",
    "version": 3
   },
   "file_extension": ".py",
   "mimetype": "text/x-python",
   "name": "python",
   "nbconvert_exporter": "python",
   "pygments_lexer": "ipython3",
   "version": "3.8.5"
  }
 },
 "nbformat": 4,
 "nbformat_minor": 4
}
