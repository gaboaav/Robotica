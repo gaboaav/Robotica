{
 "cells": [
  {
   "cell_type": "markdown",
   "metadata": {},
   "source": [
    "# Configuration Space"
   ]
  },
  {
   "cell_type": "markdown",
   "metadata": {},
   "source": [
    "A robot is mecanically constructed by conecting a set of bodies; called **links**, to each other using various types of joints. Actuators, sush as electric motors, deliver forces or torques that cause the robot's links to move. Usually an end-effector, such as a gripper or a hand for grasping and manipulating objects, is attached to a specific link."
   ]
  },
  {
   "cell_type": "markdown",
   "metadata": {},
   "source": [
    "**Robot Configurations:** is a complete specification of the position of every point of the robot.\n",
    "\n",
    "\n",
    "For example: The configuration of a coin lying heads up on a flat table can be describe by 3 coordinates: (x,y) that specify the location and one coordinate ($\\theta$) that specifies the coins orientation."
   ]
  },
  {
   "cell_type": "markdown",
   "metadata": {},
   "source": [
    "**Degrees of Freedom (DOF):** the minumum 'n' number of real-valued coordinates needed to represent its configuration.\n",
    "\n",
    "<img src=\"img/Img1.png\">"
   ]
  },
  {
   "cell_type": "markdown",
   "metadata": {},
   "source": [
    "**Configuration Space (C-Space):** The n-dimensional space containing all posible configurations of the robot."
   ]
  },
  {
   "cell_type": "markdown",
   "metadata": {},
   "source": [
    "## Degrees of Freedom of a Rigid Body"
   ]
  },
  {
   "cell_type": "markdown",
   "metadata": {},
   "source": [
    "<img src=\"img/Img2.png\">"
   ]
  },
  {
   "cell_type": "markdown",
   "metadata": {},
   "source": [
    "Once a coordinate frame $\\hat{x}$-$\\hat{y}$ is attached to the plane, the position of these points in the plane are written (Xa,Ya), (Xb, Yb) and (Xc, Yc). If the points could be placed independently anywhere in the plane, the coin would've six DOF, but according to the definition of a rigid body, the distance between point A and point B (d(A,B)) is always constant regardless of where the coin is.\n",
    "\n",
    "\n",
    "<center>d(A,B)=$\\sqrt{(Xa+Xb)^2 + (Ya+Yb)^2}$=dAB</center>\n",
    "<center>d(B,C)=$\\sqrt{(Xb+Xc)^2 + (Yb+Yc)^2}$=dBC</center>\n",
    "<center>d(A,C)=$\\sqrt{(Xa+Xc)^2 + (Ya+Yc)^2}$=dAC</center>"
   ]
  },
  {
   "cell_type": "markdown",
   "metadata": {},
   "source": [
    "To determine the number of DOF of the coin on the table, first choose the position of point A in the plane. So we have 2-DOF to specify the location, namely (Xa,Ya). As the distances between point B and C, respect from point A are constants, we restrain the freedom given by them and to specify if the coins is heads or tails, we specify the coin orientation with $\\theta$AB."
   ]
  },
  {
   "cell_type": "markdown",
   "metadata": {},
   "source": [
    "<center>DOF=(sum of freedom points)-(number of independent constraints)</center>\n",
    "<center>DOF=(num of variables)-(num of independent equation)</center>\n",
    "<center>DOF=(sum of freedom of the bodies)-(num of independent constraints)</center>"
   ]
  },
  {
   "cell_type": "markdown",
   "metadata": {},
   "source": [
    "**DOF of a Planar Rigid Body: 3**\n",
    "\n",
    "**DOF of a Spacial Rigid Body: 6**"
   ]
  },
  {
   "cell_type": "markdown",
   "metadata": {},
   "source": [
    "## Degrees of Freedom of a Robot"
   ]
  },
  {
   "cell_type": "markdown",
   "metadata": {},
   "source": [
    "We can determine the number of DOF of a robot, simply by counting the number of rigid bodies and joints. This is called the Grübler's formula, for determining the number of DOF."
   ]
  },
  {
   "cell_type": "markdown",
   "metadata": {},
   "source": [
    "### Robot Joints"
   ]
  },
  {
   "cell_type": "markdown",
   "metadata": {},
   "source": [
    "<img src=\"img/Img3.png\">"
   ]
  },
  {
   "cell_type": "markdown",
   "metadata": {},
   "source": [
    "Every joint conects exactly two lines. The revolute (hinge) joint (R), allows rotational motion about the joint axis. The prismatic or sliding joint (P) allows translational motion along the direction of the joint axis. The helical or scew joint (H), allows simultaneous rotation and translation about a screw axis. They all have 1DOF."
   ]
  },
  {
   "cell_type": "markdown",
   "metadata": {},
   "source": [
    "| Joint Type   | DOF | Constraints C between 2 PRB | Constraint C between 2 SRB |\n",
    "| ---:         | ---:| ---:                        | ---:                       |\n",
    "| Revolute (R) | 1   | 2 | 5 |\n",
    "| Prismatic (P)| 1 | 2 | 5 |\n",
    "| Helical (H) | 1 | N/A | 5 |\n",
    "| Cylindrical (C) | 2 | N/A | 4 |\n",
    "| Universal (U) | 2 | N/A | 4 |\n",
    "| Spherical (S) | 3 | N/A | 3 |\n",
    "\n",
    "**PRB:** Planar Rigid Body\n",
    "\n",
    "**SRB:** Spatial Rigid Body"
   ]
  },
  {
   "cell_type": "markdown",
   "metadata": {},
   "source": [
    "### Grübler's Formula"
   ]
  },
  {
   "cell_type": "markdown",
   "metadata": {},
   "source": [
    "The number of DOF of a mechanism with links and joints can be calculated using Grübler's Formula."
   ]
  },
  {
   "cell_type": "markdown",
   "metadata": {},
   "source": [
    "Consider a mechanism consisting of 'N' links, where ground is also regarded as a link. Let 'J' be the number of joints, 'm' be the number of DOF of a rigid body, 'fi' be the number of freedoms provided by joint 'i', and 'Ci' be the number of constraints provided by joint 'i'. where 'fi+Ci=m' for all 'i'. The Grübler's formula is:"
   ]
  },
  {
   "cell_type": "markdown",
   "metadata": {},
   "source": [
    "<center>$$ DOF=m(N-1) -\\sum_{i=i}^J Ci $$</center>\n",
    "<br>\n",
    "<center>$$ DOF=m(N-1) -\\sum_{i=1}^{J}(m-fi) $$</center>\n",
    "<br>\n",
    "<center>$$ DOF=m(N-1-J) +\\sum_{i=1}^{J}fi $$</center>"
   ]
  },
  {
   "cell_type": "markdown",
   "metadata": {},
   "source": [
    "<img src=\"img/Img4.png\">"
   ]
  },
  {
   "cell_type": "markdown",
   "metadata": {},
   "source": [
    "**(a): Four-bar linkage**"
   ]
  },
  {
   "cell_type": "code",
   "execution_count": 1,
   "metadata": {},
   "outputs": [
    {
     "name": "stdout",
     "output_type": "stream",
     "text": [
      "DOF = 1\n"
     ]
    }
   ],
   "source": [
    "m=3\n",
    "N=4\n",
    "J=4\n",
    "fi=4\n",
    "DOF=m*(N-1-J)+fi\n",
    "print(\"DOF = {}\".format(DOF))"
   ]
  },
  {
   "cell_type": "markdown",
   "metadata": {},
   "source": [
    "**(b): Five bar planar linkage**"
   ]
  },
  {
   "cell_type": "code",
   "execution_count": 2,
   "metadata": {},
   "outputs": [
    {
     "name": "stdout",
     "output_type": "stream",
     "text": [
      "DOF = 2\n"
     ]
    }
   ],
   "source": [
    "m=3\n",
    "N=5\n",
    "J=5\n",
    "fi=5\n",
    "DOF=m*(N-1-J)+fi\n",
    "print(\"DOF = {}\".format(DOF))"
   ]
  },
  {
   "cell_type": "markdown",
   "metadata": {},
   "source": [
    "**(c): Stephenson six-bar linkage**"
   ]
  },
  {
   "cell_type": "code",
   "execution_count": 3,
   "metadata": {},
   "outputs": [
    {
     "name": "stdout",
     "output_type": "stream",
     "text": [
      "DOF = 1\n"
     ]
    }
   ],
   "source": [
    "m=3\n",
    "N=6\n",
    "J=7\n",
    "fi=7\n",
    "DOF=m*(N-1-J)+fi\n",
    "print(\"DOF = {}\".format(DOF))"
   ]
  },
  {
   "cell_type": "markdown",
   "metadata": {},
   "source": [
    "**(d) Watt Six-Bar Linkage**"
   ]
  },
  {
   "cell_type": "code",
   "execution_count": 4,
   "metadata": {},
   "outputs": [
    {
     "name": "stdout",
     "output_type": "stream",
     "text": [
      "DOF = 1\n"
     ]
    }
   ],
   "source": [
    "m=3\n",
    "N=6\n",
    "J=7\n",
    "fi=7\n",
    "DOF=m*(N-1-J)+fi\n",
    "print(\"DOF = {}\".format(DOF))"
   ]
  },
  {
   "cell_type": "markdown",
   "metadata": {},
   "source": [
    "<img src=\"img/Img5.png\">"
   ]
  },
  {
   "cell_type": "code",
   "execution_count": 5,
   "metadata": {},
   "outputs": [
    {
     "name": "stdout",
     "output_type": "stream",
     "text": [
      "DOF = 3\n"
     ]
    }
   ],
   "source": [
    "m=3\n",
    "N=8\n",
    "J=9\n",
    "fi=9\n",
    "DOF=m*(N-1-J)+fi\n",
    "print(\"DOF = {}\".format(DOF))"
   ]
  },
  {
   "cell_type": "markdown",
   "metadata": {},
   "source": [
    "<img src=\"img/Img6.png\">"
   ]
  },
  {
   "cell_type": "code",
   "execution_count": 6,
   "metadata": {},
   "outputs": [
    {
     "name": "stdout",
     "output_type": "stream",
     "text": [
      "DOF = 15\n"
     ]
    }
   ],
   "source": [
    "m=6\n",
    "N=17\n",
    "J=21\n",
    "fr=9 ##fredoms of revolute joint\n",
    "fs=12*3 ##fredoms of spherical joints\n",
    "fi=fr+fs\n",
    "DOF=m*(N-1-J)+fi\n",
    "print(\"DOF = {}\".format(DOF))"
   ]
  },
  {
   "cell_type": "markdown",
   "metadata": {},
   "source": [
    "**Consider a joint between two rigid bodies. Each rigid body has 'm' DOF in the absence of constraints. The joint has 'f' DOF. How many constraints does the joint place on the motion of one rigid body relative to the other?**\n",
    "\n",
    "<br>\n",
    "<center>ci=m-fi ; c=m-f</center>"
   ]
  },
  {
   "cell_type": "markdown",
   "metadata": {},
   "source": [
    "**Consider a mechanism consisting of 3 spacial rigid bodies (N=4) and J=4 (Revolute, Prismatic, Universal and Spherical). According to Grübler's formula, how many DOF it has?**"
   ]
  },
  {
   "cell_type": "code",
   "execution_count": 7,
   "metadata": {},
   "outputs": [
    {
     "name": "stdout",
     "output_type": "stream",
     "text": [
      "DOF = 1\n"
     ]
    }
   ],
   "source": [
    "m=6\n",
    "N=4\n",
    "J=4\n",
    "fi=7\n",
    "DOF=m*(N-1-J)+fi\n",
    "print(\"DOF = {}\".format(DOF))"
   ]
  },
  {
   "cell_type": "markdown",
   "metadata": {},
   "source": [
    "\n",
    "<li>A mechanism that is incapable of motion has 0 DOF</li>\n",
    "<li>A negative DOF implies that the constraints must not be independent</li>"
   ]
  },
  {
   "cell_type": "markdown",
   "metadata": {},
   "source": [
    "# Excersice"
   ]
  },
  {
   "cell_type": "markdown",
   "metadata": {},
   "source": [
    "**1) Using the methods for determining the number of degrees of freedom of a rigid body in 3-dimensional space, find the number of degrees of freedom of a rigid body in a conceptual 4-dimensional space.**\n",
    "<br>\n",
    "\n",
    "**R:** 10"
   ]
  },
  {
   "cell_type": "markdown",
   "metadata": {},
   "source": [
    "**2) Indicate how many of the total degrees of freedom are angular (rotational).**\n",
    "\n",
    "\n",
    "**R:** 6; \n",
    "\n",
    "The 4 coordinates to place the first point on the rigid body are translational (linear).  All other points are subject to distance constraints, which make them angular degrees of freedom."
   ]
  },
  {
   "cell_type": "markdown",
   "metadata": {},
   "source": [
    "**3) Assume your arm, from your shoulder to your palm, has 7 degrees of freedom.  You are carrying a tray like a waiter, and you must keep the tray horizontal to avoid spilling drinks on the tray.  How many degrees of freedom does your arm have while satisfying the constraint that the tray stays horizontal?**\n",
    "\n",
    "**R:** 5"
   ]
  },
  {
   "cell_type": "markdown",
   "metadata": {},
   "source": [
    "**4) Four identical SRS arms are grasping a common object as shown below.**\n",
    "\n",
    "<img src='img/Img9.jpg'>\n",
    "\n",
    "**Find the number of degrees of freedom of this system while the grippers hold the object rigidly (no relative motion between the object and the last links of the SRS arms).**\n",
    "<br>\n",
    "\n",
    "**R:** 10"
   ]
  },
  {
   "cell_type": "markdown",
   "metadata": {},
   "source": [
    "**5) Suppose there are now a total of nn such arms grasping the object. What is the number of degrees of freedom of this system?**\n",
    "\n",
    "\n",
    "**R:** $n+6$"
   ]
  },
  {
   "cell_type": "markdown",
   "metadata": {},
   "source": [
    "**6) Suppose the revolute joint in each of the nn arms is now replaced by a universal joint. What is the number of degrees of freedom of the overall system?**\n",
    "\n",
    "\n",
    "**R:** $2n+6$"
   ]
  },
  {
   "cell_type": "markdown",
   "metadata": {},
   "source": [
    "**7) Use the planar version of Grubler's formula to determine the number of degrees of freedom of the mechanism shown below.  Your answer should be an integer.**\n",
    "\n",
    "<img src='img/Img10.jpg'>\n",
    "\n",
    "\n",
    "**R:** 3"
   ]
  }
 ],
 "metadata": {
  "kernelspec": {
   "display_name": "Python 3",
   "language": "python",
   "name": "python3"
  },
  "language_info": {
   "codemirror_mode": {
    "name": "ipython",
    "version": 3
   },
   "file_extension": ".py",
   "mimetype": "text/x-python",
   "name": "python",
   "nbconvert_exporter": "python",
   "pygments_lexer": "ipython3",
   "version": "3.8.5"
  }
 },
 "nbformat": 4,
 "nbformat_minor": 4
}
