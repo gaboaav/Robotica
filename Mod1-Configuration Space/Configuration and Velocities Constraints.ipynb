{
 "cells": [
  {
   "cell_type": "markdown",
   "metadata": {},
   "source": [
    "# Configuration and Velocities Constraints"
   ]
  },
  {
   "cell_type": "markdown",
   "metadata": {},
   "source": [
    "For robots containing one or more closed loops, usually an implicit representation is more easily than an explicit parametrization. Consider the planar four-bar linkage, which has 1DOF. the fact that the four links always form a closed loop can be expressed as following:"
   ]
  },
  {
   "cell_type": "markdown",
   "metadata": {},
   "source": [
    "<center>$Li \\cos{\\theta1} + L2\\cos{\\theta1 + \\theta2}+...+ L4\\cos{\\theta1 +...+\\theta4}=0$</center>\n",
    "<center>$Li \\sin{\\theta1} + L2\\sin{\\theta1 + \\theta2}+...+ L4\\sin{\\theta1 +...+\\theta4}=0$</center>\n",
    "<center>$\\theta1 + \\theta2 + \\theta3 + \\theta4 -2\\pi=0$</center>"
   ]
  },
  {
   "cell_type": "markdown",
   "metadata": {},
   "source": [
    "These equations are obtained by viewing the four-bar linkage as a serial chain with 4 'R'joints in which (i) the tip of link L4 always coincides with the orifin and (ii) the orientation of link L4 is always horizontal. We name this equations \"Loop-Closure Equations\". The set of all solutions forms a 1D curve in the 4D joint space and constitutes the C-Space."
   ]
  },
  {
   "cell_type": "markdown",
   "metadata": {},
   "source": [
    "$g(\\theta)=0=$\n",
    "<br>\n",
    "\n",
    "|$g1(\\theta1,...,\\theta n)$|\n",
    "|---:|\n",
    "|$gk(\\theta1,...,\\theta n)$|"
   ]
  },
  {
   "cell_type": "markdown",
   "metadata": {},
   "source": [
    "A set of k independent equations (k<=n). Such constraints are known as holonomic constrains, ones that reduce the dimensions of the C-Space. The C-Space can be viewed as a surface of dimension n-k embedded in $R^n$\n",
    "\n",
    "<br>\n",
    "Suppose that a closed-chain robot with loop-closure equations $g(\\theta)=0, g:R^n \\rightarrow R^k$, is in motion, following the time trajectory $\\theta(t)$. Differentiating both sides of $g(\\theta(t))=0$ with respect to 't', we obtain:"
   ]
  },
  {
   "cell_type": "markdown",
   "metadata": {},
   "source": [
    "<center>$\\frac{d g(\\theta(t))}{dt}=0$</center>\n",
    "<br>\n",
    "\n",
    "<center>\n",
    "|$\\frac{\\partial g1(\\theta)}{\\partial \\theta1}* \\dot{\\theta 1}+..+\\frac{\\partial g1(\\theta)}{\\partial \\theta n}* \\dot{\\theta n}$|\n",
    "<br>\n",
    "<br>\n",
    "|$\\frac{\\partial gk(\\theta)}{\\partial \\theta1}* \\dot{\\theta 1}+..+\\frac{\\partial gk(\\theta)}{\\partial \\theta n}*\\dot{\\theta n}$|\n",
    "    </center>"
   ]
  },
  {
   "cell_type": "markdown",
   "metadata": {},
   "source": [
    "This can be expressed as a matrix multipliying a column vector $[\\dot{\\theta1}...\\dot{\\theta n}]^T$"
   ]
  },
  {
   "cell_type": "markdown",
   "metadata": {},
   "source": [
    "<center>\n",
    "|$\\frac{\\partial g1(\\theta)}{\\partial \\theta1}...\\frac{\\partial g1(\\theta)}{\\partial \\theta n}$| |$\\theta1$|\n",
    "<br>\n",
    "<br>\n",
    "|$\\frac{\\partial gk(\\theta)}{\\partial \\theta1}...\\frac{\\partial gk(\\theta)}{\\partial \\theta n}$| |$\\theta n$|\n",
    "<br>\n",
    "    <br>\n",
    "    =0\n",
    "</center>\n",
    "    "
   ]
  },
  {
   "cell_type": "markdown",
   "metadata": {},
   "source": [
    "The constraint:\n",
    "<br>\n",
    "\n",
    "<center>$\\frac{g(\\theta)}{\\theta}*\\dot{\\theta}=0$</center>\n",
    "\n",
    "<br>\n",
    "Can be written as:\n",
    "<br>\n",
    "\n",
    "<center>$A(\\theta)\\dot{\\theta}=0$</center>\n",
    "\n",
    "<br>\n",
    "Velocity constrints of this form are called 'Pfaffian Constraints'. For the case of $A(\\theta)=\\frac{g(\\theta)}{\\theta}$, one could regard $g(\\theta)$ as being the 'integral' of $A(\\theta)$; for this reason, holonomic constraints of the form '$g(\\theta)=0$' are also called 'integrable constraints."
   ]
  },
  {
   "cell_type": "markdown",
   "metadata": {},
   "source": [
    "<img src='img/Img8.png'>"
   ]
  },
  {
   "cell_type": "markdown",
   "metadata": {},
   "source": [
    "**Consider an upright coin of radius 'r' rolling on a plane. The configuration of the coin is given by the contact point (x,y) on the plane, the steering angle $\\phi$, and the angle rotation $\\theta$. The C-Space of the coin is therefore $R^2 x T^2$, where $T^2$ is the 2D torus parametrized by the angles $\\phi$ and $\\theta$. This C-Space is 4D**"
   ]
  },
  {
   "cell_type": "markdown",
   "metadata": {},
   "source": [
    "|$\\dot{x}$| = $r*\\dot{\\theta}|\\cos{\\theta}|$\n",
    "<br>\n",
    "|$\\dot{y}$|.............$|\\sin{\\theta}|$"
   ]
  },
  {
   "cell_type": "markdown",
   "metadata": {},
   "source": [
    "Collecting the four C-Space coordinates into a single vector $q=[q1,q2,q3,q4]^T = [x \\; y \\; \\phi \\;  \\theta]^T \\in R^2 x T^2$, the above no-slip rolling constraint can then be expressed in the form:"
   ]
  },
  {
   "cell_type": "markdown",
   "metadata": {},
   "source": [
    "$0=\\dot{q} \\; * $\n",
    "<br>\n",
    "\n",
    "|1|0|0|$-r\\cos{q_3}$|\n",
    "|---|---|---|---|\n",
    "|0|1|0|$-r\\sin{q_3}$|"
   ]
  },
  {
   "cell_type": "markdown",
   "metadata": {},
   "source": [
    "These are Pfaffian constraints of the form $A(q)\\dot{q}=0,A(q)\\in R^{2x4}$. These constraints are not integrable, it does not exist a differentiable functions $g:R^4\\rightarrow R^2$ such that $\"\\frac{\\partial g(q)}{\\partial q}=A(q)\"$. If this were not the case then there would have to exist a differentiable $g_1(q)$ that satisfied the following four equalities:"
   ]
  },
  {
   "cell_type": "markdown",
   "metadata": {},
   "source": [
    "<center>$\\frac{\\partial g_1}{\\partial q_1}=1 \\;\\;\\; \\rightarrow \\;\\;\\; g_1(q)=q_1+h_1(q_2,q_3,q_4)$</center>\n",
    "<center>$\\frac{\\partial g_1}{\\partial q_2}=0 \\;\\;\\; \\rightarrow \\;\\;\\; g_1(q)=q_1+h_1(q_1,q_3,q_4)$</center>\n",
    "<center>$\\frac{\\partial g_1}{\\partial q_3}=1 \\;\\;\\; \\rightarrow \\;\\;\\; g_1(q)=q_1+h_1(q_1,q_2,q_4)$</center>\n",
    "<center>$\\frac{\\partial g_1}{\\partial q_4}=-r\\cos{q_3} \\;\\;\\; \\rightarrow \\;\\;\\; g_1(q)=-rq_4\\cos{q_3}+h_1(q_1,q_2,q_3)$</center>"
   ]
  },
  {
   "cell_type": "markdown",
   "metadata": {},
   "source": [
    "for some hi, i=1,...,4, differentiable in each of its variabes. By inspection it should be clear that no such $g_1(q)$ exist, so that the constraint is nonintegrable. A Pfaffian constraint that is nonintegrable is called a nonholonomic constraint. Such constraints reduce the dimension of the feasible velocities of the system but do not reduce the dimension of the reachable C-Shape. The rolling coin can reach any point in its 4D C-Space despite the two constraints on its velocity."
   ]
  },
  {
   "cell_type": "markdown",
   "metadata": {},
   "source": [
    "In a number of robotics contexts nonholonomic constraints arise that involve the conservation of momentum and rolling without slipping.\n",
    "\n",
    "<br>\n",
    "\n",
    "<center>$holonomic \\; constraints \\rightarrow constraints \\;on \\;configuration$</center>\n",
    "<center>$nonholonomic\\; constraints \\rightarrow constraints\\; on \\;velocity$</center>"
   ]
  }
 ],
 "metadata": {
  "kernelspec": {
   "display_name": "Python 3",
   "language": "python",
   "name": "python3"
  },
  "language_info": {
   "codemirror_mode": {
    "name": "ipython",
    "version": 3
   },
   "file_extension": ".py",
   "mimetype": "text/x-python",
   "name": "python",
   "nbconvert_exporter": "python",
   "pygments_lexer": "ipython3",
   "version": "3.8.5"
  }
 },
 "nbformat": 4,
 "nbformat_minor": 4
}
