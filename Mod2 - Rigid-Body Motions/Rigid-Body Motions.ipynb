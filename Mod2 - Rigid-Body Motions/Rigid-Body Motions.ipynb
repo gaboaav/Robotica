{
 "cells": [
  {
   "cell_type": "markdown",
   "metadata": {},
   "source": [
    "# Rigid-Body Motions"
   ]
  },
  {
   "cell_type": "markdown",
   "metadata": {},
   "source": [
    "## Rigid Body Motions in the Plane"
   ]
  },
  {
   "cell_type": "markdown",
   "metadata": {},
   "source": [
    "<img src='img/Img1.png'>"
   ]
  },
  {
   "cell_type": "markdown",
   "metadata": {},
   "source": [
    "Suppose that a lenght scale and fixed reference frame {s} have been chosen as shown, with unit axes $\\hat{x_s}$ and $\\hat{y_s}$. Similarly, we attach a reference frame with unit axes $\\hat{x_b}$ and $\\hat{y_b}$ to the planar body. Because this frames moves with the body, it is called the body frame and is denoted {b}."
   ]
  },
  {
   "cell_type": "markdown",
   "metadata": {},
   "source": [
    "To describe the configuration of the planar body, only the position and orientation of the body frame with respect to the fixed frame need to be specified. The body-frame origin 'p' can be expressed in terms of coordinate axes of {s} as:\n",
    "\n",
    "<br>\n",
    "<center>$p=p_x\\hat{x_s}+p_y\\hat{y_s}$</center>\n",
    "<br>\n",
    "<center>$p=(p_x,p_y) \\rightarrow$ when there is no possibility of ambiguity about reference frames</center>"
   ]
  },
  {
   "cell_type": "markdown",
   "metadata": {},
   "source": [
    "<center>$\\hat{x_b}=\\hat{x_s}\\cos{\\theta}+\\hat{y_s}\\sin{\\theta}$</center>\n",
    "<br>\n",
    "<center>$\\hat{y_b}=-\\hat{x_s}\\sin{\\theta}+\\hat{y_s}\\cos{\\theta}$</center>"
   ]
  },
  {
   "cell_type": "markdown",
   "metadata": {},
   "source": [
    "Expressing the directions of the coordinate axes of {b} in terms of coefficients of the coordinates axes of {s} is straightforward for more complicated problems. Assuming we agree to express everything in terms of {s} then, just as the point p can be represented as a column vector $p\\in R^2$ of the form:"
   ]
  },
  {
   "cell_type": "markdown",
   "metadata": {},
   "source": [
    "<center>p=|px|</center>\n",
    "\n",
    "<center>$\\;\\;\\;$|py|</center>"
   ]
  },
  {
   "cell_type": "markdown",
   "metadata": {},
   "source": [
    "<center>$P=[\\hat{x_b} \\; \\hat{y_b}]=$</center>\n",
    "<br>\n",
    "\n",
    "\\begin{vmatrix}\n",
    "    \\cos{\\theta} &  -\\sin{\\theta}\\\\\n",
    "    \\sin{\\theta} &  \\cos{\\theta}\n",
    "\\end{vmatrix}\n"
   ]
  },
  {
   "cell_type": "markdown",
   "metadata": {},
   "source": [
    "The matrix 'P' is a **rotation matrix**. Although 'P' consist of four numbers, they are subject to 3 constraints, and the one remaining DOF is parametrized by $\\theta$. Together, the pair (P,p) provides a description of the orientation and position of {b} relative to {s}."
   ]
  },
  {
   "cell_type": "markdown",
   "metadata": {},
   "source": [
    "<img src='img/Img2.png'>"
   ]
  },
  {
   "cell_type": "markdown",
   "metadata": {},
   "source": [
    "Now refer to the 3 frames. Repeating the approach above, and expressing {c} in {s} as the pair (R,r), we can write:"
   ]
  },
  {
   "cell_type": "markdown",
   "metadata": {},
   "source": [
    "$r=[r_x \\;\\; ry]^T$\n",
    "<br>\n",
    "$R=$\n",
    "<br>\n",
    "\n",
    "\\begin{vmatrix}\n",
    "    \\cos{\\phi} &  -\\sin{\\phi}\\\\\n",
    "    \\sin{\\phi} &  \\cos{\\phi}\n",
    "\\end{vmatrix}\n"
   ]
  },
  {
   "cell_type": "markdown",
   "metadata": {},
   "source": [
    "We could also describe the frame {c} relative to {b}:"
   ]
  },
  {
   "cell_type": "markdown",
   "metadata": {},
   "source": [
    "$q=[q_x \\;\\; qy]^T$\n",
    "<br>\n",
    "$Q=$\n",
    "<br>\n",
    "\n",
    "\\begin{vmatrix}\n",
    "    \\cos{\\Psi} &  -\\sin{\\Psi}\\\\\n",
    "    \\sin{\\Psi} &  \\cos{\\Psi}\n",
    "\\end{vmatrix}\n"
   ]
  },
  {
   "cell_type": "markdown",
   "metadata": {},
   "source": [
    "If we know (Q,q) and (P,p), we can compute the configuration of {c} relative to {s} as follows:"
   ]
  },
  {
   "cell_type": "markdown",
   "metadata": {},
   "source": [
    "<center>$R=PQ$ (convert Q to the {s} frame)</center>\n",
    "<center>$r=Pq+p$ (convert q to the {s} frame and vector-sum with p)</center>"
   ]
  },
  {
   "cell_type": "markdown",
   "metadata": {},
   "source": [
    "Thus (P,p) not only represents a configuration of {b} in {s}; it can also be used to convert the representation of a point or frame from {b} coordinates to {s} coordinates.\n",
    "\n",
    "<img src='img/Img3.png'>"
   ]
  },
  {
   "cell_type": "markdown",
   "metadata": {},
   "source": [
    "<center>$R'=PR$</center>\n",
    "<center>$r'=Pr+p$</center>"
   ]
  },
  {
   "cell_type": "markdown",
   "metadata": {},
   "source": [
    "Thus we see that a rotation matrix-vector pair such as (P,p) can be used for 3 purpose:\n",
    "<br>\n",
    "<br>\n",
    "(a) Represent a configuration of a rigid body in {s}\n",
    "<br>\n",
    "(b) Change the reference frame in which a vector or frame is represented\n",
    "<br>\n",
    "(c) Displace a vector or a frame"
   ]
  },
  {
   "cell_type": "markdown",
   "metadata": {},
   "source": [
    "Note that the rigid-body motion, expressed as a rotation followed by a translation, can be obtained by simply rotating the body about a fixed point 's' by an angle '$\\beta\\;$'. This is a **screw motion**. The displacement can therefore be parametrized by the 3 screw coordinates $(\\beta,S_x,S_y),\\; where\\; (S_x,S_y)=(0,2)$ denotes the coordinates for the point 's' in the fixed frame {s}."
   ]
  },
  {
   "cell_type": "markdown",
   "metadata": {},
   "source": [
    "**Screw Motion** also can be represented as the displacement obtained by the angular and linear velocities for a given distance. Rotating about 's'' with a unit angular velocity $(w=1 rad/s)$ means that a point at the origin of the {s} frame moves at 2 units per second initially in the $+\\hat{x}-direction$ of the {s} frame \"$v=(v_x,v_y)=(2,0)$\". We can packege these together in the 3-vector '$S=(w,v_x,v_y)=(1,2,0)$' a representation of a screw axis. If the screw axis for an angle $\\theta=\\pi/2$ yields the final displacement '$S_\\theta=(\\pi/2,\\pi,0)$'"
   ]
  },
  {
   "cell_type": "markdown",
   "metadata": {},
   "source": [
    "**Twist**, combination of an angular and linear velocity. To represent it we take the axis S and scale it by multiplying by some rotation speed, $\\hat{\\theta}$. The **twist** is '$V=S\\hat{\\theta}$', also we can consider '$V=S\\theta$' if we want **exponential coordinates**."
   ]
  },
  {
   "cell_type": "markdown",
   "metadata": {},
   "source": [
    "## Rotations and Angular Velocities"
   ]
  },
  {
   "cell_type": "markdown",
   "metadata": {},
   "source": [
    "### Rotation Matrices"
   ]
  },
  {
   "cell_type": "markdown",
   "metadata": {},
   "source": [
    "The rotation Matrix 'R' has 9 total entries, 6 of them are explicit constrains that satisfies the following conditions:\n",
    "\n",
    "<br>\n",
    "a) The unit condition: $\\hat{x_b},\\hat{y_b}\\;and\\; \\hat{z_b}$ are all unit vectors.\n",
    "<br><br>\n",
    "<center>$r_{11}^2+r_{12}^2+r_{13}^2=1$</center><br>\n",
    "<center>$r_{12}^2+r_{22}^2+r_{23}^2=1$</center><br>\n",
    "<center>$r_{13}^2+r_{32}^2+r_{33}^2=1$</center><br><br>\n",
    "\n",
    "b) The orthogonality condition: $\\hat{x_b}*\\hat{y_b}=\\hat{x_b}*\\hat{z_b}=\\hat{y_b}*\\hat{z_b}=0$, or:\n",
    "<br><br>\n",
    "<center>$r_{11}*r_{12}+r_{21}*r_{22}+r_{31}*r_{32}=0$</center><br>\n",
    "<center>$r_{12}*r_{13}+r_{22}*r_{23}+r_{32}*r_{33}=0$</center><br>\n",
    "<center>$r_{11}*r_{13}+r_{21}*r_{23}+r_{31}*r_{33}=0$</center><br><br>"
   ]
  },
  {
   "cell_type": "markdown",
   "metadata": {},
   "source": [
    "All six constraints can be expressed as: $R^T*R=I$,  where I denotes de identity matrix. With this in mind we can say that \"$det R=\\pm1$\", this impose the aditional constraint $det R=1$ that means that only right-handed frames are allowed.\n",
    "\n",
    "<br>\n",
    "The set 3x4 rotation matrices forms the special orthogonal group **SO(3)**, this satisfy (i) $R^T*R=I$ and (ii) $det R=1$.\n",
    "<br><br>\n",
    "The set of 2x2 rotation-matrices is a subgroup of SO(3) and is denoted SO(2), this satisfy (i) $R^T*R=I$ and (ii) $det R=1$. Every $R \\in SO(2)$ can be written:\n",
    "\n",
    "<center>$R=\\begin{vmatrix}\n",
    "    r_{11} &  r_{12}\\\\\n",
    "    r_{21} &  r_{22}\n",
    "\\end{vmatrix}\n",
    "=\\begin{vmatrix}\n",
    "    \\cos{\\theta} &  -\\sin{\\theta}\\\\\n",
    "    \\sin{\\theta} &  \\cos{\\theta}\n",
    "\\end{vmatrix},\\;where\\; \\theta \\in [0,2\\pi)$</center>"
   ]
  },
  {
   "cell_type": "markdown",
   "metadata": {},
   "source": [
    "### Properties of Rotation Matrices"
   ]
  },
  {
   "cell_type": "markdown",
   "metadata": {},
   "source": [
    "-closure: AB is also in the group.<br>\n",
    "-associativity: (AB)C=A(BC).<br>\n",
    "-identity element existence: there exist an element I in the group such that AI=IA=A.<br>\n",
    "-inverse element existence: There exist an element $A^-1$ in the group such that $AA^-1=A^-1A=I$<br>"
   ]
  },
  {
   "cell_type": "markdown",
   "metadata": {},
   "source": [
    "\"*The inverse of a rotation matrix $R \\in SO(3)$ is also a rotation matrix, and it is equal to the transpose of R, $R^-1=R^T\\in SO(3)$*\""
   ]
  },
  {
   "cell_type": "markdown",
   "metadata": {},
   "source": [
    "\"*The product of 2 rotation matrices is a rotation matrices*\""
   ]
  },
  {
   "cell_type": "markdown",
   "metadata": {},
   "source": [
    "\"*Multiplication of rotation matrices is associative, $(R_1R_2)R_3=R_1(R_2R_3)$, but generally not commutative, $R_1R_2\\neq R_2R_1$. For the special case of rotation matrices in SO(2), rotations commute*\""
   ]
  },
  {
   "cell_type": "markdown",
   "metadata": {},
   "source": [
    "\"*For any vector $x \\in R^3$ and $R \\in SO(3)$, the vector $y=Rx$ has the same length as x*\""
   ]
  },
  {
   "cell_type": "markdown",
   "metadata": {},
   "source": [
    "### Uses of Rotation Matrices"
   ]
  },
  {
   "cell_type": "markdown",
   "metadata": {},
   "source": [
    "a) To represent orientation.<br>\n",
    "b) To change the reference frame in which a vector or a frame is represented.<br>\n",
    "c) To rotate a vector or a frame"
   ]
  },
  {
   "cell_type": "markdown",
   "metadata": {},
   "source": [
    "<img src='img/Img4.png'>"
   ]
  },
  {
   "cell_type": "markdown",
   "metadata": {},
   "source": [
    "<center>$R_a=\\begin{vmatrix}\n",
    "    1 &  0 & 0\\\\\n",
    "    0 &  1 & 0\\\\\n",
    "    0 & 0 & 1\n",
    "\\end{vmatrix}; \\; \n",
    "R_b=\\begin{vmatrix}\n",
    "    0 &  -1 & 0\\\\\n",
    "    1 &  0 & 0\\\\\n",
    "    0 & 0 & 1\n",
    "\\end{vmatrix}; \\;\n",
    "R_c=\\begin{vmatrix}\n",
    "    0 &  -1 & 0\\\\\n",
    "    0 &  0 & -1\\\\\n",
    "    1 & 0 & 0\n",
    "\\end{vmatrix}$</center>"
   ]
  },
  {
   "cell_type": "markdown",
   "metadata": {},
   "source": [
    "<center> $P_a=\\begin{vmatrix}\n",
    "    1\\\\\n",
    "    1\\\\\n",
    "    0\n",
    "\\end{vmatrix}; \\;\n",
    "P_b=\\begin{vmatrix}\n",
    "    1\\\\\n",
    "    -1\\\\\n",
    "    0\n",
    "\\end{vmatrix}; \\;\n",
    "P_c=\\begin{vmatrix}\n",
    "    0\\\\\n",
    "    -1\\\\\n",
    "    -1\n",
    "\\end{vmatrix}$</center>"
   ]
  },
  {
   "cell_type": "markdown",
   "metadata": {},
   "source": [
    "**Representing an Orientation**\n",
    "<br><br>\n",
    "<center>\n",
    "    $R_{ac}=\\begin{vmatrix}\n",
    "    0 &  -1 & 0\\\\\n",
    "    0 &  0 & -1\\\\\n",
    "    1 & 0 & 0\n",
    "\\end{vmatrix}; \\;\n",
    "R_{ca}=\\begin{vmatrix}\n",
    "    0 &  0 & 1\\\\\n",
    "    -1 &  0 & 0\\\\\n",
    "    0 & -1 & 0\n",
    "\\end{vmatrix}$"
   ]
  },
  {
   "cell_type": "markdown",
   "metadata": {},
   "source": [
    "**Changing the Reference Frame**\n",
    "<br><br>\n",
    "<center>$R_{ab}*R_{bc}=R_{ac}$<br><br>$R_{ab}*P_b=P_a$</center>"
   ]
  },
  {
   "cell_type": "markdown",
   "metadata": {},
   "source": [
    "**Rotating a Vector or a Frame** <br><br>\n",
    "\n",
    "<center>$R=Rot(\\hat{w},\\theta)$</center><br><br>\n",
    "\n",
    "<center>$Rot(\\hat{x},\\theta)=\\begin{vmatrix}\n",
    "    1 &  0 & 0\\\\\n",
    "    0 &  \\cos{\\theta} & -\\sin{\\theta}\\\\\n",
    "    0 & \\sin{\\theta} & \\cos{\\theta}\n",
    "\\end{vmatrix}; \\; \n",
    "Rot(\\hat{y},\\theta)=\\begin{vmatrix}\n",
    "    \\cos{\\theta} &  0 & -\\sin{\\theta}\\\\\n",
    "    0 &  1 & 0\\\\\n",
    "    \\sin{\\theta} & 0 & \\cos{\\theta}\n",
    "\\end{vmatrix}; \\;\n",
    "Rot(\\hat{z},\\theta)=\\begin{vmatrix}\n",
    "    \\cos{\\theta} &  -\\sin{\\theta} & 0\\\\\n",
    "    \\sin{\\theta} &  \\cos{\\theta} & 0\\\\\n",
    "    0 & 0 & 1\n",
    "\\end{vmatrix}$ </center>"
   ]
  },
  {
   "cell_type": "markdown",
   "metadata": {},
   "source": [
    "We can express this function with a matrix for all coordinates, where $S_\\theta=\\sin{\\theta}$ and $C_\\theta=\\cos{\\theta}$:"
   ]
  },
  {
   "cell_type": "markdown",
   "metadata": {},
   "source": [
    "<center>$Rot(\\hat{w},\\theta)=\\begin{vmatrix}\n",
    "    C_\\theta+\\hat{w_1}^2(1-C_\\theta) &  \\hat{w_1}\\hat{w_2}(1-C_\\theta)-\\hat{w_3}S_\\theta & \\hat{w_1}\\hat{w_3}(1-C_\\theta)-\\hat{w_2}S_\\theta\\\\\n",
    "    \\hat{w_1}\\hat{w_2}(1-C_\\theta)-\\hat{w_3}S_\\theta &  C_\\theta+\\hat{w_2}^2(1-C_\\theta) & \\hat{w_2}\\hat{w_3}(1-C_\\theta)-\\hat{w_1}S_\\theta\\\\\n",
    "    \\hat{w_1}\\hat{w_3}(1-C_\\theta)-\\hat{w_2}S_\\theta & \\hat{w_2}\\hat{w_3}(1-C_\\theta)-\\hat{w_1}S_\\theta & C_\\theta+\\hat{w_3}^2(1-C_\\theta)\n",
    "\\end{vmatrix}$ <br><br>\n",
    "$\\hat{w}=(\\hat{w_1},\\hat{w_2},\\hat{w_3})$</center>"
   ]
  },
  {
   "cell_type": "markdown",
   "metadata": {},
   "source": [
    "<center>$R_{sb'}=rotate\\;by\\;R\\;in\\;{s}\\;frame(R_sb)=RR_{sb}$<br><br>\n",
    "$R_{sb''}=rotate\\;by\\;R\\;in\\; {b} \\;frame(R_sb)=R_{sb}R$</center>"
   ]
  },
  {
   "cell_type": "markdown",
   "metadata": {},
   "source": [
    "<img src='img/Img5.png'>"
   ]
  },
  {
   "cell_type": "markdown",
   "metadata": {},
   "source": [
    "### Angular Velocities"
   ]
  },
  {
   "cell_type": "markdown",
   "metadata": {},
   "source": [
    "<img src='img/Img6.png'>"
   ]
  },
  {
   "cell_type": "code",
   "execution_count": null,
   "metadata": {},
   "outputs": [],
   "source": []
  }
 ],
 "metadata": {
  "kernelspec": {
   "display_name": "Python 3",
   "language": "python",
   "name": "python3"
  },
  "language_info": {
   "codemirror_mode": {
    "name": "ipython",
    "version": 3
   },
   "file_extension": ".py",
   "mimetype": "text/x-python",
   "name": "python",
   "nbconvert_exporter": "python",
   "pygments_lexer": "ipython3",
   "version": "3.8.5"
  }
 },
 "nbformat": 4,
 "nbformat_minor": 4
}
