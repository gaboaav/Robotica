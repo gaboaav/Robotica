{
 "cells": [
  {
   "cell_type": "markdown",
   "metadata": {},
   "source": [
    "# Rigid Body Motions and Twist"
   ]
  },
  {
   "cell_type": "markdown",
   "metadata": {},
   "source": [
    "## Homogeneous Transformation Matrices"
   ]
  },
  {
   "cell_type": "markdown",
   "metadata": {},
   "source": [
    "We consider representations for the combined orientation and position of a rigid body. A natural choice would be to use a rotation matrix \"$R \\in SO(3)$\" to represent the orientation of the body frame {b} in the fixed frame {s} and a vector \"$p \\in R^3$\" to represent the origin of {b} in {s}. Rather than identifying \"R\" and \"p\" separately, we package them ino a single matrix as follows."
   ]
  },
  {
   "cell_type": "markdown",
   "metadata": {},
   "source": [
    "The special Euclidean group SE(3), also known as the group of rigid-body montions or **homogeneous transformation matrices** in $R^3$, is the set of all 4x4 real matrices T of the form:"
   ]
  },
  {
   "cell_type": "markdown",
   "metadata": {},
   "source": [
    "<center>$T=\\begin{vmatrix}\n",
    "R & p\\\\\n",
    "0 & 1\n",
    "\\end{vmatrix} =\n",
    "\\begin {vmatrix}\n",
    "r_{11} & r_{12} & r_{13} & p_1\\\\\n",
    "r_{21} & r_{22} & r_{23} & p_2\\\\\n",
    "r_{31} & r_{32} & r_{33} & p_3\\\\\n",
    "0 & 0 & 0 & 1 \\end{vmatrix}$\n",
    "</center>"
   ]
  },
  {
   "cell_type": "markdown",
   "metadata": {},
   "source": [
    "An element \"$T \\in SE(3)$\" will sometimes be denoted (R,p).\n",
    "<br><br>\n",
    "**The special Euclidean group SE(2)** is the set of all 3x3 real matrices T of the form:"
   ]
  },
  {
   "cell_type": "markdown",
   "metadata": {},
   "source": [
    "<center>\n",
    "    $T=\\begin{vmatrix}\n",
    "    R  & p \\\\\n",
    "    0 & 1\n",
    "    \\end{vmatrix}$<br><br>\n",
    "    Where $R\\in SO(2),\\; p\\in R^2$, and 0 denotes a row vector of 2 zeros<br><br>\n",
    "    $T=\\begin{vmatrix}\n",
    "    r_{11} & r_{12} & p_1\\\\\n",
    "    r_{21} & r_{22} & p_2\\\\\n",
    "    0 & 0 & 1 \\end{vmatrix}=\\begin{vmatrix}\n",
    "    \\cos{\\theta} & -\\sin{\\theta} & p_1\\\\\n",
    "    \\sin{\\theta} & \\cos{\\theta} & p_2\\\\\n",
    "    0 & 0 & 1\n",
    "    \\end{vmatrix}$; where $\\theta \\in [0, 2\\pi)$\n",
    "</center>"
   ]
  },
  {
   "cell_type": "markdown",
   "metadata": {},
   "source": [
    "### Properties of Transformation Matrices"
   ]
  },
  {
   "cell_type": "markdown",
   "metadata": {},
   "source": [
    "- The inverse of a transformation matrix $T \\in SE(3)$ is also a transformation matrix, and it has the following form:"
   ]
  },
  {
   "cell_type": "markdown",
   "metadata": {},
   "source": [
    "<center>\n",
    "    $T^{-1}=\\begin{vmatrix}\n",
    "    R & p\\\\\n",
    "    0 & 1 \\end{vmatrix} ^{-1}=\n",
    "    \\begin{vmatrix}\n",
    "    R^T & -R^T p\\\\\n",
    "    0 & 1 \\end {vmatrix}$\n",
    "</center>"
   ]
  },
  {
   "cell_type": "markdown",
   "metadata": {},
   "source": [
    "- The product of two transformation matrices is also a transformation matrix."
   ]
  },
  {
   "cell_type": "markdown",
   "metadata": {},
   "source": [
    "- The multiplication of transformation matrices is associative, so (T1T2)T3=T1(T2T3), but generally not commutative"
   ]
  },
  {
   "cell_type": "markdown",
   "metadata": {},
   "source": [
    "- Given $T=(R,p) \\in SE(3)$ and $x,y\\in R^3$, the following hold:"
   ]
  },
  {
   "cell_type": "markdown",
   "metadata": {},
   "source": [
    "(a) $||T_x - T_y||=||x - y||$, where \"|| - ||\" denotes the Standard Euclidean norm in $R^3$"
   ]
  },
  {
   "cell_type": "markdown",
   "metadata": {},
   "source": [
    "(b) $<T_x - T_z, T_y - T_z>=<x-z,y-z>$ for all $z\\in R^3$ where \"<->\" denotes the standard Euclidean inner product in \"R^3\", $<x,y>=x^T y$"
   ]
  },
  {
   "cell_type": "markdown",
   "metadata": {},
   "source": [
    "### Uses of Transformation Matrices"
   ]
  },
  {
   "cell_type": "markdown",
   "metadata": {},
   "source": [
    "**Representing a Configuration**"
   ]
  },
  {
   "cell_type": "markdown",
   "metadata": {},
   "source": [
    "<img src='img/Img9.png'>"
   ]
  },
  {
   "cell_type": "markdown",
   "metadata": {},
   "source": [
    "The fixed frame {s} is coincident with {a} and the frames {a},{b},{c}, represented by $T_{sa}=(R_{sa},p_{sa})$, $T_{sb}=(R_{sb},p_{sb})$, and $T_{sc}=(R_{sc},p_{sc})$ can be expressed relative to {s} by the rotations."
   ]
  },
  {
   "cell_type": "markdown",
   "metadata": {},
   "source": [
    "<center>\n",
    "    $R_{sa}=\\begin{vmatrix}\n",
    "    1 & 0 & 0\\\\\n",
    "    0 & 1 & 0\\\\\n",
    "    0 & 0 & 1 \\end{vmatrix}$; \n",
    "    $R_{sb}=\\begin{vmatrix}\n",
    "    0 & 0 & 1\\\\\n",
    "    0 & -1 & 0\\\\\n",
    "    1 & 0 & 0 \\end{vmatrix}$; \n",
    "    $R_{sc}=\\begin{vmatrix}\n",
    "    -1 & 0 & 0\\\\\n",
    "    0 & 0 & 1\\\\\n",
    "    0 & 1 & 0 \\end{vmatrix}$\n",
    "</center>"
   ]
  },
  {
   "cell_type": "markdown",
   "metadata": {},
   "source": [
    "The location of the origin of each frame relative to {s} can be written as:<br><br>\n",
    "<center>\n",
    "$p_{sa}=[0\\;0\\;0]^T$<br>\n",
    "$p_{sb}=[0\\;-2\\;0]^T$<br>\n",
    "$p_{sc}=[1\\;1\\;0]^T$</center>"
   ]
  },
  {
   "cell_type": "markdown",
   "metadata": {},
   "source": [
    "Since {a} is collocated with {s}, the transformation matrix $T_{sa}$ constructed from $(R_{sa},p_{sa})$ is the **identify matrix**."
   ]
  },
  {
   "cell_type": "markdown",
   "metadata": {},
   "source": [
    "**Changing The Reference Frame of a Vector or a Frame**"
   ]
  },
  {
   "cell_type": "markdown",
   "metadata": {},
   "source": [
    "<center>\n",
    "    $T_{ab}T_{bc}=T_{ac}$<br>\n",
    "    $T_{ab}V_b=V_a$\n",
    "</center>"
   ]
  },
  {
   "cell_type": "markdown",
   "metadata": {},
   "source": [
    "**Displacing a Vector or a Frame**"
   ]
  },
  {
   "cell_type": "markdown",
   "metadata": {},
   "source": [
    "A transformation matrix 'T' can act on a frame $T_{sb}$ by rotating it by $\\theta$ about an axis $\\hat{w}$ and translating it by p. By a minor abuse of notation, we can extend the 3x3 rotation operator $R=Rot(\\hat{w},\\theta)$ to a 4x4 transformation matrix that rotates without translating."
   ]
  },
  {
   "cell_type": "markdown",
   "metadata": {},
   "source": [
    "<center>\n",
    "    $Rot(\\hat{w},\\theta)=\\begin{vmatrix}\n",
    "    R & 0\\\\\n",
    "    0 & 1 \\end{vmatrix}$\n",
    "</center>"
   ]
  },
  {
   "cell_type": "markdown",
   "metadata": {},
   "source": [
    "So the **translation operator** is define as:"
   ]
  },
  {
   "cell_type": "markdown",
   "metadata": {},
   "source": [
    "<center>\n",
    "    $Trans(p)=\\begin{vmatrix}\n",
    "    1 & 0 & 0 & p_1\\\\\n",
    "    0 & 1 & 0 & p_2\\\\\n",
    "    0 & 0 & 1 & p_3\\\\\n",
    "    0 & 0 & 0 & 1 \\end{vmatrix}$\n",
    "</center>"
   ]
  },
  {
   "cell_type": "markdown",
   "metadata": {},
   "source": [
    "**Fixed Frame**<br><br>\n",
    "<center>\n",
    "    $T_{sb'}=TT_{sb}=Trans(p)*Rot(\\hat{w},\\theta)T_{sb}$ <br><br>\n",
    "    $=\\begin{vmatrix} \n",
    "    R & p\\\\\n",
    "    0 & 1 \\end{vmatrix}\n",
    "    \\begin{vmatrix} \n",
    "    R_{sb} & p_{sb}\\\\ \n",
    "    0 & 1\\end{vmatrix}=\n",
    "    \\begin{vmatrix} \n",
    "    RR_{sb} & R*p_{sb}+p\\\\ \n",
    "    0 & 1 \\end{vmatrix}$\n",
    "</center>"
   ]
  },
  {
   "cell_type": "markdown",
   "metadata": {},
   "source": [
    "**Body Frame**<br><br>\n",
    "<center>\n",
    "    $T_{sb}''=T_{sb}T=T_{sb}*Trans(p)*Rot(\\hat{w},\\theta)$ <br><br>\n",
    "    $=\\begin{vmatrix} \n",
    "    R_{sb} & p_{sb}\\\\\n",
    "    0 & 1 \\end{vmatrix}\n",
    "    \\begin{vmatrix} \n",
    "    R & p\\\\ \n",
    "    0 & 1\\end{vmatrix}=\n",
    "    \\begin{vmatrix} \n",
    "    R_{sb}R & R_{sb}*p+p_{sb}\\\\ \n",
    "    0 & 1 \\end{vmatrix}$\n",
    "</center>"
   ]
  },
  {
   "cell_type": "markdown",
   "metadata": {},
   "source": [
    "The **fixed-frame transformation** can be interpreted as \"*first rotation of {b} frame by $\\theta$ about an $\\hat{w}$-axis in the {s} frame, then translating it by 'p' in the {s} frame to get a frame {b'}*\". <br>\n",
    "The **body-frame transformation** can be interpreted as \"*first translating {b} by 'p' considered to be in the {b} by 'p' considered to be in the {b} frame, then rotating about $\\hat{w}$ in this new body frame to get {b''}*\"."
   ]
  },
  {
   "cell_type": "markdown",
   "metadata": {},
   "source": [
    "<img src='img/Img10.png'>"
   ]
  },
  {
   "cell_type": "markdown",
   "metadata": {},
   "source": [
    "## Twist"
   ]
  },
  {
   "cell_type": "markdown",
   "metadata": {},
   "source": [
    "Considering both the linear and angular velocities of a moving frame. Let:"
   ]
  },
  {
   "cell_type": "markdown",
   "metadata": {},
   "source": [
    "<center>\n",
    "   $ T_{sb}(t)=T(t)=\\begin{vmatrix} R(t) & p(t)\\\\ 0 & 1 \\end{vmatrix}$\n",
    "</center>"
   ]
  },
  {
   "cell_type": "markdown",
   "metadata": {},
   "source": [
    "<center>\n",
    "    $T^{-1}T=\\begin{vmatrix} R^T & -R^Tp \\\\ 0 & 1 \\end{vmatrix} \\begin{vmatrix} \\dot{R} & \\dot{p} \\\\ 0 & 0 \\end{vmatrix}=\\begin{vmatrix} R^T\\dot{R} & R^T\\dot{p}\\\\ 0 & 0 \\end{vmatrix}=\\begin{vmatrix} [w_b] & v_b\\\\ 0 & 0 \\end{vmatrix}$<br>\n",
    "    $R^T\\dot{R}=[w_b]$ is just the skew-symmetric matrix representation of the angular velocity expressed in {b} coordinates.\n",
    "</center>"
   ]
  },
  {
   "cell_type": "markdown",
   "metadata": {},
   "source": [
    "The above calculations of $T^{-1}\\dot{T}$ suggest that it reasonable to merge $w_b$ and $v_b$ into a single 6-dimensional velocity vector. We define the spatial velocity in the body frame, or simply the body twist, to be:"
   ]
  },
  {
   "cell_type": "markdown",
   "metadata": {},
   "source": [
    "<center>\n",
    "    $V_b=[w_b,v_b]^T \\in R^6$<br><br>\n",
    "    $T^{-1}\\dot{T}=[V_b]=\\begin{vmatrix} [w_b] & v_b\\\\ 0 0 \\end{vmatrix} \\in se(3)$\n",
    "</center>"
   ]
  },
  {
   "cell_type": "markdown",
   "metadata": {},
   "source": [
    "where $[w_b]\\in so(3)$ and $v_b \\in R^3$. The set of all 4x4 matrices of this form is called se(3) and comprises the matrix representations of the twist associated with the rigid-body configuration SE(3)."
   ]
  },
  {
   "cell_type": "markdown",
   "metadata": {},
   "source": [
    "<center>\n",
    "    $ TT^{-1}=\\begin{vmatrix} \n",
    "    \\dot{R} & \\dot{p} \\\\ \n",
    "    0 & 0 \n",
    "    \\end{vmatrix} \n",
    "    \\begin{vmatrix} \n",
    "    R^T & -R^Tp \\\\ \n",
    "    0 & 1 \n",
    "    \\end{vmatrix}$ <br><br>\n",
    "   \n",
    "</center>"
   ]
  },
  {
   "cell_type": "markdown",
   "metadata": {},
   "source": [
    "<center>$=\\begin{vmatrix} \n",
    "     \\dot{R}R^T & \\dot{p}-\\dot{R}R^Tp \\\\ \n",
    "     0 & 0 \n",
    "     \\end{vmatrix}=\n",
    "     \\begin{vmatrix} \n",
    "     [w_s] & v_s \\\\ \n",
    "     0 & 0 \n",
    "     \\end{vmatrix} \\in se(3)$</center>"
   ]
  },
  {
   "cell_type": "markdown",
   "metadata": {},
   "source": [
    "[ws] is the angular velocity expressed in fixed frame coordinates."
   ]
  },
  {
   "cell_type": "markdown",
   "metadata": {},
   "source": [
    "<center>\n",
    "    $v_s=\\dot{p}-w_s\\times p=\\dot{p} + w_s \\times (-p)$<br> <br>\n",
    "    $V_s=\\begin{vmatrix} w_s\\\\v_s\\end{vmatrix} \\in R^6$<br><br>\n",
    "    $[V_s]=\\begin{vmatrix} [w_s] & v_s \\\\ 0 & 0 \\end{vmatrix}= \\dot{T}T^{-1} \\in se(3)$ 4x4 matrix representation of Vs\n",
    "</center>"
   ]
  },
  {
   "cell_type": "markdown",
   "metadata": {},
   "source": [
    "Vs is the **spatial velocity** in the space frame, or simply the spatial twist."
   ]
  },
  {
   "cell_type": "markdown",
   "metadata": {},
   "source": [
    "<img src='img/Img11.png'>"
   ]
  },
  {
   "cell_type": "markdown",
   "metadata": {},
   "source": [
    "Def. *Given $T=(R,p) \\in SE(3)$, its adjoint representation $[Ad_T]$ is:*"
   ]
  },
  {
   "cell_type": "markdown",
   "metadata": {},
   "source": [
    "<center>\n",
    "    $[Ad_T]=\\begin{vmatrix} R & 0 \\\\ [p]R & R \\end{vmatrix} \\in R^{6x6}$\n",
    "</center>"
   ]
  },
  {
   "cell_type": "markdown",
   "metadata": {},
   "source": [
    "For any $V\\in R^6$, the adjoint map associated with T is:"
   ]
  },
  {
   "cell_type": "markdown",
   "metadata": {},
   "source": [
    "<center>\n",
    "    $V'=[Ad_T]V;$<br><br>\n",
    "    $V'=Ad_T(V)$<br><br>\n",
    "    if $[V]\\in se(3) \\; of\\; V\\in R^6:\\;\\;$ $[V']=T[V]T^{-1}$ \n",
    "</center>"
   ]
  },
  {
   "cell_type": "markdown",
   "metadata": {},
   "source": [
    "Prop. *Given a fixed frame {s} and a body frame {b} and a differentiable $T_{sb}(t)\\in SE(3)$ where:*"
   ]
  },
  {
   "cell_type": "markdown",
   "metadata": {},
   "source": [
    "<center>\n",
    "    $T_{sb}(t)=\\begin{vmatrix} R(t) & p(t) \\\\ 0 & 1 \\end{vmatrix}$<br><br>\n",
    "</center>"
   ]
  },
  {
   "cell_type": "markdown",
   "metadata": {},
   "source": [
    " **Matrix Representation of body twist**\n",
    "<center>\n",
    "    $T_{sb}^{-1} T_{sb}=[V_b]=\\begin{vmatrix} [w_b] & v_b\\\\ 0 & 0 \\end{vmatrix} \\in se(3)$<br><br>\n",
    "    </center>"
   ]
  },
  {
   "cell_type": "markdown",
   "metadata": {},
   "source": [
    "**Matrix Representation of the spatial twist**\n",
    "<center>\n",
    "    $T_{sb}T_{sb}^{-1}=[v_s]=\\begin{vmatrix} [w_s] & v_s\\\\ 0 & 0 \\end{vmatrix} \\in se(3)$<br><br>\n",
    "</center>"
   ]
  },
  {
   "cell_type": "markdown",
   "metadata": {},
   "source": [
    "<center>\n",
    "    $V_s=[w_s \\; v_s]^T=\\begin{vmatrix} R & 0 \\\\ [p]R & R\\end{vmatrix} \\begin{vmatrix} w_b \\\\ v_b \\end{vmatrix}=[Ad_{T_sb}]V_b$<br><br>\n",
    "    $V_b=[w_b \\; v_b]^T=\\begin{vmatrix} R^T & 0 \\\\ -R^T[p] & R^T\\end{vmatrix} \\begin{vmatrix} w_s \\\\ v_s \\end{vmatrix}=[Ad_{T_bs}]V_s$<br><br>\n",
    "    $V_c=[Ad_{T_cd}]V_d \\; ; \\; V_d=[Ad_{T_dc}]V_c$\n",
    "</center>"
   ]
  },
  {
   "cell_type": "markdown",
   "metadata": {},
   "source": [
    "#### -The Screw Interpretation of a Twist"
   ]
  },
  {
   "cell_type": "markdown",
   "metadata": {},
   "source": [
    "<img src='img/Img12.png'>"
   ]
  },
  {
   "cell_type": "markdown",
   "metadata": {},
   "source": [
    "Just as an angular velocity 'w' can be viewed as $\\dot{w}\\dot{\\theta}$, a twist 'V' can be interpreted in terms of a screw axis-S and a velocity $\\dot{\\theta}$."
   ]
  },
  {
   "cell_type": "markdown",
   "metadata": {},
   "source": [
    "One representation of a screw axis 'S' is the collection {$q, \\hat{s},h$}, where $q\\in R^3$ is a point on the axis, $\\hat{s}$ is the unit vector of the axis, and h is the screw pitch, which defines the ratio linear velocity along the screw axis to the angular velocity $\\dot{\\theta}$ about the screw axis."
   ]
  },
  {
   "cell_type": "markdown",
   "metadata": {},
   "source": [
    "<center>\n",
    "    $V=\\begin{vmatrix} \n",
    "    w \\\\\n",
    "    v \n",
    "    \\end{vmatrix}=\n",
    "    \\begin{vmatrix} \n",
    "    \\hat{s}\\dot{\\theta} \\\\ \n",
    "    -\\hat{s}\\dot{\\theta} \\times q + h\\hat{s}\\dot{\\theta}\n",
    "    \\end{vmatrix}$\n",
    "</center>"
   ]
  },
  {
   "cell_type": "markdown",
   "metadata": {},
   "source": [
    "For any $V=(w,v)$ where $w \\neq 0$, there exist an equivalent screw axis {$q, \\hat{s}, h$} and velocity $\\dot{\\theta}$. Where $\\hat{s}=w/||w||$, $\\dot{\\theta}=||w||$, $h=\\hat{w}^T*v/\\dot{\\theta}$, and $\\dot{q}$ is chosen so that the term $-\\hat{s}\\dot{\\theta}\\times q$ provides the portion of 'v' orthogonal to the screw axis."
   ]
  },
  {
   "cell_type": "markdown",
   "metadata": {},
   "source": [
    "We can define the screw-axis 'S' using normalized version of a twist 'V=(w,v)' corresponding to the motion along the screw:"
   ]
  },
  {
   "cell_type": "markdown",
   "metadata": {},
   "source": [
    "(a) If $w \\neq 0$ then $S=V/||w||=(w/||w|| ,v/||w||)$. The screw axis 'S' is simply 'V' normalized by the lenght of the angular velocity vector. The angular velocity about the screw axis is $\\dot{\\theta} =||w||$, such that $S\\dot{\\theta}=V$"
   ]
  },
  {
   "cell_type": "markdown",
   "metadata": {},
   "source": [
    "(b) If w=0 then $S=V/||v||=(0, v/||v||)$. The screw axis S is simply V normalized by the length of the linear velocity vector. The linear velocity along the screw axis is $\\dot{\\theta}=||v||$, such that $S\\dot{\\theta}=V$"
   ]
  },
  {
   "cell_type": "markdown",
   "metadata": {},
   "source": [
    "<center>\n",
    "    $S=\\begin{vmatrix} w \\\\ v \\end{vmatrix} \\in R^6$<br><br>\n",
    "    $[S]=\\begin{vmatrix} [w] & v \\\\ 0 & 0 \\end{vmatrix} \\in se(3) \\; ; \\; [w]=\\begin{vmatrix} 0 & -w_3 & w_2 \\\\ w_3 & 0 & -w_1\\\\ -w_2 & w_1 & 0 \\end{vmatrix} \\in so(3)$<br><br>\n",
    "    $S_a=[Ad_{T_{ab}}]Sb \\;\\;,\\;\\; S_b=[Ad_{T_{ba}}]S_a$\n",
    "</center>"
   ]
  }
 ],
 "metadata": {
  "kernelspec": {
   "display_name": "Python 3",
   "language": "python",
   "name": "python3"
  },
  "language_info": {
   "codemirror_mode": {
    "name": "ipython",
    "version": 3
   },
   "file_extension": ".py",
   "mimetype": "text/x-python",
   "name": "python",
   "nbconvert_exporter": "python",
   "pygments_lexer": "ipython3",
   "version": "3.8.5"
  }
 },
 "nbformat": 4,
 "nbformat_minor": 4
}
