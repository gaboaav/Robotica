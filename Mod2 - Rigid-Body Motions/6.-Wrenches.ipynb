{
 "cells": [
  {
   "cell_type": "markdown",
   "metadata": {},
   "source": [
    "# Wrenches"
   ]
  },
  {
   "cell_type": "markdown",
   "metadata": {},
   "source": [
    "Consider a linear force 'f' acting on a rigid-body at a point 'r'. Defining a reference frame {a}, the point 'r' can be represented as $r_a \\in R^3$ and the force 'f' can be represented as $f_a \\in R^3$. This force creates a 'torque' or 'moment' $m_a \\in R^3$ in the {a} frame:"
   ]
  },
  {
   "cell_type": "markdown",
   "metadata": {},
   "source": [
    "<center>$m_a=r_a \\times f_a$</center>"
   ]
  },
  {
   "cell_type": "markdown",
   "metadata": {},
   "source": [
    "<img src='img/Img13.png'>"
   ]
  },
  {
   "cell_type": "markdown",
   "metadata": {},
   "source": [
    "<center>\n",
    "    $F_a=\\begin{vmatrix} m_a \\\\ f_a \\end{vmatrix}$\n",
    "</center>"
   ]
  },
  {
   "cell_type": "markdown",
   "metadata": {},
   "source": [
    "<center>\n",
    "    $V_b^T F_b=V_a^T F_a$; <br>\n",
    "    $V_a=[Ad_{T_{ab}}]V_b$<br><br>\n",
    "    $V_b^T F_b=([Ad_{T_{ab}}]V_b)^T F_a=V_b^T [Ad_{T_{ab}}]^T F_a$<br><br>\n",
    "    $F_b=[Ad_{T_{ab}}]^T F_a$ ; $F_a=[Ad_{T_{ba}}]^T F_b$\n",
    "</center>"
   ]
  },
  {
   "cell_type": "markdown",
   "metadata": {},
   "source": [
    "Prop. *Given a wrench F, represent in {a} as Fa and in {b} as Fb, the two representations asr related by:*"
   ]
  },
  {
   "cell_type": "markdown",
   "metadata": {},
   "source": [
    "<center>\n",
    "    $F_b=Ad_{T_{ab}}^T (F_a)=[Ad_{T_{ab}}]^T F_a$<br><br>\n",
    "    $F_a=Ad_{T_{ba}}^T (F_b)=[Ad_{T_{ba}}]^T F_b$\n",
    "</center>"
   ]
  }
 ],
 "metadata": {
  "kernelspec": {
   "display_name": "Python 3",
   "language": "python",
   "name": "python3"
  },
  "language_info": {
   "codemirror_mode": {
    "name": "ipython",
    "version": 3
   },
   "file_extension": ".py",
   "mimetype": "text/x-python",
   "name": "python",
   "nbconvert_exporter": "python",
   "pygments_lexer": "ipython3",
   "version": "3.8.5"
  }
 },
 "nbformat": 4,
 "nbformat_minor": 4
}
