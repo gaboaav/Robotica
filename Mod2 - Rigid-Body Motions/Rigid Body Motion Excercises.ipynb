{
 "cells": [
  {
   "cell_type": "markdown",
   "metadata": {},
   "source": [
    "# Rigid Body Motion Assignment"
   ]
  },
  {
   "cell_type": "code",
   "execution_count": 1,
   "metadata": {},
   "outputs": [],
   "source": [
    "import modern_robotics as mr\n",
    "import numpy as np\n",
    "import math"
   ]
  },
  {
   "cell_type": "markdown",
   "metadata": {},
   "source": [
    "1) In terms of the xs, ys, zs, coordinates of a fixed space frame {s}, the frame {a} has its xa=(0,0,1) and its ya=(1,0,0), and the frame {b} has its xb=(1,0,0) and its yb=(0,0,-1). Draw the {s}, {a} and {b} frames"
   ]
  },
  {
   "cell_type": "code",
   "execution_count": 2,
   "metadata": {},
   "outputs": [
    {
     "data": {
      "text/plain": [
       "array([[ 1,  0,  0],\n",
       "       [ 0,  0, -1],\n",
       "       [ 0,  1,  0]])"
      ]
     },
     "execution_count": 2,
     "metadata": {},
     "output_type": "execute_result"
    }
   ],
   "source": [
    "Rs=np.array([[1,0,0],\n",
    "           [0,1,0],\n",
    "           [0,0,1]])\n",
    "Rsa=np.array([[0,1,0],\n",
    "            [0,0,1],\n",
    "            [1,0,0]])\n",
    "Rsb=np.array([[1,0,0],\n",
    "            [0,0,1],\n",
    "            [0,-1,0]])\n",
    "Rbs=mr.RotInv(Rsb)\n",
    "Rbs"
   ]
  },
  {
   "cell_type": "markdown",
   "metadata": {},
   "source": [
    "1.a) Now write Rab"
   ]
  },
  {
   "cell_type": "code",
   "execution_count": 3,
   "metadata": {},
   "outputs": [
    {
     "data": {
      "text/plain": [
       "array([[ 0, -1,  0],\n",
       "       [ 1,  0,  0],\n",
       "       [ 0,  0,  1]])"
      ]
     },
     "execution_count": 3,
     "metadata": {},
     "output_type": "execute_result"
    }
   ],
   "source": [
    "Rab=np.dot(mr.RotInv(Rsa),Rsb)\n",
    "Rab"
   ]
  },
  {
   "cell_type": "markdown",
   "metadata": {},
   "source": [
    "2) Let R=Rsb be consider as a transformation operator consisting of a rotation about x by -90. Calculate R1=RsaR, and think of Rsa as the representation of the initial orientation {a} relative to {s}, R as a rotation operator, and R1 as the new orientation of {a} after performing rotation. The new orientation R1 correspond to the orientation of the new {a} frame relative to {s} after rotation the original {a} frame by -90 about which axis?\n",
    "\n",
    "- The xa axis of the {a} frame"
   ]
  },
  {
   "cell_type": "markdown",
   "metadata": {},
   "source": [
    "3) Use Rsb to change the representation of the point pb=transpose(1,2,3) to {s} coordinates"
   ]
  },
  {
   "cell_type": "code",
   "execution_count": 4,
   "metadata": {},
   "outputs": [
    {
     "data": {
      "text/plain": [
       "array([[ 1],\n",
       "       [ 3],\n",
       "       [-2]])"
      ]
     },
     "execution_count": 4,
     "metadata": {},
     "output_type": "execute_result"
    }
   ],
   "source": [
    "Pb=np.array([[1],[2],[3]])\n",
    "Ps=np.dot(Rsb,Pb)\n",
    "Ps"
   ]
  },
  {
   "cell_type": "markdown",
   "metadata": {},
   "source": [
    "4) Choose a point ps=transpose(1,2,3) in {s} coordinates and calculate q=transpose(Rsb)Ps. Is q a representation of P in {b} coordinates?\n",
    "\n",
    "Yes, q=transpose(Rsb)*Ps=Pb"
   ]
  },
  {
   "cell_type": "code",
   "execution_count": 5,
   "metadata": {},
   "outputs": [
    {
     "data": {
      "text/plain": [
       "array([[ 1],\n",
       "       [-3],\n",
       "       [ 2]])"
      ]
     },
     "execution_count": 5,
     "metadata": {},
     "output_type": "execute_result"
    }
   ],
   "source": [
    "Ps_2=np.array([[1],[2],[3]])\n",
    "Pb_2=np.dot(Rbs,Ps_2)\n",
    "Pb_2"
   ]
  },
  {
   "cell_type": "markdown",
   "metadata": {},
   "source": [
    "5) An angular velocity \"w\" is represented in {s} as ws=transpose(3,2,1). What is itrs representantion Wa?"
   ]
  },
  {
   "cell_type": "code",
   "execution_count": 6,
   "metadata": {},
   "outputs": [
    {
     "data": {
      "text/plain": [
       "array([[1],\n",
       "       [3],\n",
       "       [2]])"
      ]
     },
     "execution_count": 6,
     "metadata": {},
     "output_type": "execute_result"
    }
   ],
   "source": [
    "Ws=np.array([[3],[2],[1]])\n",
    "Wa=np.dot(mr.RotInv(Rsa), Ws)\n",
    "Wa"
   ]
  },
  {
   "cell_type": "markdown",
   "metadata": {},
   "source": [
    "6) Calculate the matrix log [w]0 of Rsa. Extract and enter the rotation amount \"theta\" in radians."
   ]
  },
  {
   "cell_type": "code",
   "execution_count": 7,
   "metadata": {},
   "outputs": [
    {
     "data": {
      "text/plain": [
       "2.0943951023931957"
      ]
     },
     "execution_count": 7,
     "metadata": {},
     "output_type": "execute_result"
    }
   ],
   "source": [
    "rsa=mr.MatrixLog3(Rsa)\n",
    "rsa=mr.so3ToVec(rsa)\n",
    "(omghat, theta)=mr.AxisAng3(rsa)\n",
    "theta"
   ]
  },
  {
   "cell_type": "markdown",
   "metadata": {},
   "source": [
    "7) Calculate the exponential matrix corresponding to the exponential coordinates w0=transpose(1,2,0)"
   ]
  },
  {
   "cell_type": "code",
   "execution_count": 8,
   "metadata": {},
   "outputs": [
    {
     "name": "stderr",
     "output_type": "stream",
     "text": [
      "C:\\Users\\GABRIEL ALVARADO\\anaconda3\\envs\\py3env\\lib\\site-packages\\modern_robotics\\core.py:88: VisibleDeprecationWarning: Creating an ndarray from ragged nested sequences (which is a list-or-tuple of lists-or-tuples-or ndarrays with different lengths or shapes) is deprecated. If you meant to do this, you must specify 'dtype=object' when creating the ndarray\n",
      "  return np.array([[0,      -omg[2],  omg[1]],\n"
     ]
    },
    {
     "data": {
      "text/plain": [
       "array([[array([-0.2938183]), array([0.64690915]), array([0.70368982])],\n",
       "       [array([0.64690915]), array([0.67654542]), array([-0.35184491])],\n",
       "       [array([-0.70368982]), array([0.35184491]), array([-0.61727288])]],\n",
       "      dtype=object)"
      ]
     },
     "execution_count": 8,
     "metadata": {},
     "output_type": "execute_result"
    }
   ],
   "source": [
    "wO=np.array([[1],[2],[0]])\n",
    "wO=mr.VecToso3(wO)\n",
    "R=mr.MatrixExp3(wO)\n",
    "R"
   ]
  },
  {
   "cell_type": "markdown",
   "metadata": {},
   "source": [
    "8) Write the 3x3 skew-symmetric matrix correspond to w=transpose(1,2,0.5)"
   ]
  },
  {
   "cell_type": "code",
   "execution_count": 9,
   "metadata": {},
   "outputs": [
    {
     "data": {
      "text/plain": [
       "array([[0, array([-0.5]), array([2.])],\n",
       "       [array([0.5]), 0, array([-1.])],\n",
       "       [array([-2.]), array([1.]), 0]], dtype=object)"
      ]
     },
     "execution_count": 9,
     "metadata": {},
     "output_type": "execute_result"
    }
   ],
   "source": [
    "w=np.array([[1],[2],[0.5]])\n",
    "w=mr.VecToso3(w)\n",
    "w"
   ]
  },
  {
   "cell_type": "markdown",
   "metadata": {},
   "source": [
    "9) Use the function MatrixExp3 to calculate the rotation matrix R E SO(3) corresponding to the matrix exponential"
   ]
  },
  {
   "cell_type": "code",
   "execution_count": 10,
   "metadata": {},
   "outputs": [
    {
     "data": {
      "text/plain": [
       "array([[ 0.60482045,  0.796274  , -0.01182979],\n",
       "       [ 0.46830057, -0.34361048,  0.81401868],\n",
       "       [ 0.64411707, -0.49787504, -0.58071821]])"
      ]
     },
     "execution_count": 10,
     "metadata": {},
     "output_type": "execute_result"
    }
   ],
   "source": [
    "WO=np.array([[0, 0.5,-1],[-0.5,0,2],[1,-2,0]])\n",
    "r=mr.MatrixExp3(WO)\n",
    "r"
   ]
  },
  {
   "cell_type": "markdown",
   "metadata": {},
   "source": [
    "10) Use MatrixLog3 to calculate the matrix log [w]0 E so(3)"
   ]
  },
  {
   "cell_type": "code",
   "execution_count": 11,
   "metadata": {},
   "outputs": [
    {
     "data": {
      "text/plain": [
       "array([[ 0.        ,  1.20919958,  1.20919958],\n",
       "       [-1.20919958,  0.        ,  1.20919958],\n",
       "       [-1.20919958, -1.20919958,  0.        ]])"
      ]
     },
     "execution_count": 11,
     "metadata": {},
     "output_type": "execute_result"
    }
   ],
   "source": [
    "Rin=np.array([[0,0,1],[-1,0,0],[0,-1,0]])\n",
    "w0=mr.MatrixLog3(Rin)\n",
    "w0"
   ]
  }
 ],
 "metadata": {
  "kernelspec": {
   "display_name": "Python 3",
   "language": "python",
   "name": "python3"
  },
  "language_info": {
   "codemirror_mode": {
    "name": "ipython",
    "version": 3
   },
   "file_extension": ".py",
   "mimetype": "text/x-python",
   "name": "python",
   "nbconvert_exporter": "python",
   "pygments_lexer": "ipython3",
   "version": "3.8.5"
  }
 },
 "nbformat": 4,
 "nbformat_minor": 4
}
