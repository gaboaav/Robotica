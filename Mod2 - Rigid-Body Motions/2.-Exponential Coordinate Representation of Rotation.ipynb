{
 "cells": [
  {
   "cell_type": "markdown",
   "metadata": {},
   "source": [
    "# Exponential Coordinate Representation of Rotation"
   ]
  },
  {
   "cell_type": "markdown",
   "metadata": {},
   "source": [
    "The exponential coordinate representation $\\hat{w}\\theta$ for a rotation matrix R can be interpreted equivalently as:<br><br>\n",
    "\n",
    "- The axis $\\hat{w}$ and rotation angle $\\theta$ such that, if a frame initially coincident with {s} were rotated by $\\theta$ about $\\hat{w}$, its final orientation relative to {s} would be expressed by R.\n",
    "- The angular velocity $\\hat{w}\\theta$ expressed in {s} such that, if a frame initially coincident with {s} followed $\\hat{w}\\theta$ for one unit of time, its final orientation would be expressed by.\n",
    "- The angular velocity $\\hat{w}$ expressed in {s} such if a frame initially coincident with {s} followed $\\hat{w}$ fot $\\theta$ units of time, its final orientation would be expressed by R."
   ]
  },
  {
   "cell_type": "markdown",
   "metadata": {},
   "source": [
    "## Essential Result From Linear Differential Equations Theory"
   ]
  },
  {
   "cell_type": "markdown",
   "metadata": {},
   "source": [
    "<center>\n",
    "    $\\dot{x}(t)=ax(t)$\n",
    "</center><br>\n",
    "where $x(t)\\in R,\\;a\\in R$ is constant, and the initial condition $x(0)=x_0$ is given."
   ]
  },
  {
   "cell_type": "markdown",
   "metadata": {},
   "source": [
    "<center>\n",
    "    $x(t)=e^{at}x_0$<br>\n",
    "    $e^{at}=1+at+\\frac{(at)^2}{2!} + \\frac{(at)^3}{3!}+...$\n",
    "</center><br>\n",
    "Now consider the vector linear differential equation<br><br>\n",
    "<center>\n",
    "    $\\dot{x}(t)=Ax(t)$<br>\n",
    "    $e^{At}=I+At+\\frac{(At)^2}{2!} + \\frac{(At)^3}{3!}+...$\n",
    "</center>"
   ]
  },
  {
   "cell_type": "markdown",
   "metadata": {},
   "source": [
    "If it can be shown that A is constant and finite then this series is always guaranteed to converge to a finite limit. <br><br>\n",
    "<center>\n",
    "    \"$x(t)=e^{At}x_0$\": $\\dot{x}(t)=(\\frac{d}{dt}e^{At})x_0$<br>\n",
    "    $=\\frac{d}{dt}(I+At+\\frac{(At)^2}{2!} + \\frac{(At)^3}{3!}+...)x_0$<br>\n",
    "    $=(A+A^2t+\\frac{A^3t^2}{2!} +...)x_0$<br>\n",
    "    $=Ae^{At}x_0=Ax(t)$\n",
    "</center><br>\n",
    "which proves that '$x(t)=e^{At}x_o$' is indeed a solution."
   ]
  },
  {
   "cell_type": "markdown",
   "metadata": {},
   "source": [
    "While $AB\\neq BA$ for arbitrary square matrices A and B, it is always true that:<br><br>\n",
    "<center>\n",
    "    $Ae^{At}=e^{At}A$\n",
    "</center><br>\n",
    "for any square 'A' and scalar 't'. You can verify this directly using the series expansion for the matrix exponential. Therefore: <br><br>\n",
    "<center>\n",
    "    $\\dot{x}(t)=e^{At}Ax_0$\n",
    "</center>"
   ]
  },
  {
   "cell_type": "markdown",
   "metadata": {},
   "source": [
    "\"The linear differential eq. '$x(t)=Ax(t)$' with initial condition '$x(0)=x_0$', where '$A \\in R^{nxn}$' is constant and $x(t) \\in R^n$, has solution:<br><br>\n",
    "<center>\n",
    "    $x(t)=e^{At}x_0$<br>\n",
    "    $e^{At}=I+At+\\frac{(At)^2}{2!} + \\frac{(At)^3}{3!}+...$\n",
    "</center>"
   ]
  },
  {
   "cell_type": "markdown",
   "metadata": {},
   "source": [
    "The matrix exponential $e^{At}$ further satisfies the following properties:<br><br>\n",
    "(a) $d(e^{At})/dt=Ae^{At}=e^{At}A$.<br>\n",
    "(b) If $A=POP^{-1}$ for some $D \\in R^{nxn}$ and invertible $P \\in R^{nxn}$ then $e^{At}=Pe^{Dt}P^{-1}$.<br>\n",
    "(c) if AB=BA then $e^A e^B=e^{A+B}$<br>\n",
    "(d) $(e^A)^{-1}=e^{-A}$"
   ]
  },
  {
   "cell_type": "markdown",
   "metadata": {},
   "source": [
    "## Exponential Coordinates of Rotations"
   ]
  },
  {
   "cell_type": "markdown",
   "metadata": {},
   "source": [
    "<img src='img/Img7.png'>"
   ]
  },
  {
   "cell_type": "markdown",
   "metadata": {},
   "source": [
    "The exponential coordinates of a rotation can be viewed equivalently as (1) a unit axis of rotation $\\hat{w}$ together with a rotation angle about the axis $\\theta \\in R,(2)$ as the 3-vector obtained by multiplying the two together, $\\hat{w}\\theta \\in R^3$."
   ]
  },
  {
   "cell_type": "markdown",
   "metadata": {},
   "source": [
    "Suppose that a 3D vector p(0) is rotated by $\\theta$ about $\\hat{w}$ to $p(\\theta)$; here we assume that all quantities are expressed in fixed-frame coordinates. This rotation can be achieved by imagining that p(0) rotates at a constant rate of 1rad/s from time t=0 to $t=\\theta$. Let p(t) denote the path traced by the tip of the vector. The velocity of p(t), denoted $\\dot{p}$, is then given by,"
   ]
  },
  {
   "cell_type": "markdown",
   "metadata": {},
   "source": [
    "<center>\n",
    "    $\\dot{p}=\\hat{w} \\times p$<br>\n",
    "    $\\dot{p}=|\\hat{w}|p$<br>\n",
    "    $p(t)=e^{|\\hat{w}|t}p(0)$<br>\n",
    "    $p(\\theta)=e^{|\\hat{w}\\theta}p(0)$<br><br>\n",
    "    $Rot(\\hat{w},\\theta)=e^{|\\hat{w}|\\theta}=I+|\\hat{w}|\\theta+\\frac{(|\\hat{w}|\\theta)^2}{2!} + \\frac{(|\\hat{w}|\\theta)^3}{3!}+...$<br>\n",
    "    $=I+(\\theta -\\frac{\\theta^3}{3!}+\\frac{\\theta^5}{5!}-...)|\\hat{w}| +(\\frac{\\theta^2}{2!}-\\frac{\\theta^4}{4!}+ \\frac{\\theta^6}{6!} - ...)|\\hat{w}|^2$<br><br>\n",
    "    $\\sin{\\theta}=\\theta -\\frac{\\theta^3}{3!}+\\frac{\\theta^5}{5!}-... ; \\cos{\\theta}=1- \\frac{\\theta^2}{2!}+\\frac{\\theta^4}{4!} - ... $\n",
    "</center>"
   ]
  },
  {
   "cell_type": "markdown",
   "metadata": {},
   "source": [
    "\"Given a vector $\\hat{w}\\theta \\in R^3$, such that $\\theta$ is any scalar and $\\hat{w}\\in R^3$ is a unit vector, the matrix exponential of $|\\hat{w}|\\theta=|\\hat{w}\\theta|\\in so(3)$ is<br><br>\n",
    "<center>\n",
    "    $Rot(\\hat{w},\\theta)=e^{|\\hat{w}|\\theta}=I+\\sin{\\theta}|\\hat{w}|+(1-\\cos{\\theta})|\\hat{w}|^2, \\in SO(3)$; Rodrigue's formula\"\n",
    "</center>"
   ]
  },
  {
   "cell_type": "markdown",
   "metadata": {},
   "source": [
    "<img src='img/Img8.png'>"
   ]
  },
  {
   "cell_type": "markdown",
   "metadata": {},
   "source": [
    "The frame {b} is obtained by rotation from an initial orientation aligned with the fixed frame {s} about a unit axis $\\hat{w_1}=(0,0.866,0.5)$ by an angle $\\theta_1=30°=0.524 rad$. The rotation matrix representation of {b} can be calculated as:"
   ]
  },
  {
   "cell_type": "markdown",
   "metadata": {},
   "source": [
    "<center>\n",
    "    $R=e^{|\\hat{w_1}|\\theta_1}=I+\\sin{\\theta_1}|\\hat{w_1}|+(1-\\cos{\\theta_1})[\\hat{w_1}]^2$<br><br>\n",
    "    $=I+0.5 \\begin{vmatrix}\n",
    "    0 & -0.5 & 0.866\\\\\n",
    "    0.5 & 0 & 0\\\\\n",
    "    -0.866 & 0 & 0\n",
    "    \\end{vmatrix} +0.134\\begin{vmatrix}\n",
    "    0 & -0.5 & 0.866\\\\\n",
    "    0.5 & 0 & 0\\\\\n",
    "    -0.866 & 0 & 0\n",
    "    \\end{vmatrix}^2$<br><br>\n",
    "    $=\\begin{vmatrix}\n",
    "    0.866 & -0.25 & 0.433\\\\\n",
    "    0.25 & 0.967 & 0.058\\\\\n",
    "    -0.433 & 0.058 & 0.899\n",
    "    \\end{vmatrix}$\n",
    "</center>"
   ]
  },
  {
   "cell_type": "markdown",
   "metadata": {},
   "source": [
    "## Matrix Logarithm of Rotations"
   ]
  },
  {
   "cell_type": "markdown",
   "metadata": {},
   "source": [
    "If $\\hat{w}\\theta \\in R^3$ represents the exponential coordinates of a rotation matrix R, then skew-symmetric matrix $[\\hat{w}\\theta]=[\\hat{w}]\\theta$ is the matrix logarithm of the rotation R. The matrix logarithm is the inverse of the matrix exponential. Just as the matrix exponential \"integrates\" the matrix representation of a constant angular velocity $[\\hat{w}]\\theta \\in so(3)$ for one second to give an orientation $R \\in SO(3)$ to find the matrix representation of a constant angular velocity $[\\hat{w}]\\theta \\in so(3)$ which, if integrated for one second, rotates a frame from I to R."
   ]
  },
  {
   "cell_type": "markdown",
   "metadata": {},
   "source": [
    "<center>\n",
    "    $exp:\\; |\\hat{w}|\\theta l\\in so(3) \\rightarrow R\\in SO(3)$<br>\n",
    "    $log:\\; R\\in SO(3) \\rightarrow [\\hat{w}]\\theta \\in so(3)$\n",
    "</center><br><br>\n",
    "derivate:"
   ]
  },
  {
   "cell_type": "markdown",
   "metadata": {},
   "source": [
    "$\\begin{vmatrix}\n",
    "    C_\\theta+\\hat{w_1}^2(1-C_\\theta) &  \\hat{w_1}\\hat{w_2}(1-C_\\theta)-\\hat{w_3}S_\\theta & \\hat{w_1}\\hat{w_3}(1-C_\\theta)-\\hat{w_2}S_\\theta\\\\\n",
    "    \\hat{w_1}\\hat{w_2}(1-C_\\theta)-\\hat{w_3}S_\\theta &  C_\\theta+\\hat{w_2}^2(1-C_\\theta) & \\hat{w_2}\\hat{w_3}(1-C_\\theta)-\\hat{w_1}S_\\theta\\\\\n",
    "    \\hat{w_1}\\hat{w_3}(1-C_\\theta)-\\hat{w_2}S_\\theta & \\hat{w_2}\\hat{w_3}(1-C_\\theta)-\\hat{w_1}S_\\theta & C_\\theta+\\hat{w_3}^2(1-C_\\theta)\n",
    "\\end{vmatrix}$"
   ]
  },
  {
   "cell_type": "markdown",
   "metadata": {},
   "source": [
    "<center>\n",
    "    $r_{32}-r_{23}=2\\hat{w_1}\\sin{\\theta}$<br>\n",
    "    $r_{13}-r_{31}=2\\hat{w_2}\\sin{\\theta}$<br>\n",
    "    $r_{21}-r_{12}=2\\hat{w_3}\\sin{\\theta}$<br><br>\n",
    "    $\\hat{w_1}=\\frac{r_{32}-r_{23}}{2\\sin{\\theta}}$<br>\n",
    "    $\\hat{w_2}=\\frac{r_{13}-r_{31}}{2\\sin{\\theta}}$<br>\n",
    "    $\\hat{w_3}=\\frac{r_{21}-r_{12}}{2\\sin{\\theta}}$<br><br>\n",
    "    $[\\hat{w}]=\\begin{vmatrix}\n",
    "0 & -\\hat{w_3} & \\hat{w_2}\\\\\n",
    "\\hat{w_3} & 0 & -\\hat{w_1}\\\\\n",
    "-\\hat{w_2} & \\hat{w_1} & 0\n",
    "\\end{vmatrix}=\\frac{1}{2\\sin{\\theta}}(R-R^T)$\n",
    "</center>"
   ]
  },
  {
   "cell_type": "markdown",
   "metadata": {},
   "source": [
    "We assume that $\\sin{\\theta}\\neq0$ and find an expression for $\\theta$.<br><br>\n",
    "<center>$t_r R=r_{11}+r_{22}+r_{33}=1+2\\cos{\\theta}$</center>"
   ]
  },
  {
   "cell_type": "markdown",
   "metadata": {},
   "source": [
    "Let us now return to the case $\\theta=K\\pi$, where K is some integer. When K is an even integer, regardless of $\\hat{w}$ we have rotated back to R=I so the vector $\\hat{w}$ is undefined. When K is an odd integer, so:"
   ]
  },
  {
   "cell_type": "markdown",
   "metadata": {},
   "source": [
    "<center>\n",
    "    $R=e^{|\\hat{w}|\\pi}=1+2|\\hat{w}|^2$<br><br>\n",
    "    $\\hat{w_i}=\\pm\\sqrt{\\frac{r_{ii}+1}{2}}, \\;i=1,2,3$<br><br>\n",
    "    $2\\hat{w_1}\\hat{w_2}=r_{12}$<br>\n",
    "    $2\\hat{w_1}\\hat{w_3}=r_{13}$\n",
    "</center>"
   ]
  },
  {
   "cell_type": "markdown",
   "metadata": {},
   "source": [
    "\"Given $R\\in SO(3)$, find a $\\theta \\in [0,\\pi]$ and a unit rotation axis $\\hat{w}\\in R^3,||\\hat{w}||=1$, such that $e^{|\\hat{w}|\\theta}=R$. The vector $\\hat{w}\\theta \\in R^3$ comprises the exponential coordinates for R and the skew-symmetric matrix $[\\hat{w}]\\theta\\in so(3)$ is the matrix logarithm of R\""
   ]
  },
  {
   "cell_type": "markdown",
   "metadata": {},
   "source": [
    "(a) If R=I then $\\theta=0$ and $\\hat{w}$ is undefined<br>\n",
    "(b) If $tr R=-1$ then $\\theta=\\pi$. Set $\\hat{w}$ equal to any of the following 3 vectors that is a feasible solution."
   ]
  },
  {
   "cell_type": "markdown",
   "metadata": {},
   "source": [
    "<center>\n",
    "    $\\hat{w}=\\frac{1}{\\sqrt{2(1+r_{33})}}\n",
    "    \\begin{vmatrix}\n",
    "    r_{13}\\\\\n",
    "    r_{23}\\\\\n",
    "    1+r_{33}\n",
    "    \\end{vmatrix}$;<br><br>\n",
    "    $\\hat{w}=\\frac{1}{\\sqrt{2(1+r_{22})}}\n",
    "    \\begin{vmatrix}\n",
    "    r_{12}\\\\\n",
    "    1+r_{22}\\\\\n",
    "    r_{23}\n",
    "    \\end{vmatrix}$;<br><br>\n",
    "    $\\hat{w}=\\frac{1}{\\sqrt{2(1+r_{11})}}\n",
    "    \\begin{vmatrix}\n",
    "    1+r_{11}\\\\\n",
    "    r_{12}\\\\\n",
    "    r_{13}\n",
    "    \\end{vmatrix}$;<br><br>\n",
    "</center>"
   ]
  },
  {
   "cell_type": "markdown",
   "metadata": {},
   "source": [
    "(c) Otherwise $\\theta=\\cos^{-1}(\\frac{1}{2}(trR-1))\\in[0,\\pi)$ and <br><br>\n",
    "<center>$[\\hat{w}]=\\frac{R-R^T}{2\\sin{\\theta}}$</center>"
   ]
  }
 ],
 "metadata": {
  "kernelspec": {
   "display_name": "Python 3",
   "language": "python",
   "name": "python3"
  },
  "language_info": {
   "codemirror_mode": {
    "name": "ipython",
    "version": 3
   },
   "file_extension": ".py",
   "mimetype": "text/x-python",
   "name": "python",
   "nbconvert_exporter": "python",
   "pygments_lexer": "ipython3",
   "version": "3.8.5"
  }
 },
 "nbformat": 4,
 "nbformat_minor": 4
}
