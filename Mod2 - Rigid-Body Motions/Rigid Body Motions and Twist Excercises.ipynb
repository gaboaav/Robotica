{
 "cells": [
  {
   "cell_type": "markdown",
   "metadata": {},
   "source": [
    "# Rigid Body Motions and Twist Assignment"
   ]
  },
  {
   "cell_type": "markdown",
   "metadata": {},
   "source": [
    "1) In terms of the xs, ys, zs coordinates of a fixed frame {s}, the frame {a} has its xa-axis point in the direction (0,0,1) and its ya-axis in (-1,0,0), and frame {b} has its xb-axis in (1,0,0) and yb-axis in (0,0,-1). The origin of {a} is at (0,0,1) in {s} and the origin of {b} is at (0,2,0). Draw the {s}, {a} and {b} frames. Write Tsa, transpose(Tsb) and Tab."
   ]
  },
  {
   "cell_type": "code",
   "execution_count": 3,
   "metadata": {},
   "outputs": [
    {
     "data": {
      "text/plain": [
       "array([[ 0, -1,  0,  0],\n",
       "       [ 0,  0, -1,  0],\n",
       "       [ 1,  0,  0,  1],\n",
       "       [ 0,  0,  0,  1]])"
      ]
     },
     "execution_count": 3,
     "metadata": {},
     "output_type": "execute_result"
    }
   ],
   "source": [
    "import numpy as np\n",
    "import modern_robotics as mr\n",
    "Rs=np.array([[1,0,0],[0,1,0],[0,0,1]])\n",
    "Rsa=np.array([[0,-1,0],[0,0,-1],[1,0,0]])\n",
    "Rsb=np.array([[1,0,0],[0,0,1],[0,-1,0]])\n",
    "Tsa=np.array([[0,-1,0,0],\n",
    "             [0,0,-1,0],\n",
    "             [1,0,0,1],\n",
    "             [0,0,0,1]])\n",
    "Tsa"
   ]
  },
  {
   "cell_type": "code",
   "execution_count": 5,
   "metadata": {},
   "outputs": [
    {
     "data": {
      "text/plain": [
       "array([[ 1,  0,  0,  0],\n",
       "       [ 0,  0, -1,  0],\n",
       "       [ 0,  1,  0, -2],\n",
       "       [ 0,  0,  0,  1]])"
      ]
     },
     "execution_count": 5,
     "metadata": {},
     "output_type": "execute_result"
    }
   ],
   "source": [
    "Tsb=np.array([[1,0,0,0],\n",
    "             [0,0,1,2],\n",
    "             [0,-1,0,0],\n",
    "             [0,0,0,1]])\n",
    "Tbs=mr.TransInv(Tsb)\n",
    "Tbs"
   ]
  },
  {
   "cell_type": "code",
   "execution_count": 8,
   "metadata": {},
   "outputs": [
    {
     "data": {
      "text/plain": [
       "array([[ 0, -1,  0, -1],\n",
       "       [-1,  0,  0,  0],\n",
       "       [ 0,  0, -1, -2],\n",
       "       [ 0,  0,  0,  1]])"
      ]
     },
     "execution_count": 8,
     "metadata": {},
     "output_type": "execute_result"
    }
   ],
   "source": [
    "Tab=np.dot(mr.TransInv(Tsa),Tsb)\n",
    "Tab"
   ]
  },
  {
   "cell_type": "markdown",
   "metadata": {},
   "source": [
    "2) Let T=Tsb be consider as a transformation operator consisting of a rotation about x by -90 and a translation along y by 2 units. Calculate T1=TTsa. Are the rotation axis x and translation axis y of T properly considered to be expressed in the frame {s} or {a}.\n",
    "\n",
    "- The Frame {s}"
   ]
  },
  {
   "cell_type": "markdown",
   "metadata": {},
   "source": [
    "3) Use Tsb to change the representation of the point pb=transpose(1,2,3) to {s} coordinates."
   ]
  },
  {
   "cell_type": "code",
   "execution_count": 9,
   "metadata": {},
   "outputs": [
    {
     "data": {
      "text/plain": [
       "array([[ 1],\n",
       "       [ 5],\n",
       "       [-2],\n",
       "       [ 1]])"
      ]
     },
     "execution_count": 9,
     "metadata": {},
     "output_type": "execute_result"
    }
   ],
   "source": [
    "Pb_1=np.array([[1],[2],[3],[1]])\n",
    "Ps_1=np.dot(Tsb,Pb_1)\n",
    "Ps_1"
   ]
  },
  {
   "cell_type": "markdown",
   "metadata": {},
   "source": [
    "4) Choose a point ps=transpose(1,2,3) in {s} coordinates. Calculate q=TsbPs. Is q a representation of p in {b}\n",
    "\n",
    "- No"
   ]
  },
  {
   "cell_type": "markdown",
   "metadata": {},
   "source": [
    "5) A twist V is represented in {s} as Vs=transpose(3,2,1,-1,-2,-3). What is the representation Va?"
   ]
  },
  {
   "cell_type": "code",
   "execution_count": 30,
   "metadata": {},
   "outputs": [
    {
     "data": {
      "text/plain": [
       "array([[ 1.],\n",
       "       [-1.],\n",
       "       [-3.],\n",
       "       [-3.],\n",
       "       [ 1.],\n",
       "       [ 2.]])"
      ]
     },
     "execution_count": 30,
     "metadata": {},
     "output_type": "execute_result"
    }
   ],
   "source": [
    "Vs=np.array([[3],[2],[1],[-1],[-2],[-3]])\n",
    "Tas=mr.TransInv(Tsa)\n",
    "Va=np.dot(np.transpose(mr.Adjoint(Tsa)),Vs)\n",
    "Va"
   ]
  },
  {
   "cell_type": "markdown",
   "metadata": {},
   "source": [
    "6) Calculate the log [S]0 of Tsa. Write \"Theta\""
   ]
  },
  {
   "cell_type": "code",
   "execution_count": 21,
   "metadata": {},
   "outputs": [
    {
     "data": {
      "text/plain": [
       "array([ 1.2092, -1.2092,  1.2092,  0.7364,  0.4728,  0.7364])"
      ]
     },
     "execution_count": 21,
     "metadata": {},
     "output_type": "execute_result"
    }
   ],
   "source": [
    "S0=np.array([[0,-1.2092,-1.2092,0.7364],[1.2092,0,-1.2092,0.4728],[1.2092,1.2092,0,0.7364],[0,0,0,0]])\n",
    "s0=mr.se3ToVec(S0)\n",
    "s0"
   ]
  },
  {
   "cell_type": "code",
   "execution_count": 22,
   "metadata": {},
   "outputs": [
    {
     "data": {
      "text/plain": [
       "2.0943958365122866"
      ]
     },
     "execution_count": 22,
     "metadata": {},
     "output_type": "execute_result"
    }
   ],
   "source": [
    "(S,Theta)=mr.AxisAng6(s0)\n",
    "Theta"
   ]
  },
  {
   "cell_type": "markdown",
   "metadata": {},
   "source": [
    "7) Calculate the matrix exponential of rigid body motion S0=transpose(0,1,2,3,0,0)"
   ]
  },
  {
   "cell_type": "code",
   "execution_count": 23,
   "metadata": {},
   "outputs": [
    {
     "data": {
      "text/plain": [
       "array([[-0.61727288, -0.70368982,  0.35184491,  1.05553472],\n",
       "       [ 0.70368982, -0.2938183 ,  0.64690915,  1.94072745],\n",
       "       [-0.35184491,  0.64690915,  0.67654542, -0.97036373],\n",
       "       [ 0.        ,  0.        ,  0.        ,  1.        ]])"
      ]
     },
     "execution_count": 23,
     "metadata": {},
     "output_type": "execute_result"
    }
   ],
   "source": [
    "S0=np.array([[0,-2,1,3],\n",
    "            [2,0,0,0],\n",
    "            [-1,0,0,0],\n",
    "            [0,0,0,0]])\n",
    "T=mr.MatrixExp6(S0)\n",
    "T"
   ]
  },
  {
   "cell_type": "markdown",
   "metadata": {},
   "source": [
    "8) Use Tsb the change the representation of the wrench Fb=transpose(1,0,0,2,1,0) to {s} coordinates"
   ]
  },
  {
   "cell_type": "code",
   "execution_count": 29,
   "metadata": {},
   "outputs": [
    {
     "data": {
      "text/plain": [
       "array([[-1.],\n",
       "       [ 0.],\n",
       "       [-4.],\n",
       "       [ 2.],\n",
       "       [ 0.],\n",
       "       [-1.]])"
      ]
     },
     "execution_count": 29,
     "metadata": {},
     "output_type": "execute_result"
    }
   ],
   "source": [
    "Fb=np.array([[1],[0],[0],[2],[1],[0]])\n",
    "Ad_Tsb=np.transpose(mr.Adjoint(Tbs))\n",
    "Fs=np.dot(Ad_Tsb,Fb)\n",
    "Fs"
   ]
  },
  {
   "cell_type": "markdown",
   "metadata": {},
   "source": [
    "9) Transpose the Matrix 'T'"
   ]
  },
  {
   "cell_type": "code",
   "execution_count": 32,
   "metadata": {},
   "outputs": [
    {
     "data": {
      "text/plain": [
       "array([[ 0,  1,  0,  0],\n",
       "       [-1,  0,  0,  3],\n",
       "       [ 0,  0,  1, -1],\n",
       "       [ 0,  0,  0,  1]])"
      ]
     },
     "execution_count": 32,
     "metadata": {},
     "output_type": "execute_result"
    }
   ],
   "source": [
    "T=np.array([[0,-1,0,3],\n",
    "           [1,0,0,0],\n",
    "           [0,0,1,1],\n",
    "           [0,0,0,1]])\n",
    "TransT=mr.TransInv(T)\n",
    "TransT"
   ]
  },
  {
   "cell_type": "markdown",
   "metadata": {},
   "source": [
    "10) Write the se(3) correspoding to V=transpose(1,0,0,0,2,3)"
   ]
  },
  {
   "cell_type": "code",
   "execution_count": 34,
   "metadata": {},
   "outputs": [
    {
     "data": {
      "text/plain": [
       "array([[0, array([0]), array([0]), 0],\n",
       "       [array([0]), 0, array([-1]), 2],\n",
       "       [array([0]), array([1]), 0, 3],\n",
       "       [0.0, 0.0, 0.0, 0.0]], dtype=object)"
      ]
     },
     "execution_count": 34,
     "metadata": {},
     "output_type": "execute_result"
    }
   ],
   "source": [
    "V=np.array([[1],[0],[0],[0],[2],[3]])\n",
    "se3=mr.VecTose3(V)\n",
    "se3"
   ]
  },
  {
   "cell_type": "markdown",
   "metadata": {},
   "source": [
    "11) Use ScrewToAxis to calculate the normalized screw axis representation S of the screw described by s=(1,0,0) in the direction of the screw axis, located at the point p=(0,0,2) with h=1."
   ]
  },
  {
   "cell_type": "code",
   "execution_count": 36,
   "metadata": {},
   "outputs": [
    {
     "data": {
      "text/plain": [
       "array([1, 0, 0, 1, 2, 0])"
      ]
     },
     "execution_count": 36,
     "metadata": {},
     "output_type": "execute_result"
    }
   ],
   "source": [
    "q=np.array([0,0,2])\n",
    "s=np.array([1,0,0])\n",
    "h=1\n",
    "S=mr.ScrewToAxis(q,s,h)\n",
    "S"
   ]
  },
  {
   "cell_type": "markdown",
   "metadata": {},
   "source": [
    "12) Use MatrixExp6 to calculate the homogeneous transformation matrix T E SE(3)"
   ]
  },
  {
   "cell_type": "code",
   "execution_count": 40,
   "metadata": {},
   "outputs": [
    {
     "data": {
      "text/plain": [
       "array([[-3.67320510e-06, -1.00000000e+00,  0.00000000e+00,\n",
       "         3.00000551e+00],\n",
       "       [ 1.00000000e+00, -3.67320510e-06,  0.00000000e+00,\n",
       "         5.50981777e-06],\n",
       "       [ 0.00000000e+00,  0.00000000e+00,  1.00000000e+00,\n",
       "         1.00000000e+00],\n",
       "       [ 0.00000000e+00,  0.00000000e+00,  0.00000000e+00,\n",
       "         1.00000000e+00]])"
      ]
     },
     "execution_count": 40,
     "metadata": {},
     "output_type": "execute_result"
    }
   ],
   "source": [
    "S0=np.array([[0,-1.5708,0,2.3562],\n",
    "            [1.5708,0,0,-2.3562],\n",
    "            [0,0,0,1],\n",
    "            [0,0,0,0]])\n",
    "V=mr.MatrixExp6(S0)\n",
    "V"
   ]
  },
  {
   "cell_type": "markdown",
   "metadata": {},
   "source": [
    "13) Use MatrixLog6 on T"
   ]
  },
  {
   "cell_type": "code",
   "execution_count": 41,
   "metadata": {},
   "outputs": [
    {
     "data": {
      "text/plain": [
       "array([[ 0.        , -1.57079633,  0.        ,  2.35619449],\n",
       "       [ 1.57079633,  0.        ,  0.        , -2.35619449],\n",
       "       [ 0.        ,  0.        ,  0.        ,  1.        ],\n",
       "       [ 0.        ,  0.        ,  0.        ,  0.        ]])"
      ]
     },
     "execution_count": 41,
     "metadata": {},
     "output_type": "execute_result"
    }
   ],
   "source": [
    "T=np.array([[0,-1,0,3],[1,0,0,0],[0,0,1,1],[0,0,0,1]])\n",
    "S0=mr.MatrixLog6(T)\n",
    "S0"
   ]
  }
 ],
 "metadata": {
  "kernelspec": {
   "display_name": "Python 3",
   "language": "python",
   "name": "python3"
  },
  "language_info": {
   "codemirror_mode": {
    "name": "ipython",
    "version": 3
   },
   "file_extension": ".py",
   "mimetype": "text/x-python",
   "name": "python",
   "nbconvert_exporter": "python",
   "pygments_lexer": "ipython3",
   "version": "3.8.5"
  }
 },
 "nbformat": 4,
 "nbformat_minor": 4
}
