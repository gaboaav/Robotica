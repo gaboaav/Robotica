{
 "cells": [
  {
   "cell_type": "markdown",
   "metadata": {},
   "source": [
    "# Exponential Coordinate Representation and Matrix Logarithm of a Rigid Body Motion"
   ]
  },
  {
   "cell_type": "markdown",
   "metadata": {},
   "source": [
    "## Exponential Coordinate Representation"
   ]
  },
  {
   "cell_type": "markdown",
   "metadata": {},
   "source": [
    "The Chasles-Mozzi theorem states that *every rigid-body displacement can be expressed as a displacement along a fixed screw axis S in space*"
   ]
  },
  {
   "cell_type": "markdown",
   "metadata": {},
   "source": [
    "We define the 6-D exponential coordinates of a homogeneous transformation T as $S\\theta \\in R^6$, where 'S' is the screw axis and $\\theta$ is the distance that must be traveled along the screw axis S=(w,v) is finite then ||w||=1 and $\\theta$ corresponds to the angle of rotation about the screw axis."
   ]
  },
  {
   "cell_type": "markdown",
   "metadata": {},
   "source": [
    "<center>\n",
    "    $exp: [S]\\theta \\in se(3) \\rightarrow T \\in SE(3)$<br><br>\n",
    "    $log: T\\in SE(3) \\rightarrow [S]\\theta \\in se(3)$\n",
    "</center>"
   ]
  },
  {
   "cell_type": "markdown",
   "metadata": {},
   "source": [
    "<center>\n",
    "    $e^{[s]\\theta}=\\begin{vmatrix} e^{[w]\\theta} & (I\\theta + (1-\\cos{\\theta})[w] + (\\theta - \\sin{\\theta})[w]^2)v \\\\ 0 & 1 \\end{vmatrix}$\n",
    "</center>"
   ]
  },
  {
   "cell_type": "markdown",
   "metadata": {},
   "source": [
    "if w=0 and ||v||=1, then:"
   ]
  },
  {
   "cell_type": "markdown",
   "metadata": {},
   "source": [
    "<center>\n",
    "    $e^{[s]\\theta}=\\begin{vmatrix} I & v\\theta \\\\ 0 & 1 \\end{vmatrix}$\n",
    "</center>"
   ]
  },
  {
   "cell_type": "markdown",
   "metadata": {},
   "source": [
    "## Matrix Logarithm of Rigid-Body Motions"
   ]
  },
  {
   "cell_type": "markdown",
   "metadata": {},
   "source": [
    "<center>\n",
    "    $e^{[s]\\theta}=\\begin{vmatrix} R & p \\\\ 0 & 1\\end{vmatrix}$<br><br>\n",
    "    $[S]\\theta=\\begin{vmatrix} [w]\\theta & v\\theta \\\\ 0 & 0 \\end{vmatrix}$\n",
    "</center>"
   ]
  },
  {
   "cell_type": "markdown",
   "metadata": {},
   "source": [
    "Algorithm: *Given (R,p) written as $T\\in SE(3)$, find a $\\theta \\in [0,\\pi]$ and a screw axis $S=(w,v)\\in R^6$ such that $e^{[s]\\theta}=T$. The vector $S\\theta \\in R^6$ comprises the exponential coordinates for T and the matrix $[S]\\theta \\in se(3)$ is the matrix logarithm of T*."
   ]
  },
  {
   "cell_type": "markdown",
   "metadata": {},
   "source": [
    "<center>\n",
    "    $G^{-1}(\\theta)=\\frac{I}{\\theta} - \\frac{[w]}{2} + (\\frac{1}{\\theta} - \\frac{ctg(\\theta)}{4})[w]^2$\n",
    "</center>"
   ]
  }
 ],
 "metadata": {
  "kernelspec": {
   "display_name": "Python 3",
   "language": "python",
   "name": "python3"
  },
  "language_info": {
   "codemirror_mode": {
    "name": "ipython",
    "version": 3
   },
   "file_extension": ".py",
   "mimetype": "text/x-python",
   "name": "python",
   "nbconvert_exporter": "python",
   "pygments_lexer": "ipython3",
   "version": "3.8.5"
  }
 },
 "nbformat": 4,
 "nbformat_minor": 4
}
