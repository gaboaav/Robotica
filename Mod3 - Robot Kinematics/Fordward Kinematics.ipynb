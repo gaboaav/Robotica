{
 "cells": [
  {
   "cell_type": "markdown",
   "metadata": {},
   "source": [
    "# Forward Kinematics"
   ]
  },
  {
   "cell_type": "markdown",
   "metadata": {},
   "source": [
    "The fordward knematics of a refers to the calculation of the position and orientation of its end--effector frame from its joint coordinates $\\theta$."
   ]
  },
  {
   "cell_type": "markdown",
   "metadata": {},
   "source": [
    "<img src='img/Img1.png'>"
   ]
  },
  {
   "cell_type": "markdown",
   "metadata": {},
   "source": [
    "This illustrates the forward kinematics problem for a 3R planar open chain. Choose a fixed frame {0} with origin located at the base joint and assume an end-effector frame {4} has been attached to the tip of the third link. The cartesian position (x,y) and orientation $\\phi$ of the end-effector frame as function of the joint angles ($\\theta_1, \\theta_2,\\theta_3$) are then given by:"
   ]
  },
  {
   "cell_type": "markdown",
   "metadata": {},
   "source": [
    "<center>\n",
    "    $x=L_1\\cos{\\theta_1}+L_2\\cos({\\theta_1+\\theta_2})+L_3\\cos({\\theta_1 + \\theta_2 + \\theta_3})$<br>\n",
    "    $y=L_1\\sin{\\theta_1}+L_2\\sin({\\theta_1+\\theta_2})+L_3\\sin({\\theta_1 + \\theta_2 + \\theta_3})$<br>\n",
    "    $\\phi=\\theta_1+\\theta_2+\\theta_3$\n",
    "</center>"
   ]
  },
  {
   "cell_type": "markdown",
   "metadata": {},
   "source": [
    "The fordward kinematics can be written as a product of 4 homogeneous transformation matrices:<br><br>\n",
    "<center>$T_{04}=T_{01}T_{12}T_{23}T_{34}$</center>"
   ]
  },
  {
   "cell_type": "markdown",
   "metadata": {},
   "source": [
    "<center>\n",
    "    $T_{01}=\\begin{vmatrix} \\cos{\\theta_1} & -\\sin{\\theta_1} & 0 & 0 \\\\ \\sin{\\theta_1} & \\cos{\\theta_1} & 0 & 0 \\\\ 0 & 0 & 1 & 0\\\\ 0 & 0 & 0 & 1 \\end{vmatrix}$ ; $T_{12}=\\begin{vmatrix} \\cos{\\theta_2} & -\\sin{\\theta_2} & 0 & 0 \\\\ \\sin{\\theta_2} & \\cos{\\theta_2} & 0 & 0 \\\\ 0 & 0 & 1 & 0\\\\ 0 & 0 & 0 & 1 \\end{vmatrix}$ <br><br>\n",
    "    $T_{23}=\\begin{vmatrix} \\cos{\\theta_3} & -\\sin{\\theta_3} & 0 & L_2 \\\\ \\sin{\\theta_3} & \\cos{\\theta_3} & 0 & 0 \\\\ 0 & 0 & 1 & 0\\\\ 0 & 0 & 0 & 1 \\end{vmatrix}$ ; $T_{34}=\\begin{vmatrix} 1 & 0 & 0 & 0 \\\\ 0 & 1 & 0 & 0 \\\\ 0 & 0 & 1 & 0\\\\ 0 & 0 & 0 & 1 \\end{vmatrix}$\n",
    "</center>"
   ]
  },
  {
   "cell_type": "markdown",
   "metadata": {},
   "source": [
    "Let us define 'M' to be position and orientation of frame {4} when all joints angles are set to zero. Then:"
   ]
  },
  {
   "cell_type": "markdown",
   "metadata": {},
   "source": [
    "<center>\n",
    "    $M=\\begin{vmatrix} 1 & 0 & 0 & L_1+L_2+L_3 \\\\ 0 & 1 & 0 & 0 \\\\ 0 & 0 & 1 & 0 \\\\ 0 & 0 & 0 & 1 \\end{vmatrix}; T(\\theta)=M$\n",
    "</center>"
   ]
  },
  {
   "cell_type": "markdown",
   "metadata": {},
   "source": [
    "Now consider each revolute joint axis: <br><br>\n",
    "<center>\n",
    "    $S_3=\\begin{vmatrix} w_3 \\\\ v_3 \\end{vmatrix}=\\begin{vmatrix} 0 \\\\ 0 \\\\ 1 \\\\ 0 \\\\ -(L_1+L_2) \\\\ 0 \\end{vmatrix}$<br><br>\n",
    "    $v_3=-w_3 \\times q_3$ ; $q_3=(L_1+L_2,0,0)$<br><br>\n",
    "    $[S_3]=\\begin{vmatrix} [w] & v \\\\ 0 & 0 \\end{vmatrix}=\\begin{vmatrix} 0 & -1 & 0 & 0 \\\\ 1 & 0 & 0 & -(L_1+L_2)\\\\ 0 & 0 & 0 & 0 \\\\ 0 & 0 & 0 & 0 \\end{vmatrix}$ <br><br>\n",
    "    $T_{04} =e^{[S_1] \\theta_1} e^{[S_2] \\theta_2} e^{[S_3] \\theta_3} M$\n",
    "</center>"
   ]
  },
  {
   "cell_type": "markdown",
   "metadata": {},
   "source": [
    "## Forward Exponential Formula"
   ]
  },
  {
   "cell_type": "markdown",
   "metadata": {},
   "source": [
    "<img src='img/Img2.png'>"
   ]
  },
  {
   "cell_type": "markdown",
   "metadata": {},
   "source": [
    "### First Formulation: Screw Axes in the Base Frame"
   ]
  },
  {
   "cell_type": "markdown",
   "metadata": {},
   "source": [
    "The key concept behind the PoE formula is to regard  each joint as applying a screw motion to all the outward links. Consider figure above, we must choose a fixed base frame {s} and an end-effector frame {b} attached to the last link. Place the robot in its zero position by setting all joint values to zero, with the direction of positive displacement for each joint specified. Let $M \\in SE(3)$ denote the configuration of the end-effector frame relative to the fixed base frame when the robot is in its zero position."
   ]
  },
  {
   "cell_type": "markdown",
   "metadata": {},
   "source": [
    "Suppose that joint 'n' is displaced to some joint value $\\theta_n$. The end-effector frame M then undergoes a displacement of the form: <br><br>\n",
    "<center> $T=e^{[S_n]\\theta_n}$; $T\\in SE(3)$ new configuration of the end-effector frame <br>\n",
    "$S_n=(w_n,v_n)$</center>"
   ]
  },
  {
   "cell_type": "markdown",
   "metadata": {},
   "source": [
    "If joint 'n' is revolute then $w_n \\in R^3$ is a unit vector in the positive direction of joint axis 'n'; $v_n=-w_n \\times q_n$, with 'qn' any arbitrary point on joint axis 'n' as written in coordinates in the fixed base frame; and $\\theta_n$ is the joint angle. If joint 'n' is prismatic then $w_n=0, \\; v_n \\in R^3$ is a unit vector in the direction of positive translation, and $\\theta_n$ represents the prismatic extension/retraction."
   ]
  },
  {
   "cell_type": "markdown",
   "metadata": {},
   "source": [
    "<center>\n",
    "    $T=e^{[S_{n-1}]\\theta_{n-1}}(e^{[S_{n}]\\theta_{n}} M)$, and so on... <br><br>\n",
    "    $T(\\theta)=e^{[S_{1}]\\theta_{1}}...e^{[S_{n-1}]\\theta_{n-1}}e^{[S_{n}]\\theta_{n}}M$\n",
    "</center>"
   ]
  },
  {
   "cell_type": "markdown",
   "metadata": {},
   "source": [
    "To calculate the forward kinematics of an open chain using the space form of the PoE formula, we need:<br><br>\n",
    "(a) The end-effector configuration $M \\in SE(3)$ when the robot is at its home position.<br>\n",
    "(b) The screw axes $S_1,...,S_n$ expressed in the fixed base frame, corresponding to the joint motions when the robot is at its home position. <br>\n",
    "(c) The joint variables $\\theta_1...\\theta_n$"
   ]
  },
  {
   "cell_type": "markdown",
   "metadata": {},
   "source": [
    "### Second Formulation: Screw Axes in the End-Effector Frame"
   ]
  },
  {
   "cell_type": "markdown",
   "metadata": {},
   "source": [
    "The matrix identity \"$e^{M^{-1}PM}=M^{-1}e^PM$\" can also be expressed as \"$Me^{M^{-1}PM}=e^PM$\". Begging with the rightmost term of the previously derived product of exponentials formula, if we repeatedly apply this identity then after 'n' iterations we obtain:"
   ]
  },
  {
   "cell_type": "markdown",
   "metadata": {},
   "source": [
    "<center>\n",
    "    $T(\\theta)=Me^{[B_1]\\theta_1}...e^{[B_{n-1}]\\theta_{n-1}}e^{[B_{n}]\\theta_{n}}$\n",
    "</center>"
   ]
  },
  {
   "cell_type": "markdown",
   "metadata": {},
   "source": [
    "where each [Bi] is given by \"$M^{-1}[S_i]M$\"; \"$B_i=[Adj_{M^{-1}}]S_i$\", i=1...n. This is an alternative form of the product of exponential formula, representing the joint axes as screw axes Bi in the end-effector (body) frame when the robot is at its zero position.We call this equation the body form of the product of exp. formula."
   ]
  },
  {
   "cell_type": "markdown",
   "metadata": {},
   "source": [
    "## The Universal Robot Description Format (URDF)"
   ]
  },
  {
   "cell_type": "markdown",
   "metadata": {},
   "source": [
    "<img src='img/Img3.png'>"
   ]
  },
  {
   "cell_type": "markdown",
   "metadata": {},
   "source": [
    "The URDF is an XML (eXtensible Markup Language) file format used by the Robot Operating System to describe the kinematics, inertial properties, and link geometry of robots. A URDF file describes the joints and links of a robot:"
   ]
  },
  {
   "cell_type": "markdown",
   "metadata": {},
   "source": [
    "- Joints. Joints connect two links: a parent link and a child link. Each joint has an origin frame that defines the position and orientation of the child link frame relative to the paren lik frame when the joint variable is zero. The origin is on the joint's axis. Each joint has an axis 3-vector, a unit vector expressed in the child link's frame, in the direction of positive rotation for a revolute joint or positive translation for a prismatic joint.\n",
    "- Links. The linnks define its mass properties. The element of a link include its mass; an origin frame at the link's center of mass relative to the link's joint frame describe above; and an inertia matrix, relative to the link's center of mass frame, specified by the 6 elements on or above the diagonal."
   ]
  }
 ],
 "metadata": {
  "kernelspec": {
   "display_name": "Python 3",
   "language": "python",
   "name": "python3"
  },
  "language_info": {
   "codemirror_mode": {
    "name": "ipython",
    "version": 3
   },
   "file_extension": ".py",
   "mimetype": "text/x-python",
   "name": "python",
   "nbconvert_exporter": "python",
   "pygments_lexer": "ipython3",
   "version": "3.8.5"
  }
 },
 "nbformat": 4,
 "nbformat_minor": 4
}
