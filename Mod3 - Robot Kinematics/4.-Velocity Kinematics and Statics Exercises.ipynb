{
 "cells": [
  {
   "cell_type": "markdown",
   "metadata": {},
   "source": [
    "# Velocity Kinematics and Statics Assignment"
   ]
  },
  {
   "cell_type": "code",
   "execution_count": 1,
   "metadata": {},
   "outputs": [],
   "source": [
    "import modern_robotics as mr\n",
    "import numpy as np\n",
    "import math\n",
    "from numpy import linalg as la"
   ]
  },
  {
   "cell_type": "markdown",
   "metadata": {},
   "source": [
    "1) A 3R planar open-chain robot is shown. Suppose the tip generates a wrench that can be expressed in the space frame {s} as a force of 2N in the $\\hat{x_s}$ direction, with no component in the $\\hat{y_s}$ direction and zero moment in the {s} frame. What torques is counterclokwise. Give the torque values in the form of (T1, T2, T3).<br><br>\n",
    "<img src='img/Img14.jpg'>"
   ]
  },
  {
   "cell_type": "code",
   "execution_count": 2,
   "metadata": {},
   "outputs": [],
   "source": [
    "Fs=np.array([[0,0,0,2,0,0]])\n",
    "Fs=np.transpose(Fs)\n",
    "#############################\n",
    "S1=np.transpose(np.array([[0,0,1,0,0,0]]))\n",
    "#############################\n",
    "w2=np.array([0,0,1])\n",
    "q2=np.array([1,0,0])\n",
    "v2=np.cross(-w2,q2)\n",
    "##############################\n",
    "S2=np.transpose(np.array([[0,0,1,0,-1,0]]))\n",
    "##############################\n",
    "w3=np.array([0,0,1])\n",
    "q3=np.array([2,0,0])\n",
    "v3=np.cross(-w3,q3)\n",
    "##############################\n",
    "S3=np.transpose(np.array([[0,0,1,0,-2,0]]))"
   ]
  },
  {
   "cell_type": "code",
   "execution_count": 3,
   "metadata": {},
   "outputs": [
    {
     "name": "stdout",
     "output_type": "stream",
     "text": [
      "[[ 0  0  0]\n",
      " [ 0  0  0]\n",
      " [ 1  1  1]\n",
      " [ 0  0  0]\n",
      " [ 0 -1 -2]\n",
      " [ 0  0  0]]\n"
     ]
    }
   ],
   "source": [
    "SList=np.array([[0,0,0],[0,0,0],[1,1,1],[0,0,0],[0,-1,-2],[0,0,0]])\n",
    "print(SList)"
   ]
  },
  {
   "cell_type": "code",
   "execution_count": 4,
   "metadata": {},
   "outputs": [
    {
     "name": "stdout",
     "output_type": "stream",
     "text": [
      "[0.         0.78539816 0.        ]\n"
     ]
    }
   ],
   "source": [
    "theta=np.array([0, math.pi/4, 0])\n",
    "print(theta)"
   ]
  },
  {
   "cell_type": "code",
   "execution_count": 5,
   "metadata": {},
   "outputs": [
    {
     "name": "stdout",
     "output_type": "stream",
     "text": [
      "[[ 0.          0.          0.        ]\n",
      " [ 0.          0.          0.        ]\n",
      " [ 1.          1.          1.        ]\n",
      " [ 0.          0.          0.70710678]\n",
      " [ 0.         -1.         -1.70710678]\n",
      " [ 0.          0.          0.        ]]\n"
     ]
    }
   ],
   "source": [
    "Js=mr.JacobianSpace(SList,theta)\n",
    "print(Js)"
   ]
  },
  {
   "cell_type": "code",
   "execution_count": 6,
   "metadata": {},
   "outputs": [
    {
     "name": "stdout",
     "output_type": "stream",
     "text": [
      "[[0.        ]\n",
      " [0.        ]\n",
      " [1.41421356]]\n"
     ]
    }
   ],
   "source": [
    "T=np.dot(np.transpose(Js),Fs)\n",
    "print(T)"
   ]
  },
  {
   "cell_type": "markdown",
   "metadata": {},
   "source": [
    "2) The 4R planar open-chain robot has an end effectir frame {b} as its tip. Considering only the planar twist components $(w_{bz},v_{bx},v_{by})$ of the body twist $V_b$.<br><br>\n",
    "\n",
    "<img src='img/Img15.jpg'>"
   ]
  },
  {
   "cell_type": "markdown",
   "metadata": {},
   "source": [
    "<center>\n",
    "    $J_b=\\begin{vmatrix}\n",
    "    1 & 1 & 1 & 1\\\\\n",
    "    L_3S_4+L_2S_{34}+L_1S_{234} & L_3S_4+L_2S_{34} & L_3S_4 & 0\\\\\n",
    "    L_4+L_3C_4+L_2C_{34}+L_1C_{234} & L_4+L_3C_4+L_2C_{34} & L_4+L_3C_4 & L_4 \\end{vmatrix}$\n",
    "</center>"
   ]
  },
  {
   "cell_type": "markdown",
   "metadata": {},
   "source": [
    "Suppose L1=L2=L3=L4=1 and the chainis at the configuration $\\theta_1=\\theta_2=0,\\; \\theta_3=\\pi/2\\; and\\; \\theta_4=-\\pi/2$. The joiints generate torques to create the wrench Fb=(0,0,10,10,10,0) at the last link. Where arte the torques at each of the joints?"
   ]
  },
  {
   "cell_type": "code",
   "execution_count": 7,
   "metadata": {},
   "outputs": [
    {
     "name": "stdout",
     "output_type": "stream",
     "text": [
      "[[ 0  0  0  0]\n",
      " [ 0  0  0  0]\n",
      " [ 1  1  1  1]\n",
      " [-1 -1 -1  0]\n",
      " [ 3  2  1  1]\n",
      " [ 0  0  0  0]]\n"
     ]
    }
   ],
   "source": [
    "Fb=np.transpose(np.array([[0,0,10,10,10,0]]))\n",
    "Jb=np.array([[0,0,0,0],[0,0,0,0],[1,1,1,1],[-1,-1,-1,0],[3,2,1,1],[0,0,0,0]])\n",
    "print(Jb)"
   ]
  },
  {
   "cell_type": "code",
   "execution_count": 8,
   "metadata": {},
   "outputs": [
    {
     "name": "stdout",
     "output_type": "stream",
     "text": [
      "[[30]\n",
      " [20]\n",
      " [10]\n",
      " [20]]\n"
     ]
    }
   ],
   "source": [
    "T=np.dot(np.transpose(Jb),Fb)\n",
    "print(T)"
   ]
  },
  {
   "cell_type": "markdown",
   "metadata": {},
   "source": [
    "3) The RRP is shown below in its zero position, find Js and Jb <br><br>\n",
    "<img src='img/Img17.png'>"
   ]
  },
  {
   "cell_type": "code",
   "execution_count": 9,
   "metadata": {},
   "outputs": [
    {
     "name": "stdout",
     "output_type": "stream",
     "text": [
      "[[ 0.  0.  0.]\n",
      " [ 0.  1.  0.]\n",
      " [ 1.  0.  0.]\n",
      " [ 0. -2. -0.]\n",
      " [ 0.  0.  0.]\n",
      " [ 0.  0.  1.]]\n"
     ]
    }
   ],
   "source": [
    "SList=np.array([[0,1,0],[0,0,0],[1,0,0],[0,0,0],[0,2,1],[0,0,0]])\n",
    "Theta=np.array([math.pi/2,math.pi/2,1])\n",
    "Js=mr.JacobianSpace(SList,Theta)\n",
    "print(np.round(Js,2))"
   ]
  },
  {
   "cell_type": "code",
   "execution_count": 10,
   "metadata": {},
   "outputs": [
    {
     "name": "stdout",
     "output_type": "stream",
     "text": [
      "[[ 0. -1.  0.]\n",
      " [ 0.  0.  0.]\n",
      " [ 1.  0.  0.]\n",
      " [ 0.  0.  0.]\n",
      " [ 0.  4.  0.]\n",
      " [ 0.  0.  1.]]\n"
     ]
    }
   ],
   "source": [
    "BList=np.array([[0,-1,0],[1,0,0],[0,0,0],[3,0,0],[0,3,0],[0,0,1]])\n",
    "Theta=np.array([math.pi/2,math.pi/2,1])\n",
    "Jb=mr.JacobianBody(BList,Theta)\n",
    "print(np.round(Jb,2))"
   ]
  },
  {
   "cell_type": "markdown",
   "metadata": {},
   "source": [
    "4) The Kinematic of the 7R WAM robot are given in section 4.1.3. The numerical Jb when all joint angles are $\\pi/2$ is:"
   ]
  },
  {
   "cell_type": "code",
   "execution_count": 11,
   "metadata": {},
   "outputs": [
    {
     "name": "stdout",
     "output_type": "stream",
     "text": [
      "[[ 0.    -1.     0.     0.    -1.     0.     0.   ]\n",
      " [ 0.     0.     1.     0.     0.     1.     0.   ]\n",
      " [ 1.     0.     0.     1.     0.     0.     1.   ]\n",
      " [-0.105  0.     0.006 -0.045  0.     0.006  0.   ]\n",
      " [-0.889  0.006  0.    -0.844  0.006  0.     0.   ]\n",
      " [ 0.    -0.105  0.889  0.     0.     0.     0.   ]]\n"
     ]
    }
   ],
   "source": [
    "Jb=np.array([[0,-1,0,0,-1,0,0],[0,0,1,0,0,1,0],[1,0,0,1,0,0,1],[-0.105,0,0.006,-0.045,0,0.006,0],[-0.889,0.006,0,-0.844,0.006,0,0],[0,-0.105,0.889,0,0,0,0]])\n",
    "print(Jb)"
   ]
  },
  {
   "cell_type": "markdown",
   "metadata": {},
   "source": [
    "Extract the linear velocity portion Jv. Calculate the directions and lengths of the principal semi-axes of the 3D linear velocity manipulability ellipsoid based on Jv. Give a unit vector to represent the direction of the longest principal semi-axes"
   ]
  },
  {
   "cell_type": "code",
   "execution_count": 12,
   "metadata": {},
   "outputs": [
    {
     "name": "stdout",
     "output_type": "stream",
     "text": [
      "[[-0.105  0.     0.006 -0.045  0.     0.006  0.   ]\n",
      " [-0.889  0.006  0.    -0.844  0.006  0.     0.   ]\n",
      " [ 0.    -0.105  0.889  0.     0.     0.     0.   ]]\n"
     ]
    }
   ],
   "source": [
    "Jv=Jb[3:]\n",
    "print(Jv)"
   ]
  },
  {
   "cell_type": "code",
   "execution_count": 13,
   "metadata": {},
   "outputs": [
    {
     "name": "stdout",
     "output_type": "stream",
     "text": [
      "[[ 1.312200e-02  1.313250e-01  5.334000e-03]\n",
      " [ 1.313250e-01  1.502729e+00 -6.300000e-04]\n",
      " [ 5.334000e-03 -6.300000e-04  8.013460e-01]]\n"
     ]
    }
   ],
   "source": [
    "A=np.dot(Jv,Jv.T)\n",
    "print(A)"
   ]
  },
  {
   "cell_type": "code",
   "execution_count": 14,
   "metadata": {},
   "outputs": [
    {
     "name": "stdout",
     "output_type": "stream",
     "text": [
      "[0.002 1.514 0.801]\n",
      "\n",
      "[[-0.996  0.087  0.007]\n",
      " [ 0.087  0.996 -0.   ]\n",
      " [ 0.007 -0.     1.   ]]\n"
     ]
    }
   ],
   "source": [
    "w,v=la.eig(A)\n",
    "print(np.round(w,3))\n",
    "print()\n",
    "print(np.round(v.T,3))"
   ]
  }
 ],
 "metadata": {
  "kernelspec": {
   "display_name": "Python 3",
   "language": "python",
   "name": "python3"
  },
  "language_info": {
   "codemirror_mode": {
    "name": "ipython",
    "version": 3
   },
   "file_extension": ".py",
   "mimetype": "text/x-python",
   "name": "python",
   "nbconvert_exporter": "python",
   "pygments_lexer": "ipython3",
   "version": "3.8.5"
  }
 },
 "nbformat": 4,
 "nbformat_minor": 4
}
