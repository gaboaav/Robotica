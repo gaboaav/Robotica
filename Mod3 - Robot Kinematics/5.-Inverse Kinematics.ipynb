{
 "cells": [
  {
   "cell_type": "markdown",
   "metadata": {},
   "source": [
    "# Inverse Kinematics"
   ]
  },
  {
   "cell_type": "markdown",
   "metadata": {},
   "source": [
    "## Analytic Inverse Kinematics"
   ]
  },
  {
   "cell_type": "markdown",
   "metadata": {},
   "source": [
    "<center>\n",
    "    $T(\\theta)=e^{[S_1]\\theta_1}e^{[S_2]\\theta_2}e^{[S_3]\\theta_3}e^{[S_4]\\theta_4}e^{[S_5]\\theta_5}e^{[S_6]\\theta_6}$ (6R 6DOF)\n",
    "</center>"
   ]
  },
  {
   "cell_type": "markdown",
   "metadata": {},
   "source": [
    "Give some end-effector frame $X\\in SE(3)$, the inverse kinematics problem is to find a solution $\\theta \\in R^6$ satisfying $T(\\theta)=X$"
   ]
  }
 ],
 "metadata": {
  "kernelspec": {
   "display_name": "Python 3",
   "language": "python",
   "name": "python3"
  },
  "language_info": {
   "codemirror_mode": {
    "name": "ipython",
    "version": 3
   },
   "file_extension": ".py",
   "mimetype": "text/x-python",
   "name": "python",
   "nbconvert_exporter": "python",
   "pygments_lexer": "ipython3",
   "version": "3.8.5"
  }
 },
 "nbformat": 4,
 "nbformat_minor": 4
}
