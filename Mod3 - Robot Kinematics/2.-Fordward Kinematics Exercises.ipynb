{
 "cells": [
  {
   "cell_type": "markdown",
   "metadata": {},
   "source": [
    "# Forward Kinematics Assignment"
   ]
  },
  {
   "cell_type": "code",
   "execution_count": 1,
   "metadata": {},
   "outputs": [],
   "source": [
    "import numpy as np\n",
    "import modern_robotics as mr\n",
    "import math\n",
    "pi=math.pi"
   ]
  },
  {
   "cell_type": "markdown",
   "metadata": {},
   "source": [
    "1) The URRRR spatial open chain robot is on its 0-position. For L=1 determine the end-effector zero configuration M. \n",
    "<br>\n",
    "<img src='img/img4.jpg'>"
   ]
  },
  {
   "cell_type": "code",
   "execution_count": 2,
   "metadata": {},
   "outputs": [
    {
     "name": "stdout",
     "output_type": "stream",
     "text": [
      "[[1.   0.   0.   3.73]\n",
      " [0.   1.   0.   0.  ]\n",
      " [0.   0.   1.   2.73]\n",
      " [0.   0.   0.   1.  ]]\n"
     ]
    }
   ],
   "source": [
    "M=np.array([[1,0,0,3.73],[0,1,0,0],[0,0,1,2.73],[0,0,0,1]])\n",
    "print(M)"
   ]
  },
  {
   "cell_type": "markdown",
   "metadata": {},
   "source": [
    "2) Determine the screw axes Si"
   ]
  },
  {
   "cell_type": "code",
   "execution_count": 3,
   "metadata": {},
   "outputs": [
    {
     "name": "stdout",
     "output_type": "stream",
     "text": [
      "v1: [ 0 -1  0]\n",
      "v2: [0 0 1]\n",
      "v3: [1.   0.   2.73]\n",
      "v4: [-0.73  0.    3.73]\n",
      "v5: [0 0 1]\n",
      "v6: [ 0.   -3.73  0.  ]\n"
     ]
    }
   ],
   "source": [
    "w1=np.array([0,0,1])\n",
    "q1=np.array([1,0,0])\n",
    "v1=np.cross(-w1,q1)\n",
    "#_____________________________#\n",
    "w2=np.array([0,1,0])\n",
    "q2=np.array([1,0,0])\n",
    "v2=np.cross(-w2,q2)\n",
    "#_____________________________#\n",
    "w3=np.array([0,1,0])\n",
    "q3=np.array([2.73,0,-1])\n",
    "v3=np.cross(-w3,q3)\n",
    "#_____________________________#\n",
    "w4=np.array([0,1,0])\n",
    "q4=np.array([3.73,0,0.73])\n",
    "v4=np.cross(-w4,q4)\n",
    "#_____________________________#\n",
    "w5=np.array([0,0,0])\n",
    "v5=np.array([0,0,1])\n",
    "#_____________________________#\n",
    "w6=np.array([0,0,1])\n",
    "q6=np.array([3.73,0,2.73])\n",
    "v6=np.cross(-w6,q6)\n",
    "#_____________________________#\n",
    "print('v1: {}\\nv2: {}\\nv3: {}\\nv4: {}\\nv5: {}\\nv6: {}'.format(v1, v2, v3, v4, v5, v6))"
   ]
  },
  {
   "cell_type": "code",
   "execution_count": 4,
   "metadata": {},
   "outputs": [
    {
     "name": "stdout",
     "output_type": "stream",
     "text": [
      "[[ 0.    0.    0.    0.    0.    0.  ]\n",
      " [ 0.    1.    1.    1.    0.    0.  ]\n",
      " [ 1.    0.    0.    0.    0.    1.  ]\n",
      " [ 0.    0.    1.   -0.73  0.    0.  ]\n",
      " [-1.    0.    0.    0.    0.   -3.73]\n",
      " [ 0.    1.    2.73  3.73  1.    0.  ]]\n"
     ]
    }
   ],
   "source": [
    "SList=np.array([[0,0,0,0,0,0],[0,1,1,1,0,0],[1,0,0,0,0,1],[0,0,1,-0.73,0,0],\n",
    "               [-1,0,0,0,0,-3.73],[0,1,2.73,3.73,1,0]])\n",
    "print(SList)"
   ]
  },
  {
   "cell_type": "markdown",
   "metadata": {},
   "source": [
    "3) Determine the Bi"
   ]
  },
  {
   "cell_type": "code",
   "execution_count": 5,
   "metadata": {},
   "outputs": [
    {
     "name": "stdout",
     "output_type": "stream",
     "text": [
      "[[ 0.    0.    0.    0.    0.    0.  ]\n",
      " [ 0.    1.    1.    1.    0.    0.  ]\n",
      " [ 1.    0.    0.    0.    0.    1.  ]\n",
      " [ 0.    2.73  3.73  2.    0.    0.  ]\n",
      " [ 2.73  0.    0.    0.    0.    0.  ]\n",
      " [ 0.   -2.73 -1.    0.    1.    0.  ]]\n"
     ]
    }
   ],
   "source": [
    "BList=np.array([[0,0,0,0,0,0],[0,1,1,1,0,0],[1,0,0,0,0,1],[0,2.73,3.73,2,0,0],[2.73,0,0,0,0,0],[0,-2.73,-1,0,1,0]])\n",
    "print(BList)"
   ]
  },
  {
   "cell_type": "markdown",
   "metadata": {},
   "source": [
    "4) Calculate T0 with SList"
   ]
  },
  {
   "cell_type": "code",
   "execution_count": 6,
   "metadata": {},
   "outputs": [
    {
     "name": "stdout",
     "output_type": "stream",
     "text": [
      "[-1.57  1.57  1.05 -0.79  1.    0.52]\n"
     ]
    }
   ],
   "source": [
    "theta=np.array([-pi/2,pi/2,pi/3,-pi/4,1,pi/6])\n",
    "theta=np.round(theta, 2)\n",
    "print(theta)"
   ]
  },
  {
   "cell_type": "code",
   "execution_count": 7,
   "metadata": {},
   "outputs": [
    {
     "name": "stdout",
     "output_type": "stream",
     "text": [
      "[[ 0.5   0.87  0.    1.  ]\n",
      " [ 0.22 -0.13 -0.97 -1.9 ]\n",
      " [-0.84  0.48 -0.26 -4.5 ]\n",
      " [ 0.    0.    0.    1.  ]]\n"
     ]
    }
   ],
   "source": [
    "T0=mr.FKinSpace(M,SList,theta)\n",
    "T0=np.round(T0, 2)\n",
    "print(T0)"
   ]
  },
  {
   "cell_type": "markdown",
   "metadata": {},
   "source": [
    "5) Calculate T0 with BList"
   ]
  },
  {
   "cell_type": "code",
   "execution_count": 8,
   "metadata": {},
   "outputs": [
    {
     "name": "stdout",
     "output_type": "stream",
     "text": [
      "[[ 0.5   0.87  0.    1.  ]\n",
      " [ 0.22 -0.13 -0.97 -1.9 ]\n",
      " [-0.84  0.48 -0.26 -4.5 ]\n",
      " [ 0.    0.    0.    1.  ]]\n"
     ]
    }
   ],
   "source": [
    "T0=mr.FKinBody(M,BList,theta)\n",
    "T0=np.round(T0,2)\n",
    "print(T0)"
   ]
  }
 ],
 "metadata": {
  "kernelspec": {
   "display_name": "Python 3",
   "language": "python",
   "name": "python3"
  },
  "language_info": {
   "codemirror_mode": {
    "name": "ipython",
    "version": 3
   },
   "file_extension": ".py",
   "mimetype": "text/x-python",
   "name": "python",
   "nbconvert_exporter": "python",
   "pygments_lexer": "ipython3",
   "version": "3.8.5"
  }
 },
 "nbformat": 4,
 "nbformat_minor": 4
}
