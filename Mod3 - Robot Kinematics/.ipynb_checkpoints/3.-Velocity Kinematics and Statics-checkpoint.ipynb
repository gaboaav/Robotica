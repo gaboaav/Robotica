{
 "cells": [
  {
   "cell_type": "markdown",
   "metadata": {},
   "source": [
    "# Velocity Kinematics and Statics"
   ]
  },
  {
   "cell_type": "markdown",
   "metadata": {},
   "source": [
    "Consider the case where the end-effector configuration is represented by a minimal set of coordinates $x\\in R^m$ and the velocity is given by $\\dot{x}=dx/dt \\in R^m$. In this case, the forward kinematics:"
   ]
  },
  {
   "cell_type": "markdown",
   "metadata": {},
   "source": [
    "<center>\n",
    "    $x(t)=f(\\theta(t))$\n",
    "</center><br><br>\n",
    "By the chain rule, the time derivative at time 't' is:<br><br>\n",
    "<center>\n",
    "    $\\dot{x}=\\frac{\\partial{f(\\theta)}}{\\partial{\\theta}}\\frac{d\\theta(t)}{dt}=\\frac{\\partial{f(\\theta)}}{\\partial{\\theta}}\\dot{\\theta}=J(\\theta)\\dot{\\theta}$\n",
    "</center>"
   ]
  },
  {
   "cell_type": "markdown",
   "metadata": {},
   "source": [
    "where $J(\\theta) \\in R^{m*n}$is called **The Jacobian**. The Jacobian matrix represents the linear sesitivity of the end-effector velocity $\\dot{x}$ to the joint velocity $\\dot{\\theta}$, and it is a function of the joint variables $\\theta$"
   ]
  },
  {
   "cell_type": "markdown",
   "metadata": {},
   "source": [
    "<img src='img/Img5.png'>"
   ]
  },
  {
   "cell_type": "markdown",
   "metadata": {},
   "source": [
    "Consider a 2R planar open chain (1) with forward kinematics given by"
   ]
  },
  {
   "cell_type": "markdown",
   "metadata": {},
   "source": [
    "<center>\n",
    "    $x_1=L_1\\cos{\\theta_1}+L_2\\cos({\\theta_1+\\theta_2})$<br>\n",
    "    $x_2=L_1\\sin{\\theta_1}+L_2\\sin({\\theta_1+\\theta_2})$<br><br>\n",
    "    $\\dot{x_1}=-L_1\\dot{\\theta_1} \\sin{\\theta_1}-L_2(\\dot{\\theta_1}+\\dot{\\theta_2})\\sin({\\theta_1+\\theta_2})$<br>\n",
    "     $\\dot{x_2}=L_1\\dot{\\theta_1} \\cos{\\theta_1}+L_2(\\dot{\\theta_1}+\\dot{\\theta_2})\\cos({\\theta_1+\\theta_2})$<br><br>\n",
    "    $\\begin{vmatrix} \\dot{x_1} \\\\ \\dot{x_2} \\end{vmatrix}=\n",
    "    \\begin{vmatrix} -L_1 \\sin{\\theta_1}-L_2\\sin({\\theta_1+\\theta_2}) & -L_2\\sin({\\theta_1+\\theta_2}) \\\\ L_1\\cos{\\theta_1}+L_2\\cos({\\theta_1+\\theta_2}) & L_2\\cos({\\theta_1+\\theta_2}) \\end{vmatrix} \\begin{vmatrix} \\dot{\\theta_1} \\\\ \\dot{\\theta_2} \\end{vmatrix}$ <br><br>\n",
    "    $v_{tip}=J_1(\\theta)\\dot{\\theta_1}+J_2(\\theta)\\dot{\\theta_2}$\n",
    "</center>"
   ]
  },
  {
   "cell_type": "markdown",
   "metadata": {},
   "source": [
    "As long as $J_1(\\theta)$ and $J_2(\\theta)$ are not collinear, it is possibe to generate a tip velocity in any arbitrary direction in the $x_1-x_2-plane$ by choosing appropiate joint velocities $\\dot{\\theta_1}$ and $\\dot{\\theta}$. If the Jacobians becomes collinear, we called them **Singularities**; they are characterized by a situation where the robot tip is unable to generate velocities in certain direction."
   ]
  },
  {
   "cell_type": "markdown",
   "metadata": {},
   "source": [
    "<img src='img/Img6.png'>"
   ]
  },
  {
   "cell_type": "markdown",
   "metadata": {},
   "source": [
    "The Jacobian can be used to map bounds on the rotational speed of the joints to bounds on 'vtip'. Rather than mapping a polygon of joint velocities through the jacobian, we could instead map a unit circle of joint velocities in the $\\theta_1-\\theta_2-plane$. This circle ;**manipulability ellipsoid** represents an \"iso-effort\" contour in the joint velocity space, where total actuator effort is considered to be the sum of squares of the joint velocities."
   ]
  },
  {
   "cell_type": "markdown",
   "metadata": {},
   "source": [
    "<img src='img/Img7.png'>"
   ]
  },
  {
   "cell_type": "markdown",
   "metadata": {},
   "source": [
    "The closer the ellipsoid is to a circle, the closer the ratio lmax/lmin is to 1, the more easily can the tip move in arbitrary directions and thus the more removed it is from a singularity."
   ]
  },
  {
   "cell_type": "markdown",
   "metadata": {},
   "source": [
    "<center>\n",
    "    $f_{tip}^T J(\\theta)\\dot{\\theta}=\\tau^T \\dot{\\theta}$<br><br>\n",
    "    $\\tau=J^T(\\theta) f_{tip}$ ; Joint Torque\n",
    "</center>"
   ]
  },
  {
   "cell_type": "markdown",
   "metadata": {},
   "source": [
    "Then \"$f_{tip}=((J(\\theta))^T)^{-1}\\tau=J^{-T}(\\theta)\\tau$\" can be used to generate the ser of al possible tip forces."
   ]
  },
  {
   "cell_type": "markdown",
   "metadata": {},
   "source": [
    "<img src='img/Img8.png'>"
   ]
  },
  {
   "cell_type": "markdown",
   "metadata": {},
   "source": [
    "**The force ellipsoid** ilustrates how easily the robot can generate forces in different directions. As in evident from the manipulability and force ellipsoids, is it easy to generate a tip velocity in a given direction then it is difficult to generate a force in that same direction."
   ]
  },
  {
   "cell_type": "markdown",
   "metadata": {},
   "source": [
    "<img src='img/Img9.png'>"
   ]
  },
  {
   "cell_type": "markdown",
   "metadata": {},
   "source": [
    "## Manipulator Jacobian"
   ]
  },
  {
   "cell_type": "markdown",
   "metadata": {},
   "source": [
    "### Space Jacobian"
   ]
  },
  {
   "cell_type": "markdown",
   "metadata": {},
   "source": [
    "Consider an n-link open chain whose forward kinematics is expressed in the following product of exponentials form:"
   ]
  },
  {
   "cell_type": "markdown",
   "metadata": {},
   "source": [
    "<center>\n",
    "    $T(\\theta_1,...,\\theta_n)=e^{[S_1]\\theta_1}e^{[S_2]\\theta_2}...e^{[S_n]\\theta_n}$\n",
    "</center>"
   ]
  },
  {
   "cell_type": "markdown",
   "metadata": {},
   "source": [
    "The spatial twist $V_s$ is given by $[V_s]=\\dot{T}T^{-1}$, where:"
   ]
  },
  {
   "cell_type": "markdown",
   "metadata": {},
   "source": [
    "<center>\n",
    "    $\\dot{T}=[S_1]\\dot{\\theta_1}e^{[S_1]\\theta_1}...e^{[S_n]\\theta_n}M+e^{[S_1]\\theta_1}[S_2]\\dot{\\theta_2}e^{[S_2]\\theta_2}...e^{[S_n]\\theta_n}M+...$<br><br>\n",
    "    $T^{-1}=M^{-1}e^{-[S_n]\\theta_n}...e^{-[S_1]\\theta_1}$<br><br>\n",
    "    $[V_s]=[S_1]\\dot{\\theta_1}+e^{[S_1]\\theta_1}[S_2]e^{-[S_1]\\theta_1}\\dot{\\theta_2}+e^{[S_1]\\theta_1}e^{[S_2]\\theta_2}[S_3]e^{-[S_2]\\theta_2}e^{-[S_1]\\theta_1}\\dot{\\theta_3}+...$\n",
    "</center>"
   ]
  },
  {
   "cell_type": "markdown",
   "metadata": {},
   "source": [
    "<center>\n",
    "    $V_s=J_{S_1}\\dot{\\theta_1}+J_{S_2}\\dot{\\theta_2}+J_{S_3}\\dot{\\theta_3}+...+J_{S_n}\\dot{\\theta_n}$ <br><br>\n",
    "</center>"
   ]
  },
  {
   "cell_type": "markdown",
   "metadata": {},
   "source": [
    "Each $J_{si}(\\theta)=(w_{si}(\\theta), v_{si}(\\theta))$ depends explicitly on the joint values."
   ]
  },
  {
   "cell_type": "markdown",
   "metadata": {},
   "source": [
    "<center>\n",
    "    $V_s=\\begin{vmatrix} J_{S_1} & J_{S_2} & J_{S_3} & ... & J_{S_n}\\end {vmatrix}\\begin{vmatrix} \\dot{\\theta_1}\\\\ ... \\\\ \\dot{\\theta_n} \\end{vmatrix}=Js(\\theta)\\dot{\\theta}$\n",
    "</center>"
   ]
  },
  {
   "cell_type": "markdown",
   "metadata": {},
   "source": [
    "<center>$J_s(\\theta)$ is the Jacobian in fixed frame coordinates or **Space Jacobian**</center>"
   ]
  },
  {
   "cell_type": "markdown",
   "metadata": {},
   "source": [
    "**Def.** *Let the forward kinematics of an n-link open chain  be expressed in the following product of exponentials form:*"
   ]
  },
  {
   "cell_type": "markdown",
   "metadata": {},
   "source": [
    "<center>\n",
    "    $T=e^{[S_1]\\theta_1}...e^{[S_n]\\theta_n}M$<br><br>\n",
    "    $V_s=J_s(\\theta) \\dot{\\theta}$\n",
    "</center>"
   ]
  },
  {
   "cell_type": "markdown",
   "metadata": {},
   "source": [
    "### Body Jacobian"
   ]
  },
  {
   "cell_type": "markdown",
   "metadata": {},
   "source": [
    "The matrix $J_b(\\theta)$ is the Jacobian in the end-effector-frame coordinates and is called the Body Jacobian."
   ]
  },
  {
   "cell_type": "markdown",
   "metadata": {},
   "source": [
    "**Def.** *Let the forward kinematics of an n-link open chain can be expressed in the following product of exponentials form:*"
   ]
  },
  {
   "cell_type": "markdown",
   "metadata": {},
   "source": [
    "<center>$T=Me^{[B_1]\\theta_1}e^{[B_n]\\theta_n}$</center>"
   ]
  },
  {
   "cell_type": "markdown",
   "metadata": {},
   "source": [
    "The Jacobian $J_b(\\theta) \\in R^{6xn}$ relates the joint rate vector $\\dot{\\theta} \\in R^n$ to the end-effector twist $V_b=(w_b,v_b)$"
   ]
  },
  {
   "cell_type": "markdown",
   "metadata": {},
   "source": [
    "<center>$V_b=J_b(\\theta)\\dot{\\theta}$</center>"
   ]
  },
  {
   "cell_type": "markdown",
   "metadata": {},
   "source": [
    "### Visualizing the Space and Body Jacobian"
   ]
  },
  {
   "cell_type": "markdown",
   "metadata": {},
   "source": [
    "<img src='img/Img10.png'>"
   ]
  },
  {
   "cell_type": "markdown",
   "metadata": {},
   "source": [
    "### Relationship Between the Space and Body Jacobian"
   ]
  },
  {
   "cell_type": "markdown",
   "metadata": {},
   "source": [
    "<center>\n",
    "    $J_b(\\theta)=[Ad_{T_{bs}}]J_s(\\theta)$<br><br>\n",
    "    $J_s(\\theta)=[Ad_{T_{sb}}]J_b(\\theta)$\n",
    "</center>"
   ]
  },
  {
   "cell_type": "markdown",
   "metadata": {},
   "source": [
    "## Statics of Open Chain"
   ]
  },
  {
   "cell_type": "markdown",
   "metadata": {},
   "source": [
    "Using the principle of conservation of power, we have:<br><br>\n",
    "\n",
    "<center>Power at Joints=(Power to Move the Robot)+(Power at the End-Effector)"
   ]
  },
  {
   "cell_type": "markdown",
   "metadata": {},
   "source": [
    "and considering the robot to be at static equilibrium, we can equate the power at joints to the power at the end-effector"
   ]
  },
  {
   "cell_type": "markdown",
   "metadata": {},
   "source": [
    "<center>$\\tau^T\\dot{\\theta}=F_b^T V_b$</center>"
   ]
  },
  {
   "cell_type": "markdown",
   "metadata": {},
   "source": [
    "where $\\tau$ is the column vector of the joint torques. Using the identity $V_b=J_b(\\theta)\\dot{\\theta}$, we get:"
   ]
  },
  {
   "cell_type": "markdown",
   "metadata": {},
   "source": [
    "<center>\n",
    "    $\\tau=J_b^T(\\theta)F_b$<br>\n",
    "    $\\tau=J_s^T(\\theta)F_s$<br>\n",
    "    $\\tau=J^T(\\theta)F$\n",
    "</center>"
   ]
  },
  {
   "cell_type": "markdown",
   "metadata": {},
   "source": [
    "If the robot is redundant (n>6) then, even if the end-effector is embedded in concrete, the robot is not immobilized and the joint torques may cause internal motions of the links.<br><br>\n",
    "If (n<=6) and $J^T \\in R^nx6$ has rank 'n', then embedding the end-effector wil immobilize the robot."
   ]
  },
  {
   "cell_type": "markdown",
   "metadata": {},
   "source": [
    "## Singularity Analysis"
   ]
  },
  {
   "cell_type": "markdown",
   "metadata": {},
   "source": [
    "The Jacobian allows us to identify postures at which the robot's end-effector loses the ability to move instanteneously in one or more directions. Such a posture is called a Kinematic Singularity or simply a singularity. "
   ]
  },
  {
   "cell_type": "markdown",
   "metadata": {},
   "source": [
    "Singular postures corresponds to those values of $\\theta$ at which the rank of $J_b(\\theta)$ drops bellow the maximum possible value; so the tip frame loses the ability to generate instantaneous spatial velocities in 1 or more dimensions. This loss of mobility at a singularity is accompanied by the ability to resist arbitrary wrenches in the direction corresponding to the lost mobility:"
   ]
  },
  {
   "cell_type": "markdown",
   "metadata": {},
   "source": [
    "<center>\n",
    "    $J_s(\\theta)=\\begin{vmatrix} R_{sb} & 0 \\\\ [p_{sb}]R_{sb} & R_{sb} \\end{vmatrix} J_b(\\theta)$<br><br>\n",
    "    $\\begin{vmatrix} R_{sb} & 0 \\\\ [p_{sb}]R_{sb} & R_{sb} \\end{vmatrix} \\begin{vmatrix} x \\\\ y \\end{vmatrix} = 0$\n",
    "</center>"
   ]
  },
  {
   "cell_type": "markdown",
   "metadata": {},
   "source": [
    "<img src='img/Img11.png'>"
   ]
  },
  {
   "cell_type": "markdown",
   "metadata": {},
   "source": [
    "<center>\n",
    "    $(a)\\; (T')^{-1}\\dot{T'}=(T^{-1}P^{-1})(P\\dot{T})=T^{-1}\\dot{T}$<br><br>\n",
    "    $(b)\\; \\dot{T'}(T')^{-1}=(\\dot{T}Q)(Q^{-1}T^{-1})=\\dot{T}T^{-1}$\n",
    "</center>"
   ]
  },
  {
   "cell_type": "markdown",
   "metadata": {},
   "source": [
    "**Case I: Two Collinear Revolute Joint Axes**"
   ]
  },
  {
   "cell_type": "markdown",
   "metadata": {},
   "source": [
    "<img src='img/Img12.png'>"
   ]
  },
  {
   "cell_type": "markdown",
   "metadata": {},
   "source": [
    "<center>\n",
    "    $J_{S_1}(\\theta)=\\begin{vmatrix} w_{S_1} \\\\ -w_{S_1}\\times q_1 \\end{vmatrix}$ ; $J_{S_2}(\\theta)=\\begin{vmatrix} w_{S_2} \\\\ -w_{S_2}\\times q_2 \\end{vmatrix}$\n",
    "</center>"
   ]
  },
  {
   "cell_type": "markdown",
   "metadata": {},
   "source": [
    "$J_{S_1}=J_{S_2}$, the set {$J_{S_1},...,J_{S_6}$} cannot be linearly independent, and the rank of $J_s(\\theta)$ must be less than six."
   ]
  },
  {
   "cell_type": "markdown",
   "metadata": {},
   "source": [
    "**Case II: Three Coplanar and Parallel Revolute Joint Axes**"
   ]
  },
  {
   "cell_type": "markdown",
   "metadata": {},
   "source": [
    "<center>\n",
    "    $J_s(\\theta)=\\begin{vmatrix} w_{S_1} & w_{S_1} & w_{S_1} & ... \\\\ 0 & -w_{S_1}\\times q_2 & -w_{S_1}\\times q_3 & ...  \\end{vmatrix}$\n",
    "</center>"
   ]
  },
  {
   "cell_type": "markdown",
   "metadata": {},
   "source": [
    "**Case III: Four Revolute Joint Axes Intersecting at a Common Point**"
   ]
  },
  {
   "cell_type": "markdown",
   "metadata": {},
   "source": [
    "<img src='img/Img13.png'>"
   ]
  },
  {
   "cell_type": "markdown",
   "metadata": {},
   "source": [
    "<center>\n",
    "    $J_s(\\theta)=\\begin{vmatrix}  w_{S_1} &  w_{S_2} &  w_{S_3} &  w_{S_4} & ...\\\\ 0 & 0 & 0 & 0 & ... \\end{vmatrix}$\n",
    "</center>"
   ]
  },
  {
   "cell_type": "markdown",
   "metadata": {},
   "source": [
    "**Case IV: Four Coplanar Revolute Joints**"
   ]
  },
  {
   "cell_type": "markdown",
   "metadata": {},
   "source": [
    "<center>\n",
    "    $J_s(\\theta)=\\begin{vmatrix} w_{S_{1x}} & w_{S_{2x}} & w_{S_{3x}} & w_{S_{4x}} \\\\ w_{S_{1y}} & w_{S_{2y}} & w_{S_{3y}} & w_{S_{4y}} \\\\ 0 & 0 & 0 & 0 \\\\ 0 & 0 & 0 & 0 \\\\ w_{S_{1y}}q_{1x}-w_{S_{1x}}q_{1y} & w_{S_{2y}}q_{2x}-w_{S_{2x}}q_{2y} &w_{S_{3y}}q_{3x}-w_{S_{3x}}q_{3y}& w_{S_{4y}}q_{4x}-w_{S_{4x}}q_{4y}\\end{vmatrix}$\n",
    "</center>"
   ]
  },
  {
   "cell_type": "markdown",
   "metadata": {},
   "source": [
    "cannot be linearly independent since they only have three non-zero component."
   ]
  },
  {
   "cell_type": "markdown",
   "metadata": {},
   "source": [
    "**Case V: Six Revolute Joints Intersecting a Common Line**"
   ]
  },
  {
   "cell_type": "markdown",
   "metadata": {},
   "source": [
    "<center>\n",
    "    $J_s(\\theta)=\\begin{vmatrix} w_{S_{1x}} & w_{S_{2x}} & w_{S_{3x}} & w_{S_{4x}} & w_{S_{5x}} & w_{S_{6x}} \\\\ w_{S_{1y}} & w_{S_{2y}} & w_{S_{3y}} & w_{S_{4y}} & w_{S_{5y}} & w_{S_{6y}} \\\\  w_{S_{1z}} & w_{S_{2z}} & w_{S_{3z}} & w_{S_{4z}} & w_{S_{5z}} & w_{S_{6z}}\\\\ w_{S_{1y}}q_{iz} & w_{S_{2y}}q_{iz} & w_{S_{3y}}q_{iz} & w_{S_{4y}}q_{iz} & w_{S_{5y}}q_{iz} & w_{S_{6y}}q_{iz}\\\\ -w_{S_{1x}}q_{iz} & -w_{S_{2x}}q_{iz} & -w_{S_{3x}}q_{iz} & -w_{S_{4x}}q_{iz} & -w_{S_{5x}}q_{iz} & w_{S_{6y}}q_{iz} \\\\ 0 & 0 & 0 & 0 & 0 &0\\end{vmatrix}$\n",
    "</center>"
   ]
  },
  {
   "cell_type": "markdown",
   "metadata": {},
   "source": [
    "## Manipulability"
   ]
  },
  {
   "cell_type": "markdown",
   "metadata": {},
   "source": [
    "The manipulability ellipsoid allows one to visualize geometrically the directions in which the end-effector moves with least effort or with greates effort. <br><br>\n",
    "For a general n-joint open chain and a task space with coordinates $q \\in R^m$, where m<=n, the manipulability ellipsoid correspond to the end-effector velocities for joint rates $\\dot{\\theta}$ satisfying $||\\dot{\\theta}||=1$, a unit sphere in the n-dimensional joint-velocity space."
   ]
  },
  {
   "cell_type": "markdown",
   "metadata": {},
   "source": [
    "<center>\n",
    "    $1=\\dot{\\theta}^T\\dot{\\theta}$<br>\n",
    "    $=(J^{-1}\\dot{q})^T(J^{-1}\\dot{q})$<br>\n",
    "    $=v_{tip}^T(A^{-1})v_{tip}$\n",
    "</center>"
   ]
  },
  {
   "cell_type": "markdown",
   "metadata": {},
   "source": [
    "If J is full rank, the matrix $A=JJ^T\\in R^{mxm}$ is square, symmetric, and positive definite, as is $A^{-1}$:"
   ]
  },
  {
   "cell_type": "markdown",
   "metadata": {},
   "source": [
    "<center>$\\dot{q}^TA^{-1}\\dot{q}=1$</center>"
   ]
  },
  {
   "cell_type": "markdown",
   "metadata": {},
   "source": [
    "Letting $v_i$ and $\\lambda_i$ be the eigenvectors and eigenvalues of A, the directions of the principal axes of the ellipsoid are $v_i$ and the lengths of the principal semi-axes are $\\sqrt{\\lambda_i}$ as the image bellow."
   ]
  },
  {
   "cell_type": "markdown",
   "metadata": {},
   "source": [
    "<img src='img/Img14.png'>"
   ]
  },
  {
   "cell_type": "markdown",
   "metadata": {},
   "source": [
    "Furthemore, the volume \"V\" of the ellipsoid is proportional to the product of the semi-axes lengths:"
   ]
  },
  {
   "cell_type": "markdown",
   "metadata": {},
   "source": [
    "<center>\n",
    "    $V_{(proportional\\;to\\; \\sqrt{\\lambda_1...\\lambda_m})}=\\sqrt{det(A)}=\\sqrt{det(JJ^T)}$<br><br>\n",
    "    $J(\\theta)=\\begin{vmatrix} J_w(\\theta)\\\\J_v(\\theta) \\end{vmatrix}$\n",
    "</center>"
   ]
  },
  {
   "cell_type": "markdown",
   "metadata": {},
   "source": [
    "where Jw comprises the top three rows of J and Jv the bottom 3 rows. They'ra separeted beacuse the units of angular and linear velocities are different. This lieads to two 3D manipulability ellipsoids. These have principal semi-axes aligned with the eigenvectors of A with the lengths given by square root of the eigenvalues, where $A=J_wJ_w^T$ and $A=J_vJ_v^T$."
   ]
  },
  {
   "cell_type": "markdown",
   "metadata": {},
   "source": [
    "<strong>Ratio of The Longest and Shortest Semi-Axes</strong>"
   ]
  },
  {
   "cell_type": "markdown",
   "metadata": {},
   "source": [
    "<center>\n",
    "    $\\mu_1(A)=\\sqrt{\\frac{\\lambda_{max}(A)}{\\lambda_{min}(A)}}\\geq1$\n",
    "</center>"
   ]
  },
  {
   "cell_type": "markdown",
   "metadata": {},
   "source": [
    "When is low then the manipulability ellipsoid is nearly spherical or isotropic, meaning that it is equally easy to move in any direction."
   ]
  },
  {
   "cell_type": "markdown",
   "metadata": {},
   "source": [
    "<strong>Condition Number</strong>"
   ]
  },
  {
   "cell_type": "markdown",
   "metadata": {},
   "source": [
    "<center>\n",
    "    $$\\mu_1(A)=\\frac{\\lambda_{max}(A)}{\\lambda_{min}(A)}\\geq1$$\n",
    "</center>"
   ]
  },
  {
   "cell_type": "markdown",
   "metadata": {},
   "source": [
    "The condition number of a matrix is used to characterize the sensitivity of the result of multipliying that matrix by a vector to small errors in the vector."
   ]
  },
  {
   "cell_type": "markdown",
   "metadata": {},
   "source": [
    "<strong>Proportional to the Volume of the Manipulability Ellipsoid</strong>"
   ]
  },
  {
   "cell_type": "markdown",
   "metadata": {},
   "source": [
    "<center>\n",
    "    $\\mu_3(A)=\\sqrt{\\mu_1\\mu_2...}=\\sqrt{det(A)}$\n",
    "</center>"
   ]
  }
 ],
 "metadata": {
  "kernelspec": {
   "display_name": "Python 3",
   "language": "python",
   "name": "python3"
  },
  "language_info": {
   "codemirror_mode": {
    "name": "ipython",
    "version": 3
   },
   "file_extension": ".py",
   "mimetype": "text/x-python",
   "name": "python",
   "nbconvert_exporter": "python",
   "pygments_lexer": "ipython3",
   "version": "3.8.5"
  }
 },
 "nbformat": 4,
 "nbformat_minor": 4
}
