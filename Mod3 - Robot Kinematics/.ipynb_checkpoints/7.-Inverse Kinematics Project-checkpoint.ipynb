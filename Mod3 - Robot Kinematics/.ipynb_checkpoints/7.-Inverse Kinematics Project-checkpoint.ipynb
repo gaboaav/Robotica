{
 "cells": [
  {
   "cell_type": "markdown",
   "metadata": {},
   "source": [
    "# Inverse Kinematics Iterations"
   ]
  },
  {
   "cell_type": "markdown",
   "metadata": {},
   "source": [
    "Starting from the function <strong>IKinBody</strong>, write a new function <strong>IKinBodyIterates</strong>. This function prints out a report for each iteration of the N-R process, for iterates 0 to the final solution. Each iteration reports the iteration number \"i\", the joint vector $\\theta^i$, the end-effector configuration $T_{sb}(\\theta^i)$, the error twist $V_b$, and the angular and linear error magnitudes, $||w_b||$ and $||v_b||$. For a 4-joint robot, a typical iterate might look like:"
   ]
  },
  {
   "cell_type": "markdown",
   "metadata": {},
   "source": [
    "iteration 3:<br>\n",
    "joint vector:$[\\theta_1...\\theta_n]$<br>\n",
    "SE(3) end effector configuration: [T]<br>\n",
    "error twist $V_b$: $[V_b]$<br>\n",
    "angular error magnitude $||w_b||$: 0.357<br>\n",
    "linear error magnitude $||v_b||$: 1.427"
   ]
  },
  {
   "cell_type": "markdown",
   "metadata": {},
   "source": [
    "The function should also save the joint vector of each iteration as a row in a matrix."
   ]
  },
  {
   "cell_type": "markdown",
   "metadata": {},
   "source": [
    "When your function completes, it should save a matrix as a .csv file, where each row of the text consist of the comma separated joint values for that iterate. The end-effector frame are"
   ]
  },
  {
   "cell_type": "markdown",
   "metadata": {},
   "source": [
    "|Joint|<center>$w_i$</center>|<center>$v_i$</center>|\n",
    "|---:|---:|---:|\n",
    "|1|(0,1,0)|$(w_1+w_2,0,L_1+L_2)$|\n",
    "|2|(0,0,1)|$(H_2,-L_1-L_2,0)$|\n",
    "|3|(0,0,1)|$(H_2,-L_2,0)$|\n",
    "|4|(0,0,1)|$(H_2,0,0)$|\n",
    "|5|(0,-1,0)|$(-w_2,0,0)$|\n",
    "|6|(0,0,1)|$(0,0,0)$|"
   ]
  },
  {
   "cell_type": "markdown",
   "metadata": {},
   "source": [
    "The desire end-effector configuration is:"
   ]
  },
  {
   "cell_type": "markdown",
   "metadata": {},
   "source": [
    "<center>\n",
    "    $T_{sd}=\\begin{vmatrix} 0 & 1 & 0 & -0.5\\\\ 0 & 0 & -1 & 0.1 \\\\ -1 & 0 & 0 & 0.1 \\\\ 0 & 0 & 0 & 1 \\end{vmatrix}$\n",
    "</center>"
   ]
  },
  {
   "cell_type": "markdown",
   "metadata": {},
   "source": [
    "Use $\\epsilon_w=0.001 rad$; and $\\epsilon_v=0.0001m$. Choose an initial guess $\\theta^0$ so that the numerical inverse kinematics converges after 3-5 Newton-Raphson steps."
   ]
  },
  {
   "cell_type": "markdown",
   "metadata": {},
   "source": [
    "$w_1=109mm$, $w_2=82mm$, $L_1=425mm$, $L_2=392mm$, $H_1=89mm$, $H_2=95mm$."
   ]
  },
  {
   "cell_type": "markdown",
   "metadata": {},
   "source": [
    "<center>\n",
    "    $M=\\begin{vmatrix} -1 & 0 & 0 & L_1+L_2\\\\ 0 & 0 & 1 & w_1+w_2\\\\ 0 & 1 & 0 & H_1-H_2\\\\ 0 & 0 & 0 & 1 \\end{vmatrix}$\n",
    "</center>\n",
    "_______________________________________________________________________"
   ]
  },
  {
   "cell_type": "markdown",
   "metadata": {},
   "source": [
    "|Joint|<center>$w_i$</center>|<center>$v_i$</center>|\n",
    "|---:|---:|---:|\n",
    "|1|(0,1,0)|$(0.191,0,0.817)$|\n",
    "|2|(0,0,1)|$(0.095,-0.817,0)$|\n",
    "|3|(0,0,1)|$(0.095,-0.392,0)$|\n",
    "|4|(0,0,1)|$(0.095,0,0)$|\n",
    "|5|(0,-1,0)|$(-0.082,0,0)$|\n",
    "|6|(0,0,1)|$(0,0,0)$|"
   ]
  },
  {
   "cell_type": "markdown",
   "metadata": {},
   "source": [
    "<center>\n",
    "    $M=\\begin{vmatrix} -1 & 0 & 0 & 0.817\\\\ 0 & 0 & 1 & 0.191\\\\ 0 & 1 & 0 & -0.006\\\\ 0 & 0 & 0 & 1 \\end{vmatrix}$\n",
    "</center>"
   ]
  },
  {
   "cell_type": "markdown",
   "metadata": {},
   "source": [
    "## IKinBody Code"
   ]
  },
  {
   "cell_type": "code",
   "execution_count": 1,
   "metadata": {},
   "outputs": [
    {
     "name": "stdout",
     "output_type": "stream",
     "text": [
      "def IKinBody(Blist, M, T, thetalist0, eomg, ev):\n",
      "    \"\"\"Computes inverse kinematics in the body frame for an open chain robot\n",
      "\n",
      "    :param Blist: The joint screw axes in the end-effector frame when the\n",
      "                  manipulator is at the home position, in the format of a\n",
      "                  matrix with axes as the columns\n",
      "    :param M: The home configuration of the end-effector\n",
      "    :param T: The desired end-effector configuration Tsd\n",
      "    :param thetalist0: An initial guess of joint angles that are close to\n",
      "                       satisfying Tsd\n",
      "    :param eomg: A small positive tolerance on the end-effector orientation\n",
      "                 error. The returned joint angles must give an end-effector\n",
      "                 orientation error less than eomg\n",
      "    :param ev: A small positive tolerance on the end-effector linear position\n",
      "               error. The returned joint angles must give an end-effector\n",
      "               position error less than ev\n",
      "    :return thetalist: Joint angles that achieve T within the specified\n",
      "                       tolerances,\n",
      "    :return success: A logical value where TRUE means that the function found\n",
      "                     a solution and FALSE means that it ran through the set\n",
      "                     number of maximum iterations without finding a solution\n",
      "                     within the tolerances eomg and ev.\n",
      "    Uses an iterative Newton-Raphson root-finding method.\n",
      "    The maximum number of iterations before the algorithm is terminated has\n",
      "    been hardcoded in as a variable called maxiterations. It is set to 20 at\n",
      "    the start of the function, but can be changed if needed.\n",
      "\n",
      "    Example Input:\n",
      "        Blist = np.array([[0, 0, -1, 2, 0,   0],\n",
      "                          [0, 0,  0, 0, 1,   0],\n",
      "                          [0, 0,  1, 0, 0, 0.1]]).T\n",
      "        M = np.array([[-1, 0,  0, 0],\n",
      "                      [ 0, 1,  0, 6],\n",
      "                      [ 0, 0, -1, 2],\n",
      "                      [ 0, 0,  0, 1]])\n",
      "        T = np.array([[0, 1,  0,     -5],\n",
      "                      [1, 0,  0,      4],\n",
      "                      [0, 0, -1, 1.6858],\n",
      "                      [0, 0,  0,      1]])\n",
      "        thetalist0 = np.array([1.5, 2.5, 3])\n",
      "        eomg = 0.01\n",
      "        ev = 0.001\n",
      "    Output:\n",
      "        (np.array([1.57073819, 2.999667, 3.14153913]), True)\n",
      "    \"\"\"\n",
      "    thetalist = np.array(thetalist0).copy()\n",
      "    i = 0\n",
      "    maxiterations = 20\n",
      "    Vb = se3ToVec(MatrixLog6(np.dot(TransInv(FKinBody(M, Blist, \\\n",
      "                                                      thetalist)), T)))\n",
      "    err = np.linalg.norm([Vb[0], Vb[1], Vb[2]]) > eomg \\\n",
      "          or np.linalg.norm([Vb[3], Vb[4], Vb[5]]) > ev\n",
      "    while err and i < maxiterations:\n",
      "        thetalist = thetalist \\\n",
      "                    + np.dot(np.linalg.pinv(JacobianBody(Blist, \\\n",
      "                                                         thetalist)), Vb)\n",
      "        i = i + 1\n",
      "        Vb \\\n",
      "        = se3ToVec(MatrixLog6(np.dot(TransInv(FKinBody(M, Blist, \\\n",
      "                                                       thetalist)), T)))\n",
      "        err = np.linalg.norm([Vb[0], Vb[1], Vb[2]]) > eomg \\\n",
      "              or np.linalg.norm([Vb[3], Vb[4], Vb[5]]) > ev\n",
      "    return (thetalist, not err)\n",
      "\n"
     ]
    }
   ],
   "source": [
    "import inspect\n",
    "import modern_robotics as mr\n",
    "print(inspect.getsource(mr.IKinBody))"
   ]
  },
  {
   "cell_type": "markdown",
   "metadata": {},
   "source": [
    "## Create IKinBodyIterates"
   ]
  },
  {
   "cell_type": "code",
   "execution_count": 2,
   "metadata": {},
   "outputs": [],
   "source": [
    "def stripbrakets(st):\n",
    "    brakets=['[',']']\n",
    "    nst=''\n",
    "    for s in st:\n",
    "        if s not in brakets:\n",
    "            nst+=s\n",
    "    nst=nst.replace('\\n   1',' 1')\n",
    "    nst=nst.replace(\",\\n\",\"\\n\")\n",
    "    return nst"
   ]
  },
  {
   "cell_type": "code",
   "execution_count": 3,
   "metadata": {},
   "outputs": [],
   "source": [
    "def IKinBodyIterates(Blist, M, T, thetalist, eomg, ev,filename,logname='log.txt'):\n",
    "    #Computes inverse kinematics in the body frame for an open chain robot\n",
    "    \n",
    "    #param Blist: The joint screw axes in the end-effector frame when the manipulator is at the home position, in the format of a matrix with axes as the columns\n",
    "    #param M: The home configuration of the end-effector.\n",
    "    #param T: The desired end-effector configuration Tsd.\n",
    "    #param thetalist0: An initial guess of joint angles that are close to satisfying Tsd\n",
    "    #param eomg: A small positive tolerance on the end-effector orientation error. The returned joint angles must give an end-effector orientation error less than eomg.\n",
    "    #param ev: A small positive tolerance on the end-effector linear position error. The returned joint angles must give an end-effector position error less than ev\n",
    "    #param filename: name without '.csv' of your file\n",
    "    \n",
    "    #return thetalist: Joint angles that achieve T within the specified tolerances\n",
    "    #return success: A logical value where TRUE means that the function found a solution and FALSE means that it ran through the set number of maximum iterations without finding a solution  within the tolerances eomg and ev.\n",
    "    #return Joint: Joint angles iterations values.\n",
    "    \n",
    "    log=logname\n",
    "    outlog=open(log,'w')\n",
    "    \n",
    "    i = 0\n",
    "    maxiterations = 20\n",
    "    Joint=np.empty((0,len(thetalist)),int)\n",
    "    SE=np.array([mr.FKinBody(M,Blist,thetalist)])\n",
    "    SE=np.around(SE, decimals=4)\n",
    "    \n",
    "    #Show First Iteration on Console\n",
    "    print('iteration 0')\n",
    "    print(\"Joint Vector: \",np.array2string(thetalist, separator=','))\n",
    "    print('End-Effector:')\n",
    "    print(SE)\n",
    "    print()\n",
    "    \n",
    "    #Write First Iteration on Log\n",
    "    outlog.write('Iteration: 0 \\nJoint Vector: {} \\nEnd-Effector: \\n{} \\n\\n'.format(np.array2string(thetalist, separator=','),SE))\n",
    "    \n",
    "    Vb = mr.se3ToVec(mr.MatrixLog6(np.dot(mr.TransInv(mr.FKinBody(M, Blist,thetalist)),T)))\n",
    "    err=np.linalg.norm([[Vb[0], Vb[1], Vb[2]]]) >eomg or np.linalg.norm([Vb[3], Vb[4], Vb[5]]) > ev\n",
    "    while err and i < maxiterations:\n",
    "        Joint=np.append(Joint,np.array([thetalist]),axis=0)\n",
    "        thetalist = thetalist + np.dot(np.linalg.pinv(mr.JacobianBody(Blist,thetalist)),Vb)\n",
    "        i+=1\n",
    "        SE=mr.FKinBody(M,Blist,thetalist)\n",
    "        SE=np.around(SE,decimals=3)\n",
    "        Vb= mr.se3ToVec(mr.MatrixLog6(np.dot(mr.TransInv(mr.FKinBody(M, Blist,thetalist)), T)))\n",
    "        Vb=np.around(Vb,decimals=4)\n",
    "        eomg_n=np.linalg.norm([Vb[0], Vb[1], Vb[2]])\n",
    "        ev_n=np.linalg.norm([Vb[3], Vb[4], Vb[5]])\n",
    "        err = eomg_n > eomg or ev_n > ev\n",
    "        \n",
    "        #Show Iterations on Console\n",
    "        print(\"Iteration: \",i)\n",
    "        print(\"Joint Vector: \",np.array2string(thetalist, separator=','))\n",
    "        print(\"End-Effector:\")\n",
    "        print(SE)\n",
    "        print(\"Error Twist Vb: \", np.array2string(Vb,separator=','))\n",
    "        print(\"Angular Error Magnitude: \", eomg_n)\n",
    "        print(\"Linear Error Magnitude: \",ev_n)\n",
    "        print()\n",
    "        \n",
    "        #Write Iterations on Log\n",
    "        outlog.write('Iteration: {}\\nJoint Vector: {}\\nEnd-Effector: \\n{}\\nError Twist Vb: {}\\nAngular Error Magnitude: {}\\nLinear Error Magnitude: {}\\n\\n'\n",
    "                     .format(i,np.array2string(thetalist, separator=','),SE,np.array2string(Vb,separator=','),\n",
    "                           eomg_n,ev_n))\n",
    "        \n",
    "    outlog.close()\n",
    "    Joint=np.append(Joint,np.array([thetalist]),axis=0)\n",
    "    Joint=np.array2string(Joint,separator=',')\n",
    "    Joint=stripbrakets(Joint)\n",
    "    outfile=open(filename+'.csv','w')\n",
    "    outfile.write(Joint)\n",
    "    return (thetalist,Joint, not err)"
   ]
  },
  {
   "cell_type": "markdown",
   "metadata": {},
   "source": [
    "## Testing Function with an Example"
   ]
  },
  {
   "cell_type": "code",
   "execution_count": 4,
   "metadata": {},
   "outputs": [],
   "source": [
    "import numpy as np\n",
    "import math\n",
    "pi=math.pi"
   ]
  },
  {
   "cell_type": "code",
   "execution_count": 5,
   "metadata": {},
   "outputs": [
    {
     "name": "stdout",
     "output_type": "stream",
     "text": [
      "iteration 0\n",
      "Joint Vector:  [0.78539816,0.78539816,0.78539816]\n",
      "End-Effector:\n",
      "[[[-0.7071 -0.7071  0.     -0.    ]\n",
      "  [ 0.7071 -0.7071  0.      2.4142]\n",
      "  [ 0.      0.      1.      0.    ]\n",
      "  [ 0.      0.      0.      1.    ]]]\n",
      "\n",
      "Iteration:  1\n",
      "Joint Vector:  [0.90699437,0.63102224,0.65768216]\n",
      "End-Effector:\n",
      "[[-0.585 -0.811  0.     0.064]\n",
      " [ 0.811 -0.585  0.     2.598]\n",
      " [ 0.     0.     1.     0.   ]\n",
      " [ 0.     0.     0.     1.   ]]\n",
      "Error Twist Vb:  [ 0.    , 0.    ,-0.    , 0.0009,-0.0156, 0.    ]\n",
      "Angular Error Magnitude:  0.0\n",
      "Linear Error Magnitude:  0.0156259399717265\n",
      "\n",
      "Iteration:  2\n",
      "Joint Vector:  [0.92436524,0.58782983,0.68350369]\n",
      "End-Effector:\n",
      "[[-0.585 -0.811  0.     0.076]\n",
      " [ 0.811 -0.585  0.     2.608]\n",
      " [ 0.     0.     1.     0.   ]\n",
      " [ 0.     0.     0.     1.   ]]\n",
      "Error Twist Vb:  [ 0.    , 0.    ,-0.    , 0.0003,-0.0004, 0.    ]\n",
      "Angular Error Magnitude:  0.0\n",
      "Linear Error Magnitude:  0.0005\n",
      "\n",
      "Iteration:  3\n",
      "Joint Vector:  [0.9252402 ,0.58610608,0.68435248]\n",
      "End-Effector:\n",
      "[[-0.585 -0.811  0.     0.076]\n",
      " [ 0.811 -0.585  0.     2.608]\n",
      " [ 0.     0.     1.     0.   ]\n",
      " [ 0.     0.     0.     1.   ]]\n",
      "Error Twist Vb:  [ 0., 0.,-0., 0., 0., 0.]\n",
      "Angular Error Magnitude:  0.0\n",
      "Linear Error Magnitude:  0.0\n",
      "\n",
      "\n",
      "[0.9252402 ,0.58610608,0.68435248]\n"
     ]
    }
   ],
   "source": [
    "BList=np.array([[0,0,1,0,3,0],\n",
    "                [0,0,1,0,2,0],\n",
    "          \n",
    "                [0,0,1,0,1,0]]).T\n",
    "M=np.array([[1,0,0,3],\n",
    "            [0,1,0,0],\n",
    "            [0,0,1,0],\n",
    "            [0,0,0,1]])\n",
    "T=np.array([[-0.585,-0.811,0,0.076],\n",
    "            [0.811,-0.585,0,2.608],\n",
    "            [0,0,1,0],\n",
    "            [0,0,0,1]])\n",
    "thetalist=np.array([pi/4,pi/4,pi/4])\n",
    "eomg=0.001\n",
    "ev=0.0001\n",
    "(thetalist,joint,sucess)=IKinBodyIterates(BList,M,T,thetalist,eomg,ev,'example','examplelog')\n",
    "print()\n",
    "print(np.array2string(thetalist, separator=','))"
   ]
  },
  {
   "cell_type": "markdown",
   "metadata": {},
   "source": [
    "## Project Calculations"
   ]
  },
  {
   "cell_type": "code",
   "execution_count": 6,
   "metadata": {},
   "outputs": [
    {
     "name": "stdout",
     "output_type": "stream",
     "text": [
      "iteration 0\n",
      "Joint Vector:  [ 6,-2, 4, 1,-2, 1]\n",
      "End-Effector:\n",
      "[[[-0.237   0.6199  0.7481 -0.2475]\n",
      "  [-0.4427  0.6165 -0.6511  0.15  ]\n",
      "  [-0.8648 -0.4855  0.1283  0.2246]\n",
      "  [ 0.      0.      0.      1.    ]]]\n",
      "\n",
      "Iteration:  1\n",
      "Joint Vector:  [ 6.46785791,-2.27641866, 4.20383133, 0.87651822,-3.31877746, 1.28269357]\n",
      "End-Effector:\n",
      "[[ 0.044  0.999  0.017 -0.455]\n",
      " [ 0.059  0.015 -0.998 -0.056]\n",
      " [-0.997  0.045 -0.058  0.131]\n",
      " [ 0.     0.     0.     1.   ]]\n",
      "Error Twist Vb:  [ 0.016 ,-0.0588,-0.0441, 0.0346,-0.0445,-0.1556]\n",
      "Angular Error Magnitude:  0.07522134005719387\n",
      "Linear Error Magnitude:  0.16549552864050435\n",
      "\n",
      "Iteration:  2\n",
      "Joint Vector:  [ 6.10195744,-2.35450846, 4.28042651, 0.54670693,-2.9721722 , 0.89110918]\n",
      "End-Effector:\n",
      "[[-0.023  0.999 -0.048 -0.471]\n",
      " [-0.104 -0.05  -0.993  0.115]\n",
      " [-0.994 -0.018  0.105  0.107]\n",
      " [ 0.     0.     0.     1.   ]]\n",
      "Error Twist Vb:  [-0.0487, 0.1043, 0.0202, 0.0077,-0.0282, 0.0153]\n",
      "Angular Error Magnitude:  0.11686838751347603\n",
      "Linear Error Magnitude:  0.032994241921886915\n",
      "\n",
      "Iteration:  3\n",
      "Joint Vector:  [ 6.14075242,-2.48005407, 4.47879229, 0.99589534,-3.03028577, 1.42178725]\n",
      "End-Effector:\n",
      "[[-0.003  0.999 -0.032 -0.494]\n",
      " [-0.016 -0.032 -0.999  0.099]\n",
      " [-1.    -0.003  0.016  0.09 ]\n",
      " [ 0.     0.     0.     1.   ]]\n",
      "Error Twist Vb:  [-0.0323, 0.0162, 0.0032,-0.0103,-0.0061,-0.0012]\n",
      "Angular Error Magnitude:  0.03627630080369276\n",
      "Linear Error Magnitude:  0.012030793822520609\n",
      "\n",
      "Iteration:  4\n",
      "Joint Vector:  [ 6.1399255 ,-2.48694128, 4.55526845, 1.11478811,-2.99993071, 1.61231606]\n",
      "End-Effector:\n",
      "[[ 0.     1.    -0.002 -0.5  ]\n",
      " [ 0.006 -0.002 -1.     0.1  ]\n",
      " [-1.     0.    -0.006  0.099]\n",
      " [ 0.     0.     0.     1.   ]]\n",
      "Error Twist Vb:  [-0.0017,-0.0059,-0.0004,-0.0013,-0.0005, 0.0002]\n",
      "Angular Error Magnitude:  0.006153048025166064\n",
      "Linear Error Magnitude:  0.0014071247279470289\n",
      "\n",
      "Iteration:  5\n",
      "Joint Vector:  [ 6.14048862,-2.48165848, 4.54393361, 1.07875222,-2.99903971, 1.57025302]\n",
      "End-Effector:\n",
      "[[ 0.   1.  -0.  -0.5]\n",
      " [-0.  -0.  -1.   0.1]\n",
      " [-1.   0.   0.   0.1]\n",
      " [ 0.   0.   0.   1. ]]\n",
      "Error Twist Vb:  [-0.0001, 0.0001,-0.    ,-0.    , 0.    ,-0.    ]\n",
      "Angular Error Magnitude:  0.0001414213562373095\n",
      "Linear Error Magnitude:  0.0\n",
      "\n",
      "[ 6.14048862,-2.48165848, 4.54393361, 1.07875222,-2.99903971, 1.57025302]\n"
     ]
    }
   ],
   "source": [
    "BList=np.array([[0,1,0,0.191,0,0.817],\n",
    "                [0,0,1,0.095,-0.817,0],\n",
    "                [0,0,1,0.095,-0.392,0],\n",
    "                [0,0,1,0.095,0,0],\n",
    "                [0,-1,0,-0.082,0,0],\n",
    "                [0,0,1,0,0,0]]).T\n",
    "\n",
    "M=np.array([[-1,0,0,0.817],\n",
    "            [0,0,1,0.191],\n",
    "            [0,1,0,-0.005],\n",
    "            [0,0,0,1]])\n",
    "\n",
    "Tsd=np.array([[0,1,0,-0.5],\n",
    "              [0,0,-1,0.1],\n",
    "              [-1,0,0,0.1],\n",
    "              [0,0,0,1]])\n",
    "\n",
    "eomg=0.001\n",
    "ev=0.0001\n",
    "thetalist=np.array([6,-2, 4, 1 ,-2, 1])\n",
    "filename='IKinBodyIterates'\n",
    "\n",
    "(thetalist, joint, sucess)=IKinBodyIterates(BList,M,Tsd,thetalist, eomg,ev,filename)\n",
    "if sucess:\n",
    "    print(np.array2string(thetalist,separator=','))\n",
    "else:\n",
    "    print('Failed To Converge')"
   ]
  }
 ],
 "metadata": {
  "kernelspec": {
   "display_name": "Python 3",
   "language": "python",
   "name": "python3"
  },
  "language_info": {
   "codemirror_mode": {
    "name": "ipython",
    "version": 3
   },
   "file_extension": ".py",
   "mimetype": "text/x-python",
   "name": "python",
   "nbconvert_exporter": "python",
   "pygments_lexer": "ipython3",
   "version": "3.8.5"
  }
 },
 "nbformat": 4,
 "nbformat_minor": 4
}
