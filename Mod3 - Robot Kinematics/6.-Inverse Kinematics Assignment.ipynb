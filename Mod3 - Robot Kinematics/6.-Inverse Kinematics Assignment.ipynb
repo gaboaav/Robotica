{
 "cells": [
  {
   "cell_type": "code",
   "execution_count": 1,
   "metadata": {},
   "outputs": [],
   "source": [
    "import numpy as np\n",
    "from numpy import linalg as LA\n",
    "import modern_robotics as mr\n",
    "import math\n",
    "pi=math.pi"
   ]
  },
  {
   "cell_type": "code",
   "execution_count": 2,
   "metadata": {},
   "outputs": [],
   "source": [
    "def functions(var):\n",
    "    return np.array([var[0]**2-9, var[1]**2-4])\n",
    "\n",
    "def jacobian(var):\n",
    "    return np.array([[2*var[0], 0], [0, 2*var[1]]])"
   ]
  },
  {
   "cell_type": "markdown",
   "metadata": {},
   "source": [
    "# Inverse Kinematics Assignment"
   ]
  },
  {
   "cell_type": "markdown",
   "metadata": {},
   "source": [
    "1. Use Newton-Raphson iterative numerical root finding to perform two steps of finding the root of <br><br>\n",
    "$f(x,y)=\\begin{vmatrix} x^2-9 \\\\ y^2-4 \\end{vmatrix}$<br><br>\n",
    "When your initial guess is $(x^0,y^0)=(1,1)$. Give the result after two iterations $(x^2,y^2)$."
   ]
  },
  {
   "cell_type": "code",
   "execution_count": 3,
   "metadata": {},
   "outputs": [
    {
     "name": "stdout",
     "output_type": "stream",
     "text": [
      "[3.4  2.05]\n"
     ]
    }
   ],
   "source": [
    "count=0\n",
    "var=[1,1]\n",
    "while (count<2):\n",
    "    count+=1\n",
    "    var=var-np.dot(LA.inv(jacobian(var)),functions(var))\n",
    "print(var)"
   ]
  },
  {
   "cell_type": "markdown",
   "metadata": {},
   "source": [
    "2. "
   ]
  },
  {
   "cell_type": "markdown",
   "metadata": {},
   "source": [
    "<img src='img/Img19.png'>"
   ]
  },
  {
   "cell_type": "markdown",
   "metadata": {},
   "source": [
    "Find the joint angles $\\theta_d=(\\theta_1,\\theta_2,\\theta_3)$ that put the 3R robot's end-effector frame {b} at"
   ]
  },
  {
   "cell_type": "markdown",
   "metadata": {},
   "source": [
    "<center>\n",
    "    $T(\\theta_d)=T_{sd}=\\begin{vmatrix} -0.585 & -0.811 & 0 & 0.076\\\\ 0.811 & -0.585 & 0 & 2.608\\\\ 0 & 0 & 1 & 0\\\\ 0 & 0 & 0 & 1\\end{vmatrix}$\n",
    "</center>"
   ]
  },
  {
   "cell_type": "markdown",
   "metadata": {},
   "source": [
    "relative to the {s} frame, where linear distanes are in meters. The robot is shown at its home configuration, and the screw axis for each joint points toward you. The length of each link is 1 meter. The initial guess $\\theta^0=(\\pi/4,\\pi/4, \\pi/4)$, and tolerances $\\epsilon_w=0.001$ and $\\epsilon_v=0.0001$."
   ]
  },
  {
   "cell_type": "code",
   "execution_count": 4,
   "metadata": {},
   "outputs": [
    {
     "name": "stdout",
     "output_type": "stream",
     "text": [
      "\n",
      "Question 2:\n",
      " [0.93,0.59,0.68]\n"
     ]
    }
   ],
   "source": [
    "Blist = np.array([[ 0, 0, 1, 0, 3, 0],\n",
    "                  [ 0, 0, 1, 0, 2, 0],\n",
    "                  [ 0, 0, 1, 0, 1, 0]]).T\n",
    "M = np.array([[ 1, 0, 0, 3],\n",
    "              [ 0, 1, 0, 0],\n",
    "              [ 0, 0, 1, 0],\n",
    "              [ 0, 0, 0, 1]])\n",
    "T = np.array([[-0.585, -0.811, 0, 0.076],\n",
    "              [ 0.811, -0.585, 0, 2.608],\n",
    "              [ 0    ,  0    , 1, 0.   ],\n",
    "              [ 0    ,  0.   , 0, 1.   ]])\n",
    "thetalist0 = np.array([pi/4, pi/4, pi/4])\n",
    "eomg = 0.001\n",
    "ev = 0.0001\n",
    "\n",
    "(thetalist, success) = mr.IKinBody(Blist, M, T, thetalist0, eomg, ev)\n",
    "\n",
    "if(success):\n",
    "    thetalist = np.around(thetalist, decimals=2)\n",
    "    print(\"\\nQuestion 2:\\n\", np.array2string(thetalist, separator=','))\n",
    "else:\n",
    "    print(\"\\nQuestion 2:\\n\", \"Function \\'IKinBody\\' failed to converge.\")"
   ]
  }
 ],
 "metadata": {
  "kernelspec": {
   "display_name": "Python 3",
   "language": "python",
   "name": "python3"
  },
  "language_info": {
   "codemirror_mode": {
    "name": "ipython",
    "version": 3
   },
   "file_extension": ".py",
   "mimetype": "text/x-python",
   "name": "python",
   "nbconvert_exporter": "python",
   "pygments_lexer": "ipython3",
   "version": "3.8.5"
  }
 },
 "nbformat": 4,
 "nbformat_minor": 4
}
