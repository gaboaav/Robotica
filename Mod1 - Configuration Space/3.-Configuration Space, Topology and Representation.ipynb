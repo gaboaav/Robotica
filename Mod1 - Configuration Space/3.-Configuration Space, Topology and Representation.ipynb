{
 "cells": [
  {
   "cell_type": "markdown",
   "metadata": {},
   "source": [
    "# Configuration Space: Topology and Representation"
   ]
  },
  {
   "cell_type": "markdown",
   "metadata": {},
   "source": [
    "## Configuration Space Topology"
   ]
  },
  {
   "cell_type": "markdown",
   "metadata": {},
   "source": [
    "We say 2 spaces are topologically equivalent, if one can be continuosly deformed into the other without cutting or gluing.\n",
    "\n",
    "<br>\n",
    "Topologically distincy one-dimensional spaces include the circle, line and a closed interval of the line. The circle is written mathematically as 'S', a one-dimensional \"sphere\". The line can be written as 'E'; often represented by 'R', indicating a one-dimensional Euclidean Space. A closed interval of the line, which contains its endpoints, can be written [a,b] $\\subset$ R.\n",
    "\n",
    "<br>\n",
    "<br>\n",
    "Note that the topology of a space is a fundamental property of the space itself and is independent of how we choose coordinates to represent points in the space. No matter what our choice of coordinates is, the space itself does not change.\n",
    "\n",
    "<br>\n",
    "<br>\n",
    "Some C-Spaces can be expressed as the Cartessian product of two or mor spaces of lower dimensions; points in such a C-Space can be represented as the union of the representations of points in the lower-dimensional spaces."
   ]
  },
  {
   "cell_type": "markdown",
   "metadata": {},
   "source": [
    "<li>The C-Space of a rigid body in the plane can be written as $\\ R^2 x S$, since the configurarion can be represented as the concatenation of the coordinates (x,y) and an angle $\\theta$</li>\n",
    "<li>The C-Space of a planar rigid body with a 2R robot arm can be written as $ R^2 x S x T^3 = R^2 x T^3$</li>"
   ]
  },
  {
   "cell_type": "markdown",
   "metadata": {},
   "source": [
    "## Configuration Space Representation"
   ]
  },
  {
   "cell_type": "markdown",
   "metadata": {},
   "source": [
    "<img src=\"img/Img7.png\">"
   ]
  },
  {
   "cell_type": "markdown",
   "metadata": {},
   "source": [
    "While it is natural to choose a reference frame and lenght scale and to use a vector to represent points in a Euclidean Space, representing a point on a curved space is less obvious. A choice of 'n' coordinates to represent an n-dimensional space is called an explicit parametrization of the space. Such an explicit parametrization is valid for a particular range of parameters."
   ]
  },
  {
   "cell_type": "markdown",
   "metadata": {},
   "source": [
    "**Example: Sphere ([-90,90]lat x [-180,180]lon)**"
   ]
  },
  {
   "cell_type": "markdown",
   "metadata": {},
   "source": [
    "The poles of a sphere are singularities of representation, and the existence of singularities is a result of the fact that a sphere does not have the same topology as a plane. The location of these sigularities has nothing to do with the sphere itself. Singularities of the parametrization are particularly problematic when representing velocities as the time rate of change of coordinates, since these representations may tend to infinity near singularities even if the point on the sphere is moving at a constant speed '$\\sqrt{\\dot{x}^2 + \\dot{y}^2 + \\dot{z}^2}$'. There are 2 ways to overcome the problem:"
   ]
  },
  {
   "cell_type": "markdown",
   "metadata": {},
   "source": [
    "<li>Use more than one coordinate chart on the space, where each coordinate chart is an explicit parametrization covering only a portion of the space such that there is no singularity</li>\n",
    "<li>Use an implicit representation instead of an explicit parametrization. An implicit representation views the n-dimensional space as embeded in a Euclidean space of more than 'n' dimensions, such as a 2D unit sphere can be viewed as a surface embedded in a 3D Euclidean space. An implicit representation uses the coordinates of the higher-dimensional space, but subjects these coordinates to constraints that reduce the number of DOF</li>"
   ]
  }
 ],
 "metadata": {
  "kernelspec": {
   "display_name": "Python 3",
   "language": "python",
   "name": "python3"
  },
  "language_info": {
   "codemirror_mode": {
    "name": "ipython",
    "version": 3
   },
   "file_extension": ".py",
   "mimetype": "text/x-python",
   "name": "python",
   "nbconvert_exporter": "python",
   "pygments_lexer": "ipython3",
   "version": "3.8.5"
  }
 },
 "nbformat": 4,
 "nbformat_minor": 4
}
